{
 "cells": [
  {
   "attachments": {},
   "cell_type": "markdown",
   "metadata": {},
   "source": [
    "### Notebook to format 10X Genomics GEX to anndata for project `Kdm6aKO`\n",
    "\n",
    "- **Developed by:** Carlos Talavera-López Ph.D\n",
    "- **Würzburg Institute for Systems Immunology & Julius-Maximilian-Universität Würzburg**\n",
    "- **Created on**: 231207\n",
    "- **Last modified**: 240101"
   ]
  },
  {
   "attachments": {},
   "cell_type": "markdown",
   "metadata": {},
   "source": [
    "### Import required modules"
   ]
  },
  {
   "cell_type": "code",
   "execution_count": 37,
   "metadata": {},
   "outputs": [],
   "source": [
    "import anndata\n",
    "import numpy as np\n",
    "import scanpy as sc\n",
    "import pandas as pd\n",
    "import matplotlib.pyplot as plt"
   ]
  },
  {
   "attachments": {},
   "cell_type": "markdown",
   "metadata": {},
   "source": [
    "### Set up working environment"
   ]
  },
  {
   "cell_type": "code",
   "execution_count": 38,
   "metadata": {},
   "outputs": [
    {
     "name": "stdout",
     "output_type": "stream",
     "text": [
      "-----\n",
      "anndata     0.10.5.post1\n",
      "scanpy      1.9.8\n",
      "-----\n",
      "PIL                 10.2.0\n",
      "asttokens           NA\n",
      "colorama            0.4.6\n",
      "comm                0.2.1\n",
      "cycler              0.12.1\n",
      "cython_runtime      NA\n",
      "dateutil            2.9.0\n",
      "debugpy             1.8.1\n",
      "decorator           5.1.1\n",
      "exceptiongroup      1.2.0\n",
      "executing           2.0.1\n",
      "h5py                3.10.0\n",
      "ipykernel           6.29.3\n",
      "jedi                0.19.1\n",
      "joblib              1.3.2\n",
      "kiwisolver          1.4.5\n",
      "llvmlite            0.42.0\n",
      "matplotlib          3.8.3\n",
      "mpl_toolkits        NA\n",
      "natsort             8.4.0\n",
      "numba               0.59.0\n",
      "numpy               1.26.4\n",
      "packaging           23.2\n",
      "pandas              2.2.1\n",
      "parso               0.8.3\n",
      "pickleshare         0.7.5\n",
      "platformdirs        4.2.0\n",
      "prompt_toolkit      3.0.42\n",
      "psutil              5.9.8\n",
      "pure_eval           0.2.2\n",
      "pydev_ipython       NA\n",
      "pydevconsole        NA\n",
      "pydevd              2.9.5\n",
      "pydevd_file_utils   NA\n",
      "pydevd_plugins      NA\n",
      "pydevd_tracing      NA\n",
      "pygments            2.17.2\n",
      "pyparsing           3.1.2\n",
      "pytz                2024.1\n",
      "scipy               1.12.0\n",
      "session_info        1.0.0\n",
      "six                 1.16.0\n",
      "sklearn             1.4.1.post1\n",
      "stack_data          0.6.2\n",
      "threadpoolctl       3.3.0\n",
      "tornado             6.4\n",
      "traitlets           5.14.1\n",
      "typing_extensions   NA\n",
      "wcwidth             0.2.13\n",
      "zmq                 25.1.2\n",
      "zoneinfo            NA\n",
      "-----\n",
      "IPython             8.22.2\n",
      "jupyter_client      8.6.0\n",
      "jupyter_core        5.7.1\n",
      "-----\n",
      "Python 3.10.13 | packaged by conda-forge | (main, Dec 23 2023, 15:36:39) [GCC 12.3.0]\n",
      "Linux-6.6.14-100.fc38.x86_64-x86_64-with-glibc2.37\n",
      "-----\n",
      "Session information updated at 2024-03-07 12:34\n"
     ]
    }
   ],
   "source": [
    "sc.settings.verbosity = 3\n",
    "sc.logging.print_versions()\n",
    "sc.settings.set_figure_params(dpi = 180, color_map = 'magma_r', dpi_save = 300, vector_friendly = True, format = 'svg')"
   ]
  },
  {
   "cell_type": "code",
   "execution_count": 39,
   "metadata": {},
   "outputs": [],
   "source": [
    "def X_is_raw(adata):\n",
    "    return np.array_equal(adata.X.sum(axis=0).astype(int), adata.X.sum(axis = 0))"
   ]
  },
  {
   "attachments": {},
   "cell_type": "markdown",
   "metadata": {},
   "source": [
    "### Read in samples"
   ]
  },
  {
   "cell_type": "code",
   "execution_count": 40,
   "metadata": {},
   "outputs": [],
   "source": [
    "directory = \"../../../../INBOX/becker_kdm6a/cellbender/\""
   ]
  },
  {
   "cell_type": "code",
   "execution_count": 29,
   "metadata": {},
   "outputs": [
    {
     "data": {
      "text/html": [
       "<div>\n",
       "<style scoped>\n",
       "    .dataframe tbody tr th:only-of-type {\n",
       "        vertical-align: middle;\n",
       "    }\n",
       "\n",
       "    .dataframe tbody tr th {\n",
       "        vertical-align: top;\n",
       "    }\n",
       "\n",
       "    .dataframe thead th {\n",
       "        text-align: right;\n",
       "    }\n",
       "</style>\n",
       "<table border=\"1\" class=\"dataframe\">\n",
       "  <thead>\n",
       "    <tr style=\"text-align: right;\">\n",
       "      <th></th>\n",
       "      <th>genotype</th>\n",
       "      <th>group</th>\n",
       "      <th>file</th>\n",
       "    </tr>\n",
       "    <tr>\n",
       "      <th>sample_id</th>\n",
       "      <th></th>\n",
       "      <th></th>\n",
       "      <th></th>\n",
       "    </tr>\n",
       "  </thead>\n",
       "  <tbody>\n",
       "    <tr>\n",
       "      <th>KDM6A_wt_11</th>\n",
       "      <td>WT</td>\n",
       "      <td>KDM6A</td>\n",
       "      <td>SCC0203_1_Becker_multiome_D11_A2_outs</td>\n",
       "    </tr>\n",
       "    <tr>\n",
       "      <th>KDM6A_wt_40</th>\n",
       "      <td>WT</td>\n",
       "      <td>KDM6A</td>\n",
       "      <td>SCC0203_2_Becker_multiome_E7_A5_nb40_outs</td>\n",
       "    </tr>\n",
       "    <tr>\n",
       "      <th>KDM6A_KO_34</th>\n",
       "      <td>KO</td>\n",
       "      <td>KDM6A</td>\n",
       "      <td>SCC0203_2_Becker_multiome_E5_A3_nb27_outs</td>\n",
       "    </tr>\n",
       "    <tr>\n",
       "      <th>KDM6A_KO_31</th>\n",
       "      <td>KO</td>\n",
       "      <td>KDM6A</td>\n",
       "      <td>SCC0203_2_Becker_multiome_E6_A4_nb31_outs</td>\n",
       "    </tr>\n",
       "    <tr>\n",
       "      <th>GSKJ4_sham_51</th>\n",
       "      <td>sham</td>\n",
       "      <td>GSKJ4</td>\n",
       "      <td>SCC0203_4_Becker_multiome_2_D6_B6_nb51</td>\n",
       "    </tr>\n",
       "    <tr>\n",
       "      <th>GSKJ4_sham_57</th>\n",
       "      <td>sham</td>\n",
       "      <td>GSKJ4</td>\n",
       "      <td>None</td>\n",
       "    </tr>\n",
       "    <tr>\n",
       "      <th>GSKJ4_treat_47</th>\n",
       "      <td>treated</td>\n",
       "      <td>GSKJ4</td>\n",
       "      <td>None</td>\n",
       "    </tr>\n",
       "    <tr>\n",
       "      <th>GSKJ4_treat_52</th>\n",
       "      <td>treated</td>\n",
       "      <td>GSKJ4</td>\n",
       "      <td>None</td>\n",
       "    </tr>\n",
       "  </tbody>\n",
       "</table>\n",
       "</div>"
      ],
      "text/plain": [
       "               genotype  group                                       file\n",
       "sample_id                                                                \n",
       "KDM6A_wt_11          WT  KDM6A      SCC0203_1_Becker_multiome_D11_A2_outs\n",
       "KDM6A_wt_40          WT  KDM6A  SCC0203_2_Becker_multiome_E7_A5_nb40_outs\n",
       "KDM6A_KO_34          KO  KDM6A  SCC0203_2_Becker_multiome_E5_A3_nb27_outs\n",
       "KDM6A_KO_31          KO  KDM6A  SCC0203_2_Becker_multiome_E6_A4_nb31_outs\n",
       "GSKJ4_sham_51      sham  GSKJ4     SCC0203_4_Becker_multiome_2_D6_B6_nb51\n",
       "GSKJ4_sham_57      sham  GSKJ4                                       None\n",
       "GSKJ4_treat_47  treated  GSKJ4                                       None\n",
       "GSKJ4_treat_52  treated  GSKJ4                                       None"
      ]
     },
     "execution_count": 29,
     "metadata": {},
     "output_type": "execute_result"
    }
   ],
   "source": [
    "metadata_dict = {\n",
    "    \"KDM6A_wt_11\":\t    (\"WT\",      \"KDM6A\",    \"SCC0203_1_Becker_multiome_D11_A2_outs\"),\n",
    "    \"KDM6A_wt_40\":\t    [\"WT\",\t    \"KDM6A\",\t\"SCC0203_2_Becker_multiome_E7_A5_nb40_outs\"],\n",
    "    \"KDM6A_KO_34\":\t    [\"KO\",\t    \"KDM6A\",    \"SCC0203_2_Becker_multiome_E5_A3_nb27_outs\"],\n",
    "    \"KDM6A_KO_31\":\t    [\"KO\",\t    \"KDM6A\",    \"SCC0203_2_Becker_multiome_E6_A4_nb31_outs\"],\n",
    "    \"GSKJ4_sham_51\":\t[\"sham\",    \"GSKJ4\",    \"SCC0203_4_Becker_multiome_2_D6_B6_nb51\"],\n",
    "    \"GSKJ4_sham_57\":    [\"sham\",    \"GSKJ4\"],\n",
    "    \"GSKJ4_treat_47\":   [\"treated\", \"GSKJ4\"],\n",
    "    \"GSKJ4_treat_52\":   [\"treated\", \"GSKJ4\"],\n",
    "}\n",
    "sample_metadata = pd.DataFrame.from_dict(metadata_dict, orient=\"index\", columns=[\"genotype\", \"group\", \"file\"])\n",
    "sample_metadata.index.name = \"sample_id\"\n",
    "sample_metadata"
   ]
  },
  {
   "cell_type": "code",
   "execution_count": 28,
   "metadata": {},
   "outputs": [],
   "source": [
    "#sample_metadata = pd.read_csv('../data/samples.txt', sep = ',', index_col = 0) \n",
    "#sample_metadata.set_index('sample_id', inplace = True)\n",
    "#sample_metadata.head()"
   ]
  },
  {
   "cell_type": "code",
   "execution_count": 30,
   "metadata": {},
   "outputs": [
    {
     "data": {
      "text/plain": [
       "Index(['KDM6A_wt_11', 'KDM6A_wt_40', 'KDM6A_KO_34', 'KDM6A_KO_31',\n",
       "       'GSKJ4_sham_51', 'GSKJ4_sham_57', 'GSKJ4_treat_47', 'GSKJ4_treat_52'],\n",
       "      dtype='object', name='sample_id')"
      ]
     },
     "execution_count": 30,
     "metadata": {},
     "output_type": "execute_result"
    }
   ],
   "source": [
    "filenames = sample_metadata.index\n",
    "filenames"
   ]
  },
  {
   "cell_type": "code",
   "execution_count": 32,
   "metadata": {},
   "outputs": [
    {
     "name": "stderr",
     "output_type": "stream",
     "text": [
      "/home/ceger/miniforge3/envs/heart_multiome-env/lib/python3.10/site-packages/anndata/_core/anndata.py:1908: UserWarning: Variable names are not unique. To make them unique, call `.var_names_make_unique`.\n",
      "  utils.warn_names_duplicates(\"var\")\n",
      "/home/ceger/miniforge3/envs/heart_multiome-env/lib/python3.10/site-packages/anndata/_core/anndata.py:1908: UserWarning: Variable names are not unique. To make them unique, call `.var_names_make_unique`.\n",
      "  utils.warn_names_duplicates(\"var\")\n",
      "/home/ceger/miniforge3/envs/heart_multiome-env/lib/python3.10/site-packages/anndata/_core/anndata.py:1908: UserWarning: Variable names are not unique. To make them unique, call `.var_names_make_unique`.\n",
      "  utils.warn_names_duplicates(\"var\")\n",
      "/home/ceger/miniforge3/envs/heart_multiome-env/lib/python3.10/site-packages/anndata/_core/anndata.py:1908: UserWarning: Variable names are not unique. To make them unique, call `.var_names_make_unique`.\n",
      "  utils.warn_names_duplicates(\"var\")\n",
      "/home/ceger/miniforge3/envs/heart_multiome-env/lib/python3.10/site-packages/anndata/_core/anndata.py:1908: UserWarning: Variable names are not unique. To make them unique, call `.var_names_make_unique`.\n",
      "  utils.warn_names_duplicates(\"var\")\n",
      "/home/ceger/miniforge3/envs/heart_multiome-env/lib/python3.10/site-packages/anndata/_core/anndata.py:1908: UserWarning: Variable names are not unique. To make them unique, call `.var_names_make_unique`.\n",
      "  utils.warn_names_duplicates(\"var\")\n",
      "/home/ceger/miniforge3/envs/heart_multiome-env/lib/python3.10/site-packages/anndata/_core/anndata.py:1908: UserWarning: Variable names are not unique. To make them unique, call `.var_names_make_unique`.\n",
      "  utils.warn_names_duplicates(\"var\")\n",
      "/home/ceger/miniforge3/envs/heart_multiome-env/lib/python3.10/site-packages/anndata/_core/anndata.py:1908: UserWarning: Variable names are not unique. To make them unique, call `.var_names_make_unique`.\n",
      "  utils.warn_names_duplicates(\"var\")\n",
      "/home/ceger/miniforge3/envs/heart_multiome-env/lib/python3.10/site-packages/anndata/_core/anndata.py:1908: UserWarning: Variable names are not unique. To make them unique, call `.var_names_make_unique`.\n",
      "  utils.warn_names_duplicates(\"var\")\n",
      "/home/ceger/miniforge3/envs/heart_multiome-env/lib/python3.10/site-packages/anndata/_core/anndata.py:1908: UserWarning: Variable names are not unique. To make them unique, call `.var_names_make_unique`.\n",
      "  utils.warn_names_duplicates(\"var\")\n",
      "/home/ceger/miniforge3/envs/heart_multiome-env/lib/python3.10/site-packages/anndata/_core/anndata.py:1908: UserWarning: Variable names are not unique. To make them unique, call `.var_names_make_unique`.\n",
      "  utils.warn_names_duplicates(\"var\")\n",
      "/home/ceger/miniforge3/envs/heart_multiome-env/lib/python3.10/site-packages/anndata/_core/anndata.py:1908: UserWarning: Variable names are not unique. To make them unique, call `.var_names_make_unique`.\n",
      "  utils.warn_names_duplicates(\"var\")\n",
      "/home/ceger/miniforge3/envs/heart_multiome-env/lib/python3.10/site-packages/anndata/_core/anndata.py:1908: UserWarning: Variable names are not unique. To make them unique, call `.var_names_make_unique`.\n",
      "  utils.warn_names_duplicates(\"var\")\n",
      "/home/ceger/miniforge3/envs/heart_multiome-env/lib/python3.10/site-packages/anndata/_core/anndata.py:1908: UserWarning: Variable names are not unique. To make them unique, call `.var_names_make_unique`.\n",
      "  utils.warn_names_duplicates(\"var\")\n",
      "/home/ceger/miniforge3/envs/heart_multiome-env/lib/python3.10/site-packages/anndata/_core/anndata.py:1908: UserWarning: Variable names are not unique. To make them unique, call `.var_names_make_unique`.\n",
      "  utils.warn_names_duplicates(\"var\")\n",
      "/home/ceger/miniforge3/envs/heart_multiome-env/lib/python3.10/site-packages/anndata/_core/anndata.py:1908: UserWarning: Variable names are not unique. To make them unique, call `.var_names_make_unique`.\n",
      "  utils.warn_names_duplicates(\"var\")\n",
      "/tmp/ipykernel_1006737/2756826184.py:6: FutureWarning: Series.__getitem__ treating keys as positions is deprecated. In a future version, integer keys will always be treated as labels (consistent with DataFrame behavior). To access a value by position, use `ser.iloc[pos]`\n",
      "  adatas[i].obs[col] = sample_metadata[col][i]\n",
      "/tmp/ipykernel_1006737/2756826184.py:6: FutureWarning: Series.__getitem__ treating keys as positions is deprecated. In a future version, integer keys will always be treated as labels (consistent with DataFrame behavior). To access a value by position, use `ser.iloc[pos]`\n",
      "  adatas[i].obs[col] = sample_metadata[col][i]\n",
      "/tmp/ipykernel_1006737/2756826184.py:6: FutureWarning: Series.__getitem__ treating keys as positions is deprecated. In a future version, integer keys will always be treated as labels (consistent with DataFrame behavior). To access a value by position, use `ser.iloc[pos]`\n",
      "  adatas[i].obs[col] = sample_metadata[col][i]\n",
      "/tmp/ipykernel_1006737/2756826184.py:6: FutureWarning: Series.__getitem__ treating keys as positions is deprecated. In a future version, integer keys will always be treated as labels (consistent with DataFrame behavior). To access a value by position, use `ser.iloc[pos]`\n",
      "  adatas[i].obs[col] = sample_metadata[col][i]\n",
      "/tmp/ipykernel_1006737/2756826184.py:6: FutureWarning: Series.__getitem__ treating keys as positions is deprecated. In a future version, integer keys will always be treated as labels (consistent with DataFrame behavior). To access a value by position, use `ser.iloc[pos]`\n",
      "  adatas[i].obs[col] = sample_metadata[col][i]\n",
      "/tmp/ipykernel_1006737/2756826184.py:6: FutureWarning: Series.__getitem__ treating keys as positions is deprecated. In a future version, integer keys will always be treated as labels (consistent with DataFrame behavior). To access a value by position, use `ser.iloc[pos]`\n",
      "  adatas[i].obs[col] = sample_metadata[col][i]\n",
      "/tmp/ipykernel_1006737/2756826184.py:6: FutureWarning: Series.__getitem__ treating keys as positions is deprecated. In a future version, integer keys will always be treated as labels (consistent with DataFrame behavior). To access a value by position, use `ser.iloc[pos]`\n",
      "  adatas[i].obs[col] = sample_metadata[col][i]\n",
      "/tmp/ipykernel_1006737/2756826184.py:6: FutureWarning: Series.__getitem__ treating keys as positions is deprecated. In a future version, integer keys will always be treated as labels (consistent with DataFrame behavior). To access a value by position, use `ser.iloc[pos]`\n",
      "  adatas[i].obs[col] = sample_metadata[col][i]\n",
      "/tmp/ipykernel_1006737/2756826184.py:6: FutureWarning: Series.__getitem__ treating keys as positions is deprecated. In a future version, integer keys will always be treated as labels (consistent with DataFrame behavior). To access a value by position, use `ser.iloc[pos]`\n",
      "  adatas[i].obs[col] = sample_metadata[col][i]\n",
      "/tmp/ipykernel_1006737/2756826184.py:6: FutureWarning: Series.__getitem__ treating keys as positions is deprecated. In a future version, integer keys will always be treated as labels (consistent with DataFrame behavior). To access a value by position, use `ser.iloc[pos]`\n",
      "  adatas[i].obs[col] = sample_metadata[col][i]\n",
      "/tmp/ipykernel_1006737/2756826184.py:6: FutureWarning: Series.__getitem__ treating keys as positions is deprecated. In a future version, integer keys will always be treated as labels (consistent with DataFrame behavior). To access a value by position, use `ser.iloc[pos]`\n",
      "  adatas[i].obs[col] = sample_metadata[col][i]\n",
      "/tmp/ipykernel_1006737/2756826184.py:6: FutureWarning: Series.__getitem__ treating keys as positions is deprecated. In a future version, integer keys will always be treated as labels (consistent with DataFrame behavior). To access a value by position, use `ser.iloc[pos]`\n",
      "  adatas[i].obs[col] = sample_metadata[col][i]\n",
      "/tmp/ipykernel_1006737/2756826184.py:6: FutureWarning: Series.__getitem__ treating keys as positions is deprecated. In a future version, integer keys will always be treated as labels (consistent with DataFrame behavior). To access a value by position, use `ser.iloc[pos]`\n",
      "  adatas[i].obs[col] = sample_metadata[col][i]\n",
      "/tmp/ipykernel_1006737/2756826184.py:6: FutureWarning: Series.__getitem__ treating keys as positions is deprecated. In a future version, integer keys will always be treated as labels (consistent with DataFrame behavior). To access a value by position, use `ser.iloc[pos]`\n",
      "  adatas[i].obs[col] = sample_metadata[col][i]\n",
      "/tmp/ipykernel_1006737/2756826184.py:6: FutureWarning: Series.__getitem__ treating keys as positions is deprecated. In a future version, integer keys will always be treated as labels (consistent with DataFrame behavior). To access a value by position, use `ser.iloc[pos]`\n",
      "  adatas[i].obs[col] = sample_metadata[col][i]\n",
      "/tmp/ipykernel_1006737/2756826184.py:6: FutureWarning: Series.__getitem__ treating keys as positions is deprecated. In a future version, integer keys will always be treated as labels (consistent with DataFrame behavior). To access a value by position, use `ser.iloc[pos]`\n",
      "  adatas[i].obs[col] = sample_metadata[col][i]\n",
      "/tmp/ipykernel_1006737/2756826184.py:6: FutureWarning: Series.__getitem__ treating keys as positions is deprecated. In a future version, integer keys will always be treated as labels (consistent with DataFrame behavior). To access a value by position, use `ser.iloc[pos]`\n",
      "  adatas[i].obs[col] = sample_metadata[col][i]\n",
      "/tmp/ipykernel_1006737/2756826184.py:6: FutureWarning: Series.__getitem__ treating keys as positions is deprecated. In a future version, integer keys will always be treated as labels (consistent with DataFrame behavior). To access a value by position, use `ser.iloc[pos]`\n",
      "  adatas[i].obs[col] = sample_metadata[col][i]\n",
      "/tmp/ipykernel_1006737/2756826184.py:6: FutureWarning: Series.__getitem__ treating keys as positions is deprecated. In a future version, integer keys will always be treated as labels (consistent with DataFrame behavior). To access a value by position, use `ser.iloc[pos]`\n",
      "  adatas[i].obs[col] = sample_metadata[col][i]\n",
      "/tmp/ipykernel_1006737/2756826184.py:6: FutureWarning: Series.__getitem__ treating keys as positions is deprecated. In a future version, integer keys will always be treated as labels (consistent with DataFrame behavior). To access a value by position, use `ser.iloc[pos]`\n",
      "  adatas[i].obs[col] = sample_metadata[col][i]\n",
      "/tmp/ipykernel_1006737/2756826184.py:6: FutureWarning: Series.__getitem__ treating keys as positions is deprecated. In a future version, integer keys will always be treated as labels (consistent with DataFrame behavior). To access a value by position, use `ser.iloc[pos]`\n",
      "  adatas[i].obs[col] = sample_metadata[col][i]\n",
      "/tmp/ipykernel_1006737/2756826184.py:6: FutureWarning: Series.__getitem__ treating keys as positions is deprecated. In a future version, integer keys will always be treated as labels (consistent with DataFrame behavior). To access a value by position, use `ser.iloc[pos]`\n",
      "  adatas[i].obs[col] = sample_metadata[col][i]\n",
      "/tmp/ipykernel_1006737/2756826184.py:6: FutureWarning: Series.__getitem__ treating keys as positions is deprecated. In a future version, integer keys will always be treated as labels (consistent with DataFrame behavior). To access a value by position, use `ser.iloc[pos]`\n",
      "  adatas[i].obs[col] = sample_metadata[col][i]\n",
      "/tmp/ipykernel_1006737/2756826184.py:6: FutureWarning: Series.__getitem__ treating keys as positions is deprecated. In a future version, integer keys will always be treated as labels (consistent with DataFrame behavior). To access a value by position, use `ser.iloc[pos]`\n",
      "  adatas[i].obs[col] = sample_metadata[col][i]\n",
      "/tmp/ipykernel_1006737/2756826184.py:7: FutureWarning: Use anndata.concat instead of AnnData.concatenate, AnnData.concatenate is deprecated and will be removed in the future. See the tutorial for concat at: https://anndata.readthedocs.io/en/latest/concatenation.html\n",
      "  adata_1 = adatas[0].concatenate(adatas[1:], batch_categories = sample_metadata.index)\n"
     ]
    },
    {
     "data": {
      "text/plain": [
       "(5782594, 32285)"
      ]
     },
     "execution_count": 32,
     "metadata": {},
     "output_type": "execute_result"
    }
   ],
   "source": [
    "adatas = [sc.read_10x_h5(directory + filename + '/' + filename + '_CB_ctl240101.raw.h5') for filename in filenames]\n",
    "for i in range(len(adatas)):\n",
    "    adatas[i].var_names_make_unique()\n",
    "    adatas[i].obs['sample'] = sample_metadata.index[i]\n",
    "    for col in sample_metadata.columns:\n",
    "        adatas[i].obs[col] = sample_metadata[col][i]\n",
    "adata_1 = adatas[0].concatenate(adatas[1:], batch_categories = sample_metadata.index)\n",
    "adata_1.shape"
   ]
  },
  {
   "cell_type": "code",
   "execution_count": 33,
   "metadata": {},
   "outputs": [
    {
     "data": {
      "text/plain": [
       "AnnData object with n_obs × n_vars = 5782594 × 32285\n",
       "    obs: 'sample', 'genotype', 'group', 'file', 'batch'\n",
       "    var: 'gene_ids', 'feature_types', 'genome'"
      ]
     },
     "execution_count": 33,
     "metadata": {},
     "output_type": "execute_result"
    }
   ],
   "source": [
    "adata_1"
   ]
  },
  {
   "cell_type": "code",
   "execution_count": 34,
   "metadata": {},
   "outputs": [],
   "source": [
    "adata_1.var['modality'] = 'GEX'"
   ]
  },
  {
   "cell_type": "code",
   "execution_count": 35,
   "metadata": {},
   "outputs": [
    {
     "data": {
      "text/plain": [
       "Index(['KO', 'WT', 'sham', 'treated'], dtype='object')"
      ]
     },
     "execution_count": 35,
     "metadata": {},
     "output_type": "execute_result"
    }
   ],
   "source": [
    "adata_1.obs['genotype'] = adata_1.obs['genotype'].astype('category')\n",
    "adata_1.obs['genotype'].cat.categories"
   ]
  },
  {
   "cell_type": "code",
   "execution_count": 41,
   "metadata": {},
   "outputs": [
    {
     "data": {
      "text/plain": [
       "True"
      ]
     },
     "execution_count": 41,
     "metadata": {},
     "output_type": "execute_result"
    }
   ],
   "source": [
    "X_is_raw(adata_1)"
   ]
  },
  {
   "cell_type": "code",
   "execution_count": 42,
   "metadata": {},
   "outputs": [
    {
     "data": {
      "text/plain": [
       "modality\n",
       "GEX    32285\n",
       "Name: count, dtype: int64"
      ]
     },
     "execution_count": 42,
     "metadata": {},
     "output_type": "execute_result"
    }
   ],
   "source": [
    "adata_1.var.modality.value_counts()"
   ]
  },
  {
   "cell_type": "markdown",
   "metadata": {},
   "source": [
    "### Save merged object"
   ]
  },
  {
   "cell_type": "code",
   "execution_count": 43,
   "metadata": {},
   "outputs": [],
   "source": [
    "adata_1.write('../data/Kdm6aKO_ALL_GEX-CB_ctl240116.raw.h5ad')"
   ]
  }
 ],
 "metadata": {
  "kernelspec": {
   "display_name": "Python 3.8.14 ('scvi-tools')",
   "language": "python",
   "name": "python3"
  },
  "language_info": {
   "codemirror_mode": {
    "name": "ipython",
    "version": 3
   },
   "file_extension": ".py",
   "mimetype": "text/x-python",
   "name": "python",
   "nbconvert_exporter": "python",
   "pygments_lexer": "ipython3",
   "version": "3.10.13"
  },
  "orig_nbformat": 4,
  "vscode": {
   "interpreter": {
    "hash": "be6e4b2475555bb52a1f9704f3384c4fd38c8454adf16dc700aeb2c29c9568d8"
   }
  }
 },
 "nbformat": 4,
 "nbformat_minor": 2
}
