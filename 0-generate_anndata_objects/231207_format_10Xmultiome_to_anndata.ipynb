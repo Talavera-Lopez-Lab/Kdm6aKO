{
 "cells": [
  {
   "attachments": {},
   "cell_type": "markdown",
   "metadata": {},
   "source": [
    "### Notebook to format 10X Genomics multiome to anndata for project `Kdm6aKO`\n",
    "\n",
    "- **Developed by:** Carlos Talavera-López Ph.D\n",
    "- **Würzburg Institute for Systems Immunology & Julius-Maximilian-Universität Würzburg**\n",
    "- **Created on**: 231207\n",
    "- **Last modified**: 231207"
   ]
  },
  {
   "attachments": {},
   "cell_type": "markdown",
   "metadata": {},
   "source": [
    "### Import required modules"
   ]
  },
  {
   "cell_type": "code",
   "execution_count": 28,
   "metadata": {},
   "outputs": [],
   "source": [
    "import scvi\n",
    "import anndata\n",
    "import numpy as np\n",
    "import scanpy as sc\n",
    "import pandas as pd\n",
    "import matplotlib.pyplot as plt\n",
    "import os\n",
    "import shutil"
   ]
  },
  {
   "attachments": {},
   "cell_type": "markdown",
   "metadata": {},
   "source": [
    "### Set up working environment"
   ]
  },
  {
   "cell_type": "code",
   "execution_count": 3,
   "metadata": {},
   "outputs": [
    {
     "name": "stdout",
     "output_type": "stream",
     "text": [
      "-----\n",
      "anndata     0.10.5.post1\n",
      "scanpy      1.9.8\n",
      "-----\n",
      "PIL                 10.2.0\n",
      "absl                NA\n",
      "annotated_types     0.6.0\n",
      "anyio               NA\n",
      "asttokens           NA\n",
      "backoff             2.2.1\n",
      "brotli              1.1.0\n",
      "bs4                 4.12.3\n",
      "certifi             2024.02.02\n",
      "cffi                1.16.0\n",
      "charset_normalizer  3.3.2\n",
      "chex                0.1.85\n",
      "click               8.1.7\n",
      "colorama            0.4.6\n",
      "comm                0.2.1\n",
      "contextlib2         NA\n",
      "croniter            NA\n",
      "cycler              0.12.1\n",
      "cython_runtime      NA\n",
      "dateutil            2.9.0\n",
      "debugpy             1.8.1\n",
      "decorator           5.1.1\n",
      "deepdiff            6.7.1\n",
      "docrep              0.3.2\n",
      "etils               1.7.0\n",
      "exceptiongroup      1.2.0\n",
      "executing           2.0.1\n",
      "fastapi             0.110.0\n",
      "flax                0.8.1\n",
      "fsspec              2024.2.0\n",
      "gmpy2               2.1.2\n",
      "h5py                3.10.0\n",
      "idna                3.6\n",
      "importlib_resources NA\n",
      "ipykernel           6.29.3\n",
      "jax                 0.4.25\n",
      "jaxlib              0.4.23.dev20240302\n",
      "jedi                0.19.1\n",
      "joblib              1.3.2\n",
      "kiwisolver          1.4.5\n",
      "lightning           2.0.9.post0\n",
      "lightning_cloud     NA\n",
      "lightning_utilities 0.10.1\n",
      "llvmlite            0.42.0\n",
      "matplotlib          3.8.3\n",
      "ml_collections      NA\n",
      "ml_dtypes           0.3.2\n",
      "mpl_toolkits        NA\n",
      "mpmath              1.3.0\n",
      "msgpack             1.0.7\n",
      "mudata              0.2.3\n",
      "multipart           0.0.9\n",
      "multipledispatch    0.6.0\n",
      "natsort             8.4.0\n",
      "numba               0.59.0\n",
      "numpy               1.26.4\n",
      "numpyro             0.14.0\n",
      "opt_einsum          v3.3.0\n",
      "optax               0.2.0\n",
      "ordered_set         4.1.0\n",
      "orjson              3.9.15\n",
      "packaging           23.2\n",
      "pandas              2.2.1\n",
      "parso               0.8.3\n",
      "pickleshare         0.7.5\n",
      "pkg_resources       NA\n",
      "platformdirs        4.2.0\n",
      "prompt_toolkit      3.0.42\n",
      "psutil              5.9.8\n",
      "pure_eval           0.2.2\n",
      "pydantic            2.1.1\n",
      "pydantic_core       2.4.0\n",
      "pydev_ipython       NA\n",
      "pydevconsole        NA\n",
      "pydevd              2.9.5\n",
      "pydevd_file_utils   NA\n",
      "pydevd_plugins      NA\n",
      "pydevd_tracing      NA\n",
      "pygments            2.17.2\n",
      "pyparsing           3.1.2\n",
      "pyro                1.9.0+f02dfb9\n",
      "pytz                2024.1\n",
      "requests            2.31.0\n",
      "rich                NA\n",
      "scipy               1.12.0\n",
      "scvi                1.1.2\n",
      "session_info        1.0.0\n",
      "six                 1.16.0\n",
      "sklearn             1.4.1.post1\n",
      "sniffio             1.3.1\n",
      "socks               1.7.1\n",
      "soupsieve           2.5\n",
      "sparse              0.15.1\n",
      "stack_data          0.6.2\n",
      "starlette           0.36.3\n",
      "sympy               1.12\n",
      "threadpoolctl       3.3.0\n",
      "tomli               2.0.1\n",
      "toolz               0.12.1\n",
      "torch               2.2.1\n",
      "torchgen            NA\n",
      "torchmetrics        1.3.1\n",
      "tornado             6.4\n",
      "tqdm                4.66.2\n",
      "traitlets           5.14.1\n",
      "typing_extensions   NA\n",
      "urllib3             2.2.1\n",
      "uvicorn             0.27.1\n",
      "wcwidth             0.2.13\n",
      "websocket           1.7.0\n",
      "websockets          12.0\n",
      "yaml                6.0.1\n",
      "zmq                 25.1.2\n",
      "zoneinfo            NA\n",
      "-----\n",
      "IPython             8.22.2\n",
      "jupyter_client      8.6.0\n",
      "jupyter_core        5.7.1\n",
      "-----\n",
      "Python 3.10.13 | packaged by conda-forge | (main, Dec 23 2023, 15:36:39) [GCC 12.3.0]\n",
      "Linux-6.6.14-100.fc38.x86_64-x86_64-with-glibc2.37\n",
      "-----\n",
      "Session information updated at 2024-03-07 13:10\n"
     ]
    }
   ],
   "source": [
    "sc.settings.verbosity = 3\n",
    "sc.logging.print_versions()\n",
    "sc.settings.set_figure_params(dpi = 180, color_map = 'magma_r', dpi_save = 300, vector_friendly = True, format = 'svg')"
   ]
  },
  {
   "cell_type": "code",
   "execution_count": 4,
   "metadata": {},
   "outputs": [],
   "source": [
    "def X_is_raw(adata):\n",
    "    return np.array_equal(adata.X.sum(axis=0).astype(int), adata.X.sum(axis = 0))"
   ]
  },
  {
   "attachments": {},
   "cell_type": "markdown",
   "metadata": {},
   "source": [
    "### Read in samples"
   ]
  },
  {
   "cell_type": "code",
   "execution_count": 6,
   "metadata": {},
   "outputs": [
    {
     "data": {
      "text/html": [
       "<div>\n",
       "<style scoped>\n",
       "    .dataframe tbody tr th:only-of-type {\n",
       "        vertical-align: middle;\n",
       "    }\n",
       "\n",
       "    .dataframe tbody tr th {\n",
       "        vertical-align: top;\n",
       "    }\n",
       "\n",
       "    .dataframe thead th {\n",
       "        text-align: right;\n",
       "    }\n",
       "</style>\n",
       "<table border=\"1\" class=\"dataframe\">\n",
       "  <thead>\n",
       "    <tr style=\"text-align: right;\">\n",
       "      <th></th>\n",
       "      <th>genotype</th>\n",
       "      <th>group</th>\n",
       "      <th>file</th>\n",
       "    </tr>\n",
       "    <tr>\n",
       "      <th>sample_id</th>\n",
       "      <th></th>\n",
       "      <th></th>\n",
       "      <th></th>\n",
       "    </tr>\n",
       "  </thead>\n",
       "  <tbody>\n",
       "    <tr>\n",
       "      <th>KDM6A_wt_11</th>\n",
       "      <td>WT</td>\n",
       "      <td>KDM6A</td>\n",
       "      <td>SCC0203_1_Becker_multiome_D11_A2_outs</td>\n",
       "    </tr>\n",
       "    <tr>\n",
       "      <th>KDM6A_wt_40</th>\n",
       "      <td>WT</td>\n",
       "      <td>KDM6A</td>\n",
       "      <td>SCC0203_2_Becker_multiome_E7_A5_nb40_outs</td>\n",
       "    </tr>\n",
       "    <tr>\n",
       "      <th>KDM6A_KO_34</th>\n",
       "      <td>KO</td>\n",
       "      <td>KDM6A</td>\n",
       "      <td>SCC0203_2_Becker_multiome_E5_A3_nb27_outs</td>\n",
       "    </tr>\n",
       "    <tr>\n",
       "      <th>KDM6A_KO_31</th>\n",
       "      <td>KO</td>\n",
       "      <td>KDM6A</td>\n",
       "      <td>SCC0203_2_Becker_multiome_E6_A4_nb31_outs</td>\n",
       "    </tr>\n",
       "    <tr>\n",
       "      <th>GSKJ4_sham_51</th>\n",
       "      <td>sham</td>\n",
       "      <td>GSKJ4</td>\n",
       "      <td>SCC0203_4_Becker_multiome_2_D6_B6_nb51</td>\n",
       "    </tr>\n",
       "    <tr>\n",
       "      <th>GSKJ4_sham_57</th>\n",
       "      <td>sham</td>\n",
       "      <td>GSKJ4</td>\n",
       "      <td>None</td>\n",
       "    </tr>\n",
       "    <tr>\n",
       "      <th>GSKJ4_treat_47</th>\n",
       "      <td>treated</td>\n",
       "      <td>GSKJ4</td>\n",
       "      <td>None</td>\n",
       "    </tr>\n",
       "    <tr>\n",
       "      <th>GSKJ4_treat_52</th>\n",
       "      <td>treated</td>\n",
       "      <td>GSKJ4</td>\n",
       "      <td>None</td>\n",
       "    </tr>\n",
       "  </tbody>\n",
       "</table>\n",
       "</div>"
      ],
      "text/plain": [
       "               genotype  group                                       file\n",
       "sample_id                                                                \n",
       "KDM6A_wt_11          WT  KDM6A      SCC0203_1_Becker_multiome_D11_A2_outs\n",
       "KDM6A_wt_40          WT  KDM6A  SCC0203_2_Becker_multiome_E7_A5_nb40_outs\n",
       "KDM6A_KO_34          KO  KDM6A  SCC0203_2_Becker_multiome_E5_A3_nb27_outs\n",
       "KDM6A_KO_31          KO  KDM6A  SCC0203_2_Becker_multiome_E6_A4_nb31_outs\n",
       "GSKJ4_sham_51      sham  GSKJ4     SCC0203_4_Becker_multiome_2_D6_B6_nb51\n",
       "GSKJ4_sham_57      sham  GSKJ4                                       None\n",
       "GSKJ4_treat_47  treated  GSKJ4                                       None\n",
       "GSKJ4_treat_52  treated  GSKJ4                                       None"
      ]
     },
     "execution_count": 6,
     "metadata": {},
     "output_type": "execute_result"
    }
   ],
   "source": [
    "metadata_dict = {\n",
    "    \"KDM6A_wt_11\":\t    (\"WT\",      \"KDM6A\",    \"SCC0203_1_Becker_multiome_D11_A2_outs\"),\n",
    "    \"KDM6A_wt_40\":\t    [\"WT\",\t    \"KDM6A\",\t\"SCC0203_2_Becker_multiome_E7_A5_nb40_outs\"],\n",
    "    \"KDM6A_KO_34\":\t    [\"KO\",\t    \"KDM6A\",    \"SCC0203_2_Becker_multiome_E5_A3_nb27_outs\"],\n",
    "    \"KDM6A_KO_31\":\t    [\"KO\",\t    \"KDM6A\",    \"SCC0203_2_Becker_multiome_E6_A4_nb31_outs\"],\n",
    "    \"GSKJ4_sham_51\":\t[\"sham\",    \"GSKJ4\",    \"SCC0203_4_Becker_multiome_2_D6_B6_nb51\"],\n",
    "    \"GSKJ4_sham_57\":    [\"sham\",    \"GSKJ4\"],\n",
    "    \"GSKJ4_treat_47\":   [\"treated\", \"GSKJ4\"],\n",
    "    \"GSKJ4_treat_52\":   [\"treated\", \"GSKJ4\"],\n",
    "}\n",
    "sample_metadata = pd.DataFrame.from_dict(metadata_dict, orient=\"index\", columns=[\"genotype\", \"group\", \"file\"])\n",
    "sample_metadata.index.name = \"sample_id\"\n",
    "sample_metadata"
   ]
  },
  {
   "cell_type": "code",
   "execution_count": 7,
   "metadata": {},
   "outputs": [],
   "source": [
    "#sample_metadata = pd.read_csv('../data/samples.txt', sep = ',', index_col = 0)\n",
    "#sample_metadata['sample'] = sample_metadata.index \n",
    "#sample_metadata.set_index('file', inplace = True)\n",
    "#sample_metadata.head()"
   ]
  },
  {
   "cell_type": "code",
   "execution_count": 9,
   "metadata": {},
   "outputs": [
    {
     "data": {
      "text/plain": [
       "Index(['KDM6A_wt_11', 'KDM6A_wt_40', 'KDM6A_KO_34', 'KDM6A_KO_31',\n",
       "       'GSKJ4_sham_51', 'GSKJ4_sham_57', 'GSKJ4_treat_47', 'GSKJ4_treat_52'],\n",
       "      dtype='object', name='sample_id')"
      ]
     },
     "execution_count": 9,
     "metadata": {},
     "output_type": "execute_result"
    }
   ],
   "source": [
    "filenames = sample_metadata.index\n",
    "filenames"
   ]
  },
  {
   "cell_type": "code",
   "execution_count": 65,
   "metadata": {},
   "outputs": [],
   "source": [
    "source_directories = {sample: \"../../../../INBOX/becker_kdm6a/cellranger/\" + sample + \"/raw_feature_bc_matrix/\" for sample in filenames}\n",
    "target_directory = \"../data/raw_data/cellranger/\"\n",
    "for sample, directory in source_directories.items():\n",
    "    if os.path.exists(directory):\n",
    "        if not os.path.exists(target_directory + sample + \"/\"):\n",
    "            os.makedirs(target_directory + sample + \"/\")\n",
    "        else:\n",
    "            pass\n",
    "        files = os.listdir(directory)\n",
    "        shutil.copy(directory + 'barcodes.tsv.gz', target_directory + sample + '/')\n",
    "        shutil.copy(directory + 'matrix.mtx.gz', target_directory + sample + '/')\n",
    "        shutil.copy(directory + 'features.tsv.gz', target_directory + sample + '/')"
   ]
  },
  {
   "cell_type": "code",
   "execution_count": 82,
   "metadata": {},
   "outputs": [
    {
     "ename": "AttributeError",
     "evalue": "'enumerate' object has no attribute 'items'",
     "output_type": "error",
     "traceback": [
      "\u001b[0;31m---------------------------------------------------------------------------\u001b[0m",
      "\u001b[0;31mAttributeError\u001b[0m                            Traceback (most recent call last)",
      "\u001b[1;32m/mnt/LaCIE/ceger/Projects/Heart_Multiome/Kdm6aKO/0-generate_anndata_objects/231207_format_10Xmultiome_to_anndata.ipynb Cell 12\u001b[0m line \u001b[0;36m1\n\u001b[0;32m----> <a href='vscode-notebook-cell://ssh-remote%2B132.187.167.21/mnt/LaCIE/ceger/Projects/Heart_Multiome/Kdm6aKO/0-generate_anndata_objects/231207_format_10Xmultiome_to_anndata.ipynb#X52sdnNjb2RlLXJlbW90ZQ%3D%3D?line=0'>1</a>\u001b[0m \u001b[39menumerate\u001b[39;49m(filenames)\u001b[39m.\u001b[39;49mitems()\n",
      "\u001b[0;31mAttributeError\u001b[0m: 'enumerate' object has no attribute 'items'"
     ]
    }
   ],
   "source": []
  },
  {
   "cell_type": "code",
   "execution_count": 87,
   "metadata": {},
   "outputs": [
    {
     "name": "stderr",
     "output_type": "stream",
     "text": [
      "/home/ceger/miniforge3/envs/heart_multiome-env/lib/python3.10/site-packages/anndata/_core/anndata.py:1908: UserWarning: Variable names are not unique. To make them unique, call `.var_names_make_unique`.\n",
      "  utils.warn_names_duplicates(\"var\")\n",
      "/tmp/ipykernel_1008063/2272583831.py:13: FutureWarning: Series.__getitem__ treating keys as positions is deprecated. In a future version, integer keys will always be treated as labels (consistent with DataFrame behavior). To access a value by position, use `ser.iloc[pos]`\n",
      "  gene_expr_adata.obs[col] = sample_metadata[col][i]\n",
      "/tmp/ipykernel_1008063/2272583831.py:13: ImplicitModificationWarning: Trying to modify attribute `.obs` of view, initializing view as actual.\n",
      "  gene_expr_adata.obs[col] = sample_metadata[col][i]\n"
     ]
    },
    {
     "name": "stdout",
     "output_type": "stream",
     "text": [
      "genotype\n"
     ]
    },
    {
     "name": "stderr",
     "output_type": "stream",
     "text": [
      "/home/ceger/miniforge3/envs/heart_multiome-env/lib/python3.10/site-packages/anndata/_core/anndata.py:1908: UserWarning: Variable names are not unique. To make them unique, call `.var_names_make_unique`.\n",
      "  utils.warn_names_duplicates(\"var\")\n",
      "/tmp/ipykernel_1008063/2272583831.py:14: FutureWarning: Series.__getitem__ treating keys as positions is deprecated. In a future version, integer keys will always be treated as labels (consistent with DataFrame behavior). To access a value by position, use `ser.iloc[pos]`\n",
      "  atac_seq_adata.obs[col] = sample_metadata[col][i]\n",
      "/tmp/ipykernel_1008063/2272583831.py:14: ImplicitModificationWarning: Trying to modify attribute `.obs` of view, initializing view as actual.\n",
      "  atac_seq_adata.obs[col] = sample_metadata[col][i]\n",
      "/tmp/ipykernel_1008063/2272583831.py:13: FutureWarning: Series.__getitem__ treating keys as positions is deprecated. In a future version, integer keys will always be treated as labels (consistent with DataFrame behavior). To access a value by position, use `ser.iloc[pos]`\n",
      "  gene_expr_adata.obs[col] = sample_metadata[col][i]\n",
      "/tmp/ipykernel_1008063/2272583831.py:14: FutureWarning: Series.__getitem__ treating keys as positions is deprecated. In a future version, integer keys will always be treated as labels (consistent with DataFrame behavior). To access a value by position, use `ser.iloc[pos]`\n",
      "  atac_seq_adata.obs[col] = sample_metadata[col][i]\n",
      "/tmp/ipykernel_1008063/2272583831.py:13: FutureWarning: Series.__getitem__ treating keys as positions is deprecated. In a future version, integer keys will always be treated as labels (consistent with DataFrame behavior). To access a value by position, use `ser.iloc[pos]`\n",
      "  gene_expr_adata.obs[col] = sample_metadata[col][i]\n",
      "/tmp/ipykernel_1008063/2272583831.py:14: FutureWarning: Series.__getitem__ treating keys as positions is deprecated. In a future version, integer keys will always be treated as labels (consistent with DataFrame behavior). To access a value by position, use `ser.iloc[pos]`\n",
      "  atac_seq_adata.obs[col] = sample_metadata[col][i]\n"
     ]
    },
    {
     "name": "stdout",
     "output_type": "stream",
     "text": [
      "group\n",
      "file\n"
     ]
    },
    {
     "name": "stderr",
     "output_type": "stream",
     "text": [
      "/home/ceger/miniforge3/envs/heart_multiome-env/lib/python3.10/site-packages/anndata/_core/anndata.py:1908: UserWarning: Variable names are not unique. To make them unique, call `.var_names_make_unique`.\n",
      "  utils.warn_names_duplicates(\"var\")\n",
      "/tmp/ipykernel_1008063/2272583831.py:13: FutureWarning: Series.__getitem__ treating keys as positions is deprecated. In a future version, integer keys will always be treated as labels (consistent with DataFrame behavior). To access a value by position, use `ser.iloc[pos]`\n",
      "  gene_expr_adata.obs[col] = sample_metadata[col][i]\n",
      "/tmp/ipykernel_1008063/2272583831.py:13: ImplicitModificationWarning: Trying to modify attribute `.obs` of view, initializing view as actual.\n",
      "  gene_expr_adata.obs[col] = sample_metadata[col][i]\n",
      "/home/ceger/miniforge3/envs/heart_multiome-env/lib/python3.10/site-packages/anndata/_core/anndata.py:1908: UserWarning: Variable names are not unique. To make them unique, call `.var_names_make_unique`.\n",
      "  utils.warn_names_duplicates(\"var\")\n",
      "/tmp/ipykernel_1008063/2272583831.py:14: FutureWarning: Series.__getitem__ treating keys as positions is deprecated. In a future version, integer keys will always be treated as labels (consistent with DataFrame behavior). To access a value by position, use `ser.iloc[pos]`\n",
      "  atac_seq_adata.obs[col] = sample_metadata[col][i]\n",
      "/tmp/ipykernel_1008063/2272583831.py:14: ImplicitModificationWarning: Trying to modify attribute `.obs` of view, initializing view as actual.\n",
      "  atac_seq_adata.obs[col] = sample_metadata[col][i]\n",
      "/tmp/ipykernel_1008063/2272583831.py:13: FutureWarning: Series.__getitem__ treating keys as positions is deprecated. In a future version, integer keys will always be treated as labels (consistent with DataFrame behavior). To access a value by position, use `ser.iloc[pos]`\n",
      "  gene_expr_adata.obs[col] = sample_metadata[col][i]\n",
      "/tmp/ipykernel_1008063/2272583831.py:14: FutureWarning: Series.__getitem__ treating keys as positions is deprecated. In a future version, integer keys will always be treated as labels (consistent with DataFrame behavior). To access a value by position, use `ser.iloc[pos]`\n",
      "  atac_seq_adata.obs[col] = sample_metadata[col][i]\n",
      "/tmp/ipykernel_1008063/2272583831.py:13: FutureWarning: Series.__getitem__ treating keys as positions is deprecated. In a future version, integer keys will always be treated as labels (consistent with DataFrame behavior). To access a value by position, use `ser.iloc[pos]`\n",
      "  gene_expr_adata.obs[col] = sample_metadata[col][i]\n",
      "/tmp/ipykernel_1008063/2272583831.py:14: FutureWarning: Series.__getitem__ treating keys as positions is deprecated. In a future version, integer keys will always be treated as labels (consistent with DataFrame behavior). To access a value by position, use `ser.iloc[pos]`\n",
      "  atac_seq_adata.obs[col] = sample_metadata[col][i]\n"
     ]
    },
    {
     "name": "stdout",
     "output_type": "stream",
     "text": [
      "genotype\n",
      "group\n",
      "file\n"
     ]
    },
    {
     "name": "stderr",
     "output_type": "stream",
     "text": [
      "/home/ceger/miniforge3/envs/heart_multiome-env/lib/python3.10/site-packages/anndata/_core/anndata.py:1908: UserWarning: Variable names are not unique. To make them unique, call `.var_names_make_unique`.\n",
      "  utils.warn_names_duplicates(\"var\")\n",
      "/tmp/ipykernel_1008063/2272583831.py:13: FutureWarning: Series.__getitem__ treating keys as positions is deprecated. In a future version, integer keys will always be treated as labels (consistent with DataFrame behavior). To access a value by position, use `ser.iloc[pos]`\n",
      "  gene_expr_adata.obs[col] = sample_metadata[col][i]\n",
      "/tmp/ipykernel_1008063/2272583831.py:13: ImplicitModificationWarning: Trying to modify attribute `.obs` of view, initializing view as actual.\n",
      "  gene_expr_adata.obs[col] = sample_metadata[col][i]\n"
     ]
    },
    {
     "name": "stdout",
     "output_type": "stream",
     "text": [
      "genotype\n"
     ]
    },
    {
     "name": "stderr",
     "output_type": "stream",
     "text": [
      "/home/ceger/miniforge3/envs/heart_multiome-env/lib/python3.10/site-packages/anndata/_core/anndata.py:1908: UserWarning: Variable names are not unique. To make them unique, call `.var_names_make_unique`.\n",
      "  utils.warn_names_duplicates(\"var\")\n",
      "/tmp/ipykernel_1008063/2272583831.py:14: FutureWarning: Series.__getitem__ treating keys as positions is deprecated. In a future version, integer keys will always be treated as labels (consistent with DataFrame behavior). To access a value by position, use `ser.iloc[pos]`\n",
      "  atac_seq_adata.obs[col] = sample_metadata[col][i]\n",
      "/tmp/ipykernel_1008063/2272583831.py:14: ImplicitModificationWarning: Trying to modify attribute `.obs` of view, initializing view as actual.\n",
      "  atac_seq_adata.obs[col] = sample_metadata[col][i]\n"
     ]
    },
    {
     "name": "stdout",
     "output_type": "stream",
     "text": [
      "group\n",
      "file\n"
     ]
    },
    {
     "name": "stderr",
     "output_type": "stream",
     "text": [
      "/tmp/ipykernel_1008063/2272583831.py:13: FutureWarning: Series.__getitem__ treating keys as positions is deprecated. In a future version, integer keys will always be treated as labels (consistent with DataFrame behavior). To access a value by position, use `ser.iloc[pos]`\n",
      "  gene_expr_adata.obs[col] = sample_metadata[col][i]\n",
      "/tmp/ipykernel_1008063/2272583831.py:14: FutureWarning: Series.__getitem__ treating keys as positions is deprecated. In a future version, integer keys will always be treated as labels (consistent with DataFrame behavior). To access a value by position, use `ser.iloc[pos]`\n",
      "  atac_seq_adata.obs[col] = sample_metadata[col][i]\n",
      "/tmp/ipykernel_1008063/2272583831.py:13: FutureWarning: Series.__getitem__ treating keys as positions is deprecated. In a future version, integer keys will always be treated as labels (consistent with DataFrame behavior). To access a value by position, use `ser.iloc[pos]`\n",
      "  gene_expr_adata.obs[col] = sample_metadata[col][i]\n",
      "/tmp/ipykernel_1008063/2272583831.py:14: FutureWarning: Series.__getitem__ treating keys as positions is deprecated. In a future version, integer keys will always be treated as labels (consistent with DataFrame behavior). To access a value by position, use `ser.iloc[pos]`\n",
      "  atac_seq_adata.obs[col] = sample_metadata[col][i]\n",
      "/home/ceger/miniforge3/envs/heart_multiome-env/lib/python3.10/site-packages/anndata/_core/anndata.py:1908: UserWarning: Variable names are not unique. To make them unique, call `.var_names_make_unique`.\n",
      "  utils.warn_names_duplicates(\"var\")\n",
      "/tmp/ipykernel_1008063/2272583831.py:13: FutureWarning: Series.__getitem__ treating keys as positions is deprecated. In a future version, integer keys will always be treated as labels (consistent with DataFrame behavior). To access a value by position, use `ser.iloc[pos]`\n",
      "  gene_expr_adata.obs[col] = sample_metadata[col][i]\n",
      "/tmp/ipykernel_1008063/2272583831.py:13: ImplicitModificationWarning: Trying to modify attribute `.obs` of view, initializing view as actual.\n",
      "  gene_expr_adata.obs[col] = sample_metadata[col][i]\n"
     ]
    },
    {
     "name": "stdout",
     "output_type": "stream",
     "text": [
      "genotype\n"
     ]
    },
    {
     "name": "stderr",
     "output_type": "stream",
     "text": [
      "/home/ceger/miniforge3/envs/heart_multiome-env/lib/python3.10/site-packages/anndata/_core/anndata.py:1908: UserWarning: Variable names are not unique. To make them unique, call `.var_names_make_unique`.\n",
      "  utils.warn_names_duplicates(\"var\")\n",
      "/tmp/ipykernel_1008063/2272583831.py:14: FutureWarning: Series.__getitem__ treating keys as positions is deprecated. In a future version, integer keys will always be treated as labels (consistent with DataFrame behavior). To access a value by position, use `ser.iloc[pos]`\n",
      "  atac_seq_adata.obs[col] = sample_metadata[col][i]\n",
      "/tmp/ipykernel_1008063/2272583831.py:14: ImplicitModificationWarning: Trying to modify attribute `.obs` of view, initializing view as actual.\n",
      "  atac_seq_adata.obs[col] = sample_metadata[col][i]\n",
      "/tmp/ipykernel_1008063/2272583831.py:13: FutureWarning: Series.__getitem__ treating keys as positions is deprecated. In a future version, integer keys will always be treated as labels (consistent with DataFrame behavior). To access a value by position, use `ser.iloc[pos]`\n",
      "  gene_expr_adata.obs[col] = sample_metadata[col][i]\n",
      "/tmp/ipykernel_1008063/2272583831.py:14: FutureWarning: Series.__getitem__ treating keys as positions is deprecated. In a future version, integer keys will always be treated as labels (consistent with DataFrame behavior). To access a value by position, use `ser.iloc[pos]`\n",
      "  atac_seq_adata.obs[col] = sample_metadata[col][i]\n",
      "/tmp/ipykernel_1008063/2272583831.py:13: FutureWarning: Series.__getitem__ treating keys as positions is deprecated. In a future version, integer keys will always be treated as labels (consistent with DataFrame behavior). To access a value by position, use `ser.iloc[pos]`\n",
      "  gene_expr_adata.obs[col] = sample_metadata[col][i]\n",
      "/tmp/ipykernel_1008063/2272583831.py:14: FutureWarning: Series.__getitem__ treating keys as positions is deprecated. In a future version, integer keys will always be treated as labels (consistent with DataFrame behavior). To access a value by position, use `ser.iloc[pos]`\n",
      "  atac_seq_adata.obs[col] = sample_metadata[col][i]\n"
     ]
    },
    {
     "name": "stdout",
     "output_type": "stream",
     "text": [
      "group\n",
      "file\n"
     ]
    },
    {
     "name": "stderr",
     "output_type": "stream",
     "text": [
      "/home/ceger/miniforge3/envs/heart_multiome-env/lib/python3.10/site-packages/anndata/_core/anndata.py:1908: UserWarning: Variable names are not unique. To make them unique, call `.var_names_make_unique`.\n",
      "  utils.warn_names_duplicates(\"var\")\n",
      "/tmp/ipykernel_1008063/2272583831.py:13: FutureWarning: Series.__getitem__ treating keys as positions is deprecated. In a future version, integer keys will always be treated as labels (consistent with DataFrame behavior). To access a value by position, use `ser.iloc[pos]`\n",
      "  gene_expr_adata.obs[col] = sample_metadata[col][i]\n",
      "/tmp/ipykernel_1008063/2272583831.py:13: ImplicitModificationWarning: Trying to modify attribute `.obs` of view, initializing view as actual.\n",
      "  gene_expr_adata.obs[col] = sample_metadata[col][i]\n"
     ]
    },
    {
     "name": "stdout",
     "output_type": "stream",
     "text": [
      "genotype\n"
     ]
    },
    {
     "name": "stderr",
     "output_type": "stream",
     "text": [
      "/home/ceger/miniforge3/envs/heart_multiome-env/lib/python3.10/site-packages/anndata/_core/anndata.py:1908: UserWarning: Variable names are not unique. To make them unique, call `.var_names_make_unique`.\n",
      "  utils.warn_names_duplicates(\"var\")\n",
      "/tmp/ipykernel_1008063/2272583831.py:14: FutureWarning: Series.__getitem__ treating keys as positions is deprecated. In a future version, integer keys will always be treated as labels (consistent with DataFrame behavior). To access a value by position, use `ser.iloc[pos]`\n",
      "  atac_seq_adata.obs[col] = sample_metadata[col][i]\n",
      "/tmp/ipykernel_1008063/2272583831.py:14: ImplicitModificationWarning: Trying to modify attribute `.obs` of view, initializing view as actual.\n",
      "  atac_seq_adata.obs[col] = sample_metadata[col][i]\n",
      "/tmp/ipykernel_1008063/2272583831.py:13: FutureWarning: Series.__getitem__ treating keys as positions is deprecated. In a future version, integer keys will always be treated as labels (consistent with DataFrame behavior). To access a value by position, use `ser.iloc[pos]`\n",
      "  gene_expr_adata.obs[col] = sample_metadata[col][i]\n",
      "/tmp/ipykernel_1008063/2272583831.py:14: FutureWarning: Series.__getitem__ treating keys as positions is deprecated. In a future version, integer keys will always be treated as labels (consistent with DataFrame behavior). To access a value by position, use `ser.iloc[pos]`\n",
      "  atac_seq_adata.obs[col] = sample_metadata[col][i]\n",
      "/tmp/ipykernel_1008063/2272583831.py:13: FutureWarning: Series.__getitem__ treating keys as positions is deprecated. In a future version, integer keys will always be treated as labels (consistent with DataFrame behavior). To access a value by position, use `ser.iloc[pos]`\n",
      "  gene_expr_adata.obs[col] = sample_metadata[col][i]\n",
      "/tmp/ipykernel_1008063/2272583831.py:14: FutureWarning: Series.__getitem__ treating keys as positions is deprecated. In a future version, integer keys will always be treated as labels (consistent with DataFrame behavior). To access a value by position, use `ser.iloc[pos]`\n",
      "  atac_seq_adata.obs[col] = sample_metadata[col][i]\n"
     ]
    },
    {
     "name": "stdout",
     "output_type": "stream",
     "text": [
      "group\n",
      "file\n"
     ]
    },
    {
     "name": "stderr",
     "output_type": "stream",
     "text": [
      "/home/ceger/miniforge3/envs/heart_multiome-env/lib/python3.10/site-packages/anndata/_core/anndata.py:1908: UserWarning: Variable names are not unique. To make them unique, call `.var_names_make_unique`.\n",
      "  utils.warn_names_duplicates(\"var\")\n",
      "/tmp/ipykernel_1008063/2272583831.py:13: FutureWarning: Series.__getitem__ treating keys as positions is deprecated. In a future version, integer keys will always be treated as labels (consistent with DataFrame behavior). To access a value by position, use `ser.iloc[pos]`\n",
      "  gene_expr_adata.obs[col] = sample_metadata[col][i]\n",
      "/tmp/ipykernel_1008063/2272583831.py:13: ImplicitModificationWarning: Trying to modify attribute `.obs` of view, initializing view as actual.\n",
      "  gene_expr_adata.obs[col] = sample_metadata[col][i]\n"
     ]
    },
    {
     "name": "stdout",
     "output_type": "stream",
     "text": [
      "genotype\n"
     ]
    },
    {
     "name": "stderr",
     "output_type": "stream",
     "text": [
      "/home/ceger/miniforge3/envs/heart_multiome-env/lib/python3.10/site-packages/anndata/_core/anndata.py:1908: UserWarning: Variable names are not unique. To make them unique, call `.var_names_make_unique`.\n",
      "  utils.warn_names_duplicates(\"var\")\n",
      "/tmp/ipykernel_1008063/2272583831.py:14: FutureWarning: Series.__getitem__ treating keys as positions is deprecated. In a future version, integer keys will always be treated as labels (consistent with DataFrame behavior). To access a value by position, use `ser.iloc[pos]`\n",
      "  atac_seq_adata.obs[col] = sample_metadata[col][i]\n",
      "/tmp/ipykernel_1008063/2272583831.py:14: ImplicitModificationWarning: Trying to modify attribute `.obs` of view, initializing view as actual.\n",
      "  atac_seq_adata.obs[col] = sample_metadata[col][i]\n"
     ]
    },
    {
     "name": "stdout",
     "output_type": "stream",
     "text": [
      "group\n",
      "file\n"
     ]
    },
    {
     "name": "stderr",
     "output_type": "stream",
     "text": [
      "/tmp/ipykernel_1008063/2272583831.py:13: FutureWarning: Series.__getitem__ treating keys as positions is deprecated. In a future version, integer keys will always be treated as labels (consistent with DataFrame behavior). To access a value by position, use `ser.iloc[pos]`\n",
      "  gene_expr_adata.obs[col] = sample_metadata[col][i]\n",
      "/tmp/ipykernel_1008063/2272583831.py:14: FutureWarning: Series.__getitem__ treating keys as positions is deprecated. In a future version, integer keys will always be treated as labels (consistent with DataFrame behavior). To access a value by position, use `ser.iloc[pos]`\n",
      "  atac_seq_adata.obs[col] = sample_metadata[col][i]\n",
      "/tmp/ipykernel_1008063/2272583831.py:13: FutureWarning: Series.__getitem__ treating keys as positions is deprecated. In a future version, integer keys will always be treated as labels (consistent with DataFrame behavior). To access a value by position, use `ser.iloc[pos]`\n",
      "  gene_expr_adata.obs[col] = sample_metadata[col][i]\n",
      "/tmp/ipykernel_1008063/2272583831.py:14: FutureWarning: Series.__getitem__ treating keys as positions is deprecated. In a future version, integer keys will always be treated as labels (consistent with DataFrame behavior). To access a value by position, use `ser.iloc[pos]`\n",
      "  atac_seq_adata.obs[col] = sample_metadata[col][i]\n",
      "/home/ceger/miniforge3/envs/heart_multiome-env/lib/python3.10/site-packages/anndata/_core/anndata.py:1908: UserWarning: Variable names are not unique. To make them unique, call `.var_names_make_unique`.\n",
      "  utils.warn_names_duplicates(\"var\")\n",
      "/tmp/ipykernel_1008063/2272583831.py:13: FutureWarning: Series.__getitem__ treating keys as positions is deprecated. In a future version, integer keys will always be treated as labels (consistent with DataFrame behavior). To access a value by position, use `ser.iloc[pos]`\n",
      "  gene_expr_adata.obs[col] = sample_metadata[col][i]\n",
      "/tmp/ipykernel_1008063/2272583831.py:13: ImplicitModificationWarning: Trying to modify attribute `.obs` of view, initializing view as actual.\n",
      "  gene_expr_adata.obs[col] = sample_metadata[col][i]\n"
     ]
    },
    {
     "name": "stdout",
     "output_type": "stream",
     "text": [
      "genotype\n"
     ]
    },
    {
     "name": "stderr",
     "output_type": "stream",
     "text": [
      "/home/ceger/miniforge3/envs/heart_multiome-env/lib/python3.10/site-packages/anndata/_core/anndata.py:1908: UserWarning: Variable names are not unique. To make them unique, call `.var_names_make_unique`.\n",
      "  utils.warn_names_duplicates(\"var\")\n",
      "/tmp/ipykernel_1008063/2272583831.py:14: FutureWarning: Series.__getitem__ treating keys as positions is deprecated. In a future version, integer keys will always be treated as labels (consistent with DataFrame behavior). To access a value by position, use `ser.iloc[pos]`\n",
      "  atac_seq_adata.obs[col] = sample_metadata[col][i]\n",
      "/tmp/ipykernel_1008063/2272583831.py:14: ImplicitModificationWarning: Trying to modify attribute `.obs` of view, initializing view as actual.\n",
      "  atac_seq_adata.obs[col] = sample_metadata[col][i]\n",
      "/tmp/ipykernel_1008063/2272583831.py:13: FutureWarning: Series.__getitem__ treating keys as positions is deprecated. In a future version, integer keys will always be treated as labels (consistent with DataFrame behavior). To access a value by position, use `ser.iloc[pos]`\n",
      "  gene_expr_adata.obs[col] = sample_metadata[col][i]\n",
      "/tmp/ipykernel_1008063/2272583831.py:14: FutureWarning: Series.__getitem__ treating keys as positions is deprecated. In a future version, integer keys will always be treated as labels (consistent with DataFrame behavior). To access a value by position, use `ser.iloc[pos]`\n",
      "  atac_seq_adata.obs[col] = sample_metadata[col][i]\n",
      "/tmp/ipykernel_1008063/2272583831.py:13: FutureWarning: Series.__getitem__ treating keys as positions is deprecated. In a future version, integer keys will always be treated as labels (consistent with DataFrame behavior). To access a value by position, use `ser.iloc[pos]`\n",
      "  gene_expr_adata.obs[col] = sample_metadata[col][i]\n",
      "/tmp/ipykernel_1008063/2272583831.py:14: FutureWarning: Series.__getitem__ treating keys as positions is deprecated. In a future version, integer keys will always be treated as labels (consistent with DataFrame behavior). To access a value by position, use `ser.iloc[pos]`\n",
      "  atac_seq_adata.obs[col] = sample_metadata[col][i]\n"
     ]
    },
    {
     "name": "stdout",
     "output_type": "stream",
     "text": [
      "group\n",
      "file\n"
     ]
    },
    {
     "name": "stderr",
     "output_type": "stream",
     "text": [
      "/home/ceger/miniforge3/envs/heart_multiome-env/lib/python3.10/site-packages/anndata/_core/anndata.py:1908: UserWarning: Variable names are not unique. To make them unique, call `.var_names_make_unique`.\n",
      "  utils.warn_names_duplicates(\"var\")\n",
      "/tmp/ipykernel_1008063/2272583831.py:13: FutureWarning: Series.__getitem__ treating keys as positions is deprecated. In a future version, integer keys will always be treated as labels (consistent with DataFrame behavior). To access a value by position, use `ser.iloc[pos]`\n",
      "  gene_expr_adata.obs[col] = sample_metadata[col][i]\n",
      "/tmp/ipykernel_1008063/2272583831.py:13: ImplicitModificationWarning: Trying to modify attribute `.obs` of view, initializing view as actual.\n",
      "  gene_expr_adata.obs[col] = sample_metadata[col][i]\n"
     ]
    },
    {
     "name": "stdout",
     "output_type": "stream",
     "text": [
      "genotype\n",
      "group\n",
      "file\n"
     ]
    },
    {
     "name": "stderr",
     "output_type": "stream",
     "text": [
      "/home/ceger/miniforge3/envs/heart_multiome-env/lib/python3.10/site-packages/anndata/_core/anndata.py:1908: UserWarning: Variable names are not unique. To make them unique, call `.var_names_make_unique`.\n",
      "  utils.warn_names_duplicates(\"var\")\n",
      "/tmp/ipykernel_1008063/2272583831.py:14: FutureWarning: Series.__getitem__ treating keys as positions is deprecated. In a future version, integer keys will always be treated as labels (consistent with DataFrame behavior). To access a value by position, use `ser.iloc[pos]`\n",
      "  atac_seq_adata.obs[col] = sample_metadata[col][i]\n",
      "/tmp/ipykernel_1008063/2272583831.py:14: ImplicitModificationWarning: Trying to modify attribute `.obs` of view, initializing view as actual.\n",
      "  atac_seq_adata.obs[col] = sample_metadata[col][i]\n",
      "/tmp/ipykernel_1008063/2272583831.py:13: FutureWarning: Series.__getitem__ treating keys as positions is deprecated. In a future version, integer keys will always be treated as labels (consistent with DataFrame behavior). To access a value by position, use `ser.iloc[pos]`\n",
      "  gene_expr_adata.obs[col] = sample_metadata[col][i]\n",
      "/tmp/ipykernel_1008063/2272583831.py:14: FutureWarning: Series.__getitem__ treating keys as positions is deprecated. In a future version, integer keys will always be treated as labels (consistent with DataFrame behavior). To access a value by position, use `ser.iloc[pos]`\n",
      "  atac_seq_adata.obs[col] = sample_metadata[col][i]\n",
      "/tmp/ipykernel_1008063/2272583831.py:13: FutureWarning: Series.__getitem__ treating keys as positions is deprecated. In a future version, integer keys will always be treated as labels (consistent with DataFrame behavior). To access a value by position, use `ser.iloc[pos]`\n",
      "  gene_expr_adata.obs[col] = sample_metadata[col][i]\n",
      "/tmp/ipykernel_1008063/2272583831.py:14: FutureWarning: Series.__getitem__ treating keys as positions is deprecated. In a future version, integer keys will always be treated as labels (consistent with DataFrame behavior). To access a value by position, use `ser.iloc[pos]`\n",
      "  atac_seq_adata.obs[col] = sample_metadata[col][i]\n"
     ]
    }
   ],
   "source": [
    "gene_expr_adatas = []\n",
    "atac_seq_adatas = []\n",
    "\n",
    "for i, filename in enumerate(filenames):\n",
    "    adata = scvi.data.read_10x_multiome('../data/raw_data/cellranger/' + str(filename))\n",
    "     # Separate gene expression and ATAC-seq data\n",
    "    gene_expr_adata = adata[:, adata.var['modality'] == 'Gene Expression']\n",
    "    atac_seq_adata = adata[:, adata.var['modality'] == 'Peaks']\n",
    "\n",
    "    # Add metadata\n",
    "    for col in sample_metadata.columns:\n",
    "        print(col)\n",
    "        gene_expr_adata.obs[col] = sample_metadata[col][i]\n",
    "        atac_seq_adata.obs[col] = sample_metadata[col][i]\n",
    "\n",
    "    gene_expr_adatas.append(gene_expr_adata)\n",
    "    atac_seq_adatas.append(atac_seq_adata)"
   ]
  },
  {
   "cell_type": "code",
   "execution_count": 122,
   "metadata": {},
   "outputs": [
    {
     "data": {
      "text/plain": [
       "<722928x32285 sparse matrix of type '<class 'numpy.int64'>'\n",
       "\twith 17520926 stored elements in Compressed Sparse Row format>"
      ]
     },
     "execution_count": 122,
     "metadata": {},
     "output_type": "execute_result"
    }
   ],
   "source": [
    "gene_expr_adatas[2].X"
   ]
  },
  {
   "cell_type": "code",
   "execution_count": 108,
   "metadata": {},
   "outputs": [
    {
     "data": {
      "text/html": [
       "<div>\n",
       "<style scoped>\n",
       "    .dataframe tbody tr th:only-of-type {\n",
       "        vertical-align: middle;\n",
       "    }\n",
       "\n",
       "    .dataframe tbody tr th {\n",
       "        vertical-align: top;\n",
       "    }\n",
       "\n",
       "    .dataframe thead th {\n",
       "        text-align: right;\n",
       "    }\n",
       "</style>\n",
       "<table border=\"1\" class=\"dataframe\">\n",
       "  <thead>\n",
       "    <tr style=\"text-align: right;\">\n",
       "      <th></th>\n",
       "      <th>batch_id</th>\n",
       "      <th>genotype</th>\n",
       "      <th>group</th>\n",
       "      <th>file</th>\n",
       "    </tr>\n",
       "    <tr>\n",
       "      <th>barcode</th>\n",
       "      <th></th>\n",
       "      <th></th>\n",
       "      <th></th>\n",
       "      <th></th>\n",
       "    </tr>\n",
       "  </thead>\n",
       "  <tbody>\n",
       "    <tr>\n",
       "      <th>AAACAGCCAAACAACA</th>\n",
       "      <td>1</td>\n",
       "      <td>WT</td>\n",
       "      <td>KDM6A</td>\n",
       "      <td>SCC0203_2_Becker_multiome_E7_A5_nb40_outs</td>\n",
       "    </tr>\n",
       "    <tr>\n",
       "      <th>AAACAGCCAAACCTAT</th>\n",
       "      <td>1</td>\n",
       "      <td>WT</td>\n",
       "      <td>KDM6A</td>\n",
       "      <td>SCC0203_2_Becker_multiome_E7_A5_nb40_outs</td>\n",
       "    </tr>\n",
       "    <tr>\n",
       "      <th>AAACAGCCAAACGCGA</th>\n",
       "      <td>1</td>\n",
       "      <td>WT</td>\n",
       "      <td>KDM6A</td>\n",
       "      <td>SCC0203_2_Becker_multiome_E7_A5_nb40_outs</td>\n",
       "    </tr>\n",
       "    <tr>\n",
       "      <th>AAACAGCCAAACGGGC</th>\n",
       "      <td>1</td>\n",
       "      <td>WT</td>\n",
       "      <td>KDM6A</td>\n",
       "      <td>SCC0203_2_Becker_multiome_E7_A5_nb40_outs</td>\n",
       "    </tr>\n",
       "    <tr>\n",
       "      <th>AAACAGCCAAACTAAG</th>\n",
       "      <td>1</td>\n",
       "      <td>WT</td>\n",
       "      <td>KDM6A</td>\n",
       "      <td>SCC0203_2_Becker_multiome_E7_A5_nb40_outs</td>\n",
       "    </tr>\n",
       "    <tr>\n",
       "      <th>...</th>\n",
       "      <td>...</td>\n",
       "      <td>...</td>\n",
       "      <td>...</td>\n",
       "      <td>...</td>\n",
       "    </tr>\n",
       "    <tr>\n",
       "      <th>TTTGTTGGTTTGGGCG</th>\n",
       "      <td>1</td>\n",
       "      <td>WT</td>\n",
       "      <td>KDM6A</td>\n",
       "      <td>SCC0203_2_Becker_multiome_E7_A5_nb40_outs</td>\n",
       "    </tr>\n",
       "    <tr>\n",
       "      <th>TTTGTTGGTTTGGGTA</th>\n",
       "      <td>1</td>\n",
       "      <td>WT</td>\n",
       "      <td>KDM6A</td>\n",
       "      <td>SCC0203_2_Becker_multiome_E7_A5_nb40_outs</td>\n",
       "    </tr>\n",
       "    <tr>\n",
       "      <th>TTTGTTGGTTTGGTTC</th>\n",
       "      <td>1</td>\n",
       "      <td>WT</td>\n",
       "      <td>KDM6A</td>\n",
       "      <td>SCC0203_2_Becker_multiome_E7_A5_nb40_outs</td>\n",
       "    </tr>\n",
       "    <tr>\n",
       "      <th>TTTGTTGGTTTGTCTA</th>\n",
       "      <td>1</td>\n",
       "      <td>WT</td>\n",
       "      <td>KDM6A</td>\n",
       "      <td>SCC0203_2_Becker_multiome_E7_A5_nb40_outs</td>\n",
       "    </tr>\n",
       "    <tr>\n",
       "      <th>TTTGTTGGTTTGTGGA</th>\n",
       "      <td>1</td>\n",
       "      <td>WT</td>\n",
       "      <td>KDM6A</td>\n",
       "      <td>SCC0203_2_Becker_multiome_E7_A5_nb40_outs</td>\n",
       "    </tr>\n",
       "  </tbody>\n",
       "</table>\n",
       "<p>680548 rows × 4 columns</p>\n",
       "</div>"
      ],
      "text/plain": [
       "                  batch_id genotype  group  \\\n",
       "barcode                                      \n",
       "AAACAGCCAAACAACA         1       WT  KDM6A   \n",
       "AAACAGCCAAACCTAT         1       WT  KDM6A   \n",
       "AAACAGCCAAACGCGA         1       WT  KDM6A   \n",
       "AAACAGCCAAACGGGC         1       WT  KDM6A   \n",
       "AAACAGCCAAACTAAG         1       WT  KDM6A   \n",
       "...                    ...      ...    ...   \n",
       "TTTGTTGGTTTGGGCG         1       WT  KDM6A   \n",
       "TTTGTTGGTTTGGGTA         1       WT  KDM6A   \n",
       "TTTGTTGGTTTGGTTC         1       WT  KDM6A   \n",
       "TTTGTTGGTTTGTCTA         1       WT  KDM6A   \n",
       "TTTGTTGGTTTGTGGA         1       WT  KDM6A   \n",
       "\n",
       "                                                       file  \n",
       "barcode                                                      \n",
       "AAACAGCCAAACAACA  SCC0203_2_Becker_multiome_E7_A5_nb40_outs  \n",
       "AAACAGCCAAACCTAT  SCC0203_2_Becker_multiome_E7_A5_nb40_outs  \n",
       "AAACAGCCAAACGCGA  SCC0203_2_Becker_multiome_E7_A5_nb40_outs  \n",
       "AAACAGCCAAACGGGC  SCC0203_2_Becker_multiome_E7_A5_nb40_outs  \n",
       "AAACAGCCAAACTAAG  SCC0203_2_Becker_multiome_E7_A5_nb40_outs  \n",
       "...                                                     ...  \n",
       "TTTGTTGGTTTGGGCG  SCC0203_2_Becker_multiome_E7_A5_nb40_outs  \n",
       "TTTGTTGGTTTGGGTA  SCC0203_2_Becker_multiome_E7_A5_nb40_outs  \n",
       "TTTGTTGGTTTGGTTC  SCC0203_2_Becker_multiome_E7_A5_nb40_outs  \n",
       "TTTGTTGGTTTGTCTA  SCC0203_2_Becker_multiome_E7_A5_nb40_outs  \n",
       "TTTGTTGGTTTGTGGA  SCC0203_2_Becker_multiome_E7_A5_nb40_outs  \n",
       "\n",
       "[680548 rows x 4 columns]"
      ]
     },
     "execution_count": 108,
     "metadata": {},
     "output_type": "execute_result"
    }
   ],
   "source": [
    "gene_expr_adatas[1].obs"
   ]
  },
  {
   "cell_type": "code",
   "execution_count": 103,
   "metadata": {},
   "outputs": [
    {
     "ename": "ValueError",
     "evalue": "cannot reindex on an axis with duplicate labels",
     "output_type": "error",
     "traceback": [
      "\u001b[0;31m---------------------------------------------------------------------------\u001b[0m",
      "\u001b[0;31mValueError\u001b[0m                                Traceback (most recent call last)",
      "\u001b[1;32m/mnt/LaCIE/ceger/Projects/Heart_Multiome/Kdm6aKO/0-generate_anndata_objects/231207_format_10Xmultiome_to_anndata.ipynb Cell 15\u001b[0m line \u001b[0;36m1\n\u001b[0;32m----> <a href='vscode-notebook-cell://ssh-remote%2B132.187.167.21/mnt/LaCIE/ceger/Projects/Heart_Multiome/Kdm6aKO/0-generate_anndata_objects/231207_format_10Xmultiome_to_anndata.ipynb#X50sdnNjb2RlLXJlbW90ZQ%3D%3D?line=0'>1</a>\u001b[0m anndata\u001b[39m.\u001b[39;49mconcat(gene_expr_adatas, join\u001b[39m=\u001b[39;49m\u001b[39m'\u001b[39;49m\u001b[39minner\u001b[39;49m\u001b[39m'\u001b[39;49m)\n",
      "File \u001b[0;32m~/miniforge3/envs/heart_multiome-env/lib/python3.10/site-packages/anndata/_core/merge.py:1288\u001b[0m, in \u001b[0;36mconcat\u001b[0;34m(adatas, axis, join, merge, uns_merge, label, keys, index_unique, fill_value, pairwise)\u001b[0m\n\u001b[1;32m   1285\u001b[0m     concat_annot[label] \u001b[39m=\u001b[39m label_col\n\u001b[1;32m   1287\u001b[0m \u001b[39m# Annotation for other axis\u001b[39;00m\n\u001b[0;32m-> 1288\u001b[0m alt_annot \u001b[39m=\u001b[39m merge_dataframes(\n\u001b[1;32m   1289\u001b[0m     [\u001b[39mgetattr\u001b[39;49m(a, alt_dim) \u001b[39mfor\u001b[39;49;00m a \u001b[39min\u001b[39;49;00m adatas], alt_indices, merge\n\u001b[1;32m   1290\u001b[0m )\n\u001b[1;32m   1292\u001b[0m X \u001b[39m=\u001b[39m concat_Xs(adatas, reindexers, axis\u001b[39m=\u001b[39maxis, fill_value\u001b[39m=\u001b[39mfill_value)\n\u001b[1;32m   1294\u001b[0m \u001b[39mif\u001b[39;00m join \u001b[39m==\u001b[39m \u001b[39m\"\u001b[39m\u001b[39minner\u001b[39m\u001b[39m\"\u001b[39m:\n",
      "File \u001b[0;32m~/miniforge3/envs/heart_multiome-env/lib/python3.10/site-packages/anndata/_core/merge.py:972\u001b[0m, in \u001b[0;36mmerge_dataframes\u001b[0;34m(dfs, new_index, merge_strategy)\u001b[0m\n\u001b[1;32m    969\u001b[0m \u001b[39mdef\u001b[39;00m \u001b[39mmerge_dataframes\u001b[39m(\n\u001b[1;32m    970\u001b[0m     dfs: Iterable[pd\u001b[39m.\u001b[39mDataFrame], new_index, merge_strategy\u001b[39m=\u001b[39mmerge_unique\n\u001b[1;32m    971\u001b[0m ) \u001b[39m-\u001b[39m\u001b[39m>\u001b[39m pd\u001b[39m.\u001b[39mDataFrame:\n\u001b[0;32m--> 972\u001b[0m     dfs \u001b[39m=\u001b[39m [df\u001b[39m.\u001b[39mreindex(index\u001b[39m=\u001b[39mnew_index) \u001b[39mfor\u001b[39;00m df \u001b[39min\u001b[39;00m dfs]\n\u001b[1;32m    973\u001b[0m     \u001b[39m# New dataframe with all shared data\u001b[39;00m\n\u001b[1;32m    974\u001b[0m     new_df \u001b[39m=\u001b[39m pd\u001b[39m.\u001b[39mDataFrame(merge_strategy(dfs), index\u001b[39m=\u001b[39mnew_index)\n",
      "File \u001b[0;32m~/miniforge3/envs/heart_multiome-env/lib/python3.10/site-packages/anndata/_core/merge.py:972\u001b[0m, in \u001b[0;36m<listcomp>\u001b[0;34m(.0)\u001b[0m\n\u001b[1;32m    969\u001b[0m \u001b[39mdef\u001b[39;00m \u001b[39mmerge_dataframes\u001b[39m(\n\u001b[1;32m    970\u001b[0m     dfs: Iterable[pd\u001b[39m.\u001b[39mDataFrame], new_index, merge_strategy\u001b[39m=\u001b[39mmerge_unique\n\u001b[1;32m    971\u001b[0m ) \u001b[39m-\u001b[39m\u001b[39m>\u001b[39m pd\u001b[39m.\u001b[39mDataFrame:\n\u001b[0;32m--> 972\u001b[0m     dfs \u001b[39m=\u001b[39m [df\u001b[39m.\u001b[39;49mreindex(index\u001b[39m=\u001b[39;49mnew_index) \u001b[39mfor\u001b[39;00m df \u001b[39min\u001b[39;00m dfs]\n\u001b[1;32m    973\u001b[0m     \u001b[39m# New dataframe with all shared data\u001b[39;00m\n\u001b[1;32m    974\u001b[0m     new_df \u001b[39m=\u001b[39m pd\u001b[39m.\u001b[39mDataFrame(merge_strategy(dfs), index\u001b[39m=\u001b[39mnew_index)\n",
      "File \u001b[0;32m~/miniforge3/envs/heart_multiome-env/lib/python3.10/site-packages/pandas/core/frame.py:5365\u001b[0m, in \u001b[0;36mDataFrame.reindex\u001b[0;34m(self, labels, index, columns, axis, method, copy, level, fill_value, limit, tolerance)\u001b[0m\n\u001b[1;32m   5346\u001b[0m \u001b[39m@doc\u001b[39m(\n\u001b[1;32m   5347\u001b[0m     NDFrame\u001b[39m.\u001b[39mreindex,\n\u001b[1;32m   5348\u001b[0m     klass\u001b[39m=\u001b[39m_shared_doc_kwargs[\u001b[39m\"\u001b[39m\u001b[39mklass\u001b[39m\u001b[39m\"\u001b[39m],\n\u001b[0;32m   (...)\u001b[0m\n\u001b[1;32m   5363\u001b[0m     tolerance\u001b[39m=\u001b[39m\u001b[39mNone\u001b[39;00m,\n\u001b[1;32m   5364\u001b[0m ) \u001b[39m-\u001b[39m\u001b[39m>\u001b[39m DataFrame:\n\u001b[0;32m-> 5365\u001b[0m     \u001b[39mreturn\u001b[39;00m \u001b[39msuper\u001b[39;49m()\u001b[39m.\u001b[39;49mreindex(\n\u001b[1;32m   5366\u001b[0m         labels\u001b[39m=\u001b[39;49mlabels,\n\u001b[1;32m   5367\u001b[0m         index\u001b[39m=\u001b[39;49mindex,\n\u001b[1;32m   5368\u001b[0m         columns\u001b[39m=\u001b[39;49mcolumns,\n\u001b[1;32m   5369\u001b[0m         axis\u001b[39m=\u001b[39;49maxis,\n\u001b[1;32m   5370\u001b[0m         method\u001b[39m=\u001b[39;49mmethod,\n\u001b[1;32m   5371\u001b[0m         copy\u001b[39m=\u001b[39;49mcopy,\n\u001b[1;32m   5372\u001b[0m         level\u001b[39m=\u001b[39;49mlevel,\n\u001b[1;32m   5373\u001b[0m         fill_value\u001b[39m=\u001b[39;49mfill_value,\n\u001b[1;32m   5374\u001b[0m         limit\u001b[39m=\u001b[39;49mlimit,\n\u001b[1;32m   5375\u001b[0m         tolerance\u001b[39m=\u001b[39;49mtolerance,\n\u001b[1;32m   5376\u001b[0m     )\n",
      "File \u001b[0;32m~/miniforge3/envs/heart_multiome-env/lib/python3.10/site-packages/pandas/core/generic.py:5607\u001b[0m, in \u001b[0;36mNDFrame.reindex\u001b[0;34m(self, labels, index, columns, axis, method, copy, level, fill_value, limit, tolerance)\u001b[0m\n\u001b[1;32m   5604\u001b[0m     \u001b[39mreturn\u001b[39;00m \u001b[39mself\u001b[39m\u001b[39m.\u001b[39m_reindex_multi(axes, copy, fill_value)\n\u001b[1;32m   5606\u001b[0m \u001b[39m# perform the reindex on the axes\u001b[39;00m\n\u001b[0;32m-> 5607\u001b[0m \u001b[39mreturn\u001b[39;00m \u001b[39mself\u001b[39;49m\u001b[39m.\u001b[39;49m_reindex_axes(\n\u001b[1;32m   5608\u001b[0m     axes, level, limit, tolerance, method, fill_value, copy\n\u001b[1;32m   5609\u001b[0m )\u001b[39m.\u001b[39m__finalize__(\u001b[39mself\u001b[39m, method\u001b[39m=\u001b[39m\u001b[39m\"\u001b[39m\u001b[39mreindex\u001b[39m\u001b[39m\"\u001b[39m)\n",
      "File \u001b[0;32m~/miniforge3/envs/heart_multiome-env/lib/python3.10/site-packages/pandas/core/generic.py:5630\u001b[0m, in \u001b[0;36mNDFrame._reindex_axes\u001b[0;34m(self, axes, level, limit, tolerance, method, fill_value, copy)\u001b[0m\n\u001b[1;32m   5627\u001b[0m     \u001b[39mcontinue\u001b[39;00m\n\u001b[1;32m   5629\u001b[0m ax \u001b[39m=\u001b[39m \u001b[39mself\u001b[39m\u001b[39m.\u001b[39m_get_axis(a)\n\u001b[0;32m-> 5630\u001b[0m new_index, indexer \u001b[39m=\u001b[39m ax\u001b[39m.\u001b[39;49mreindex(\n\u001b[1;32m   5631\u001b[0m     labels, level\u001b[39m=\u001b[39;49mlevel, limit\u001b[39m=\u001b[39;49mlimit, tolerance\u001b[39m=\u001b[39;49mtolerance, method\u001b[39m=\u001b[39;49mmethod\n\u001b[1;32m   5632\u001b[0m )\n\u001b[1;32m   5634\u001b[0m axis \u001b[39m=\u001b[39m \u001b[39mself\u001b[39m\u001b[39m.\u001b[39m_get_axis_number(a)\n\u001b[1;32m   5635\u001b[0m obj \u001b[39m=\u001b[39m obj\u001b[39m.\u001b[39m_reindex_with_indexers(\n\u001b[1;32m   5636\u001b[0m     {axis: [new_index, indexer]},\n\u001b[1;32m   5637\u001b[0m     fill_value\u001b[39m=\u001b[39mfill_value,\n\u001b[1;32m   5638\u001b[0m     copy\u001b[39m=\u001b[39mcopy,\n\u001b[1;32m   5639\u001b[0m     allow_dups\u001b[39m=\u001b[39m\u001b[39mFalse\u001b[39;00m,\n\u001b[1;32m   5640\u001b[0m )\n",
      "File \u001b[0;32m~/miniforge3/envs/heart_multiome-env/lib/python3.10/site-packages/pandas/core/indexes/base.py:4429\u001b[0m, in \u001b[0;36mIndex.reindex\u001b[0;34m(self, target, method, level, limit, tolerance)\u001b[0m\n\u001b[1;32m   4426\u001b[0m     \u001b[39mraise\u001b[39;00m \u001b[39mValueError\u001b[39;00m(\u001b[39m\"\u001b[39m\u001b[39mcannot handle a non-unique multi-index!\u001b[39m\u001b[39m\"\u001b[39m)\n\u001b[1;32m   4427\u001b[0m \u001b[39melif\u001b[39;00m \u001b[39mnot\u001b[39;00m \u001b[39mself\u001b[39m\u001b[39m.\u001b[39mis_unique:\n\u001b[1;32m   4428\u001b[0m     \u001b[39m# GH#42568\u001b[39;00m\n\u001b[0;32m-> 4429\u001b[0m     \u001b[39mraise\u001b[39;00m \u001b[39mValueError\u001b[39;00m(\u001b[39m\"\u001b[39m\u001b[39mcannot reindex on an axis with duplicate labels\u001b[39m\u001b[39m\"\u001b[39m)\n\u001b[1;32m   4430\u001b[0m \u001b[39melse\u001b[39;00m:\n\u001b[1;32m   4431\u001b[0m     indexer, _ \u001b[39m=\u001b[39m \u001b[39mself\u001b[39m\u001b[39m.\u001b[39mget_indexer_non_unique(target)\n",
      "\u001b[0;31mValueError\u001b[0m: cannot reindex on an axis with duplicate labels"
     ]
    }
   ],
   "source": [
    "anndata.concat(gene_expr_adatas, join='inner')"
   ]
  },
  {
   "cell_type": "code",
   "execution_count": 74,
   "metadata": {},
   "outputs": [
    {
     "name": "stderr",
     "output_type": "stream",
     "text": [
      "/tmp/ipykernel_1008063/225225810.py:1: FutureWarning: Use anndata.concat instead of AnnData.concatenate, AnnData.concatenate is deprecated and will be removed in the future. See the tutorial for concat at: https://anndata.readthedocs.io/en/latest/concatenation.html\n",
      "  concatenated_gene_expr = gene_expr_adatas[0].concatenate(gene_expr_adatas[1:], join='inner')\n"
     ]
    },
    {
     "ename": "ValueError",
     "evalue": "cannot reindex on an axis with duplicate labels",
     "output_type": "error",
     "traceback": [
      "\u001b[0;31m---------------------------------------------------------------------------\u001b[0m",
      "\u001b[0;31mValueError\u001b[0m                                Traceback (most recent call last)",
      "\u001b[1;32m/mnt/LaCIE/ceger/Projects/Heart_Multiome/Kdm6aKO/0-generate_anndata_objects/231207_format_10Xmultiome_to_anndata.ipynb Cell 13\u001b[0m line \u001b[0;36m1\n\u001b[0;32m----> <a href='vscode-notebook-cell://ssh-remote%2B132.187.167.21/mnt/LaCIE/ceger/Projects/Heart_Multiome/Kdm6aKO/0-generate_anndata_objects/231207_format_10Xmultiome_to_anndata.ipynb#X13sdnNjb2RlLXJlbW90ZQ%3D%3D?line=0'>1</a>\u001b[0m concatenated_gene_expr \u001b[39m=\u001b[39m gene_expr_adatas[\u001b[39m0\u001b[39;49m]\u001b[39m.\u001b[39;49mconcatenate(gene_expr_adatas[\u001b[39m1\u001b[39;49m:], join\u001b[39m=\u001b[39;49m\u001b[39m'\u001b[39;49m\u001b[39minner\u001b[39;49m\u001b[39m'\u001b[39;49m)\n\u001b[1;32m      <a href='vscode-notebook-cell://ssh-remote%2B132.187.167.21/mnt/LaCIE/ceger/Projects/Heart_Multiome/Kdm6aKO/0-generate_anndata_objects/231207_format_10Xmultiome_to_anndata.ipynb#X13sdnNjb2RlLXJlbW90ZQ%3D%3D?line=1'>2</a>\u001b[0m concatenated_atac_seq \u001b[39m=\u001b[39m atac_seq_adatas[\u001b[39m0\u001b[39m]\u001b[39m.\u001b[39mconcatenate(atac_seq_adatas[\u001b[39m1\u001b[39m:], join\u001b[39m=\u001b[39m\u001b[39m'\u001b[39m\u001b[39mouter\u001b[39m\u001b[39m'\u001b[39m)\n",
      "File \u001b[0;32m~/miniforge3/envs/heart_multiome-env/lib/python3.10/site-packages/anndata/utils.py:364\u001b[0m, in \u001b[0;36mdeprecated.<locals>.decorator.<locals>.new_func\u001b[0;34m(*args, **kwargs)\u001b[0m\n\u001b[1;32m    361\u001b[0m \u001b[39m@wraps\u001b[39m(func)\n\u001b[1;32m    362\u001b[0m \u001b[39mdef\u001b[39;00m \u001b[39mnew_func\u001b[39m(\u001b[39m*\u001b[39margs, \u001b[39m*\u001b[39m\u001b[39m*\u001b[39mkwargs):\n\u001b[1;32m    363\u001b[0m     warnings\u001b[39m.\u001b[39mwarn(msg, category\u001b[39m=\u001b[39mcategory, stacklevel\u001b[39m=\u001b[39m\u001b[39m2\u001b[39m)\n\u001b[0;32m--> 364\u001b[0m     \u001b[39mreturn\u001b[39;00m func(\u001b[39m*\u001b[39;49margs, \u001b[39m*\u001b[39;49m\u001b[39m*\u001b[39;49mkwargs)\n",
      "File \u001b[0;32m~/miniforge3/envs/heart_multiome-env/lib/python3.10/site-packages/anndata/_core/anndata.py:1848\u001b[0m, in \u001b[0;36mAnnData.concatenate\u001b[0;34m(self, join, batch_key, batch_categories, uns_merge, index_unique, fill_value, *adatas)\u001b[0m\n\u001b[1;32m   1845\u001b[0m     adatas \u001b[39m=\u001b[39m adatas[\u001b[39m0\u001b[39m]  \u001b[39m# backwards compatibility\u001b[39;00m\n\u001b[1;32m   1846\u001b[0m all_adatas \u001b[39m=\u001b[39m (\u001b[39mself\u001b[39m,) \u001b[39m+\u001b[39m \u001b[39mtuple\u001b[39m(adatas)\n\u001b[0;32m-> 1848\u001b[0m out \u001b[39m=\u001b[39m concat(\n\u001b[1;32m   1849\u001b[0m     all_adatas,\n\u001b[1;32m   1850\u001b[0m     axis\u001b[39m=\u001b[39;49m\u001b[39m0\u001b[39;49m,\n\u001b[1;32m   1851\u001b[0m     join\u001b[39m=\u001b[39;49mjoin,\n\u001b[1;32m   1852\u001b[0m     label\u001b[39m=\u001b[39;49mbatch_key,\n\u001b[1;32m   1853\u001b[0m     keys\u001b[39m=\u001b[39;49mbatch_categories,\n\u001b[1;32m   1854\u001b[0m     uns_merge\u001b[39m=\u001b[39;49muns_merge,\n\u001b[1;32m   1855\u001b[0m     fill_value\u001b[39m=\u001b[39;49mfill_value,\n\u001b[1;32m   1856\u001b[0m     index_unique\u001b[39m=\u001b[39;49mindex_unique,\n\u001b[1;32m   1857\u001b[0m     pairwise\u001b[39m=\u001b[39;49m\u001b[39mFalse\u001b[39;49;00m,\n\u001b[1;32m   1858\u001b[0m )\n\u001b[1;32m   1860\u001b[0m \u001b[39m# Backwards compat (some of this could be more efficient)\u001b[39;00m\n\u001b[1;32m   1861\u001b[0m \u001b[39m# obs used to always be an outer join\u001b[39;00m\n\u001b[1;32m   1862\u001b[0m out\u001b[39m.\u001b[39mobs \u001b[39m=\u001b[39m concat(\n\u001b[1;32m   1863\u001b[0m     [AnnData(sparse\u001b[39m.\u001b[39mcsr_matrix(a\u001b[39m.\u001b[39mshape), obs\u001b[39m=\u001b[39ma\u001b[39m.\u001b[39mobs) \u001b[39mfor\u001b[39;00m a \u001b[39min\u001b[39;00m all_adatas],\n\u001b[1;32m   1864\u001b[0m     axis\u001b[39m=\u001b[39m\u001b[39m0\u001b[39m,\n\u001b[0;32m   (...)\u001b[0m\n\u001b[1;32m   1868\u001b[0m     index_unique\u001b[39m=\u001b[39mindex_unique,\n\u001b[1;32m   1869\u001b[0m )\u001b[39m.\u001b[39mobs\n",
      "File \u001b[0;32m~/miniforge3/envs/heart_multiome-env/lib/python3.10/site-packages/anndata/_core/merge.py:1288\u001b[0m, in \u001b[0;36mconcat\u001b[0;34m(adatas, axis, join, merge, uns_merge, label, keys, index_unique, fill_value, pairwise)\u001b[0m\n\u001b[1;32m   1285\u001b[0m     concat_annot[label] \u001b[39m=\u001b[39m label_col\n\u001b[1;32m   1287\u001b[0m \u001b[39m# Annotation for other axis\u001b[39;00m\n\u001b[0;32m-> 1288\u001b[0m alt_annot \u001b[39m=\u001b[39m merge_dataframes(\n\u001b[1;32m   1289\u001b[0m     [\u001b[39mgetattr\u001b[39;49m(a, alt_dim) \u001b[39mfor\u001b[39;49;00m a \u001b[39min\u001b[39;49;00m adatas], alt_indices, merge\n\u001b[1;32m   1290\u001b[0m )\n\u001b[1;32m   1292\u001b[0m X \u001b[39m=\u001b[39m concat_Xs(adatas, reindexers, axis\u001b[39m=\u001b[39maxis, fill_value\u001b[39m=\u001b[39mfill_value)\n\u001b[1;32m   1294\u001b[0m \u001b[39mif\u001b[39;00m join \u001b[39m==\u001b[39m \u001b[39m\"\u001b[39m\u001b[39minner\u001b[39m\u001b[39m\"\u001b[39m:\n",
      "File \u001b[0;32m~/miniforge3/envs/heart_multiome-env/lib/python3.10/site-packages/anndata/_core/merge.py:972\u001b[0m, in \u001b[0;36mmerge_dataframes\u001b[0;34m(dfs, new_index, merge_strategy)\u001b[0m\n\u001b[1;32m    969\u001b[0m \u001b[39mdef\u001b[39;00m \u001b[39mmerge_dataframes\u001b[39m(\n\u001b[1;32m    970\u001b[0m     dfs: Iterable[pd\u001b[39m.\u001b[39mDataFrame], new_index, merge_strategy\u001b[39m=\u001b[39mmerge_unique\n\u001b[1;32m    971\u001b[0m ) \u001b[39m-\u001b[39m\u001b[39m>\u001b[39m pd\u001b[39m.\u001b[39mDataFrame:\n\u001b[0;32m--> 972\u001b[0m     dfs \u001b[39m=\u001b[39m [df\u001b[39m.\u001b[39mreindex(index\u001b[39m=\u001b[39mnew_index) \u001b[39mfor\u001b[39;00m df \u001b[39min\u001b[39;00m dfs]\n\u001b[1;32m    973\u001b[0m     \u001b[39m# New dataframe with all shared data\u001b[39;00m\n\u001b[1;32m    974\u001b[0m     new_df \u001b[39m=\u001b[39m pd\u001b[39m.\u001b[39mDataFrame(merge_strategy(dfs), index\u001b[39m=\u001b[39mnew_index)\n",
      "File \u001b[0;32m~/miniforge3/envs/heart_multiome-env/lib/python3.10/site-packages/anndata/_core/merge.py:972\u001b[0m, in \u001b[0;36m<listcomp>\u001b[0;34m(.0)\u001b[0m\n\u001b[1;32m    969\u001b[0m \u001b[39mdef\u001b[39;00m \u001b[39mmerge_dataframes\u001b[39m(\n\u001b[1;32m    970\u001b[0m     dfs: Iterable[pd\u001b[39m.\u001b[39mDataFrame], new_index, merge_strategy\u001b[39m=\u001b[39mmerge_unique\n\u001b[1;32m    971\u001b[0m ) \u001b[39m-\u001b[39m\u001b[39m>\u001b[39m pd\u001b[39m.\u001b[39mDataFrame:\n\u001b[0;32m--> 972\u001b[0m     dfs \u001b[39m=\u001b[39m [df\u001b[39m.\u001b[39;49mreindex(index\u001b[39m=\u001b[39;49mnew_index) \u001b[39mfor\u001b[39;00m df \u001b[39min\u001b[39;00m dfs]\n\u001b[1;32m    973\u001b[0m     \u001b[39m# New dataframe with all shared data\u001b[39;00m\n\u001b[1;32m    974\u001b[0m     new_df \u001b[39m=\u001b[39m pd\u001b[39m.\u001b[39mDataFrame(merge_strategy(dfs), index\u001b[39m=\u001b[39mnew_index)\n",
      "File \u001b[0;32m~/miniforge3/envs/heart_multiome-env/lib/python3.10/site-packages/pandas/core/frame.py:5365\u001b[0m, in \u001b[0;36mDataFrame.reindex\u001b[0;34m(self, labels, index, columns, axis, method, copy, level, fill_value, limit, tolerance)\u001b[0m\n\u001b[1;32m   5346\u001b[0m \u001b[39m@doc\u001b[39m(\n\u001b[1;32m   5347\u001b[0m     NDFrame\u001b[39m.\u001b[39mreindex,\n\u001b[1;32m   5348\u001b[0m     klass\u001b[39m=\u001b[39m_shared_doc_kwargs[\u001b[39m\"\u001b[39m\u001b[39mklass\u001b[39m\u001b[39m\"\u001b[39m],\n\u001b[0;32m   (...)\u001b[0m\n\u001b[1;32m   5363\u001b[0m     tolerance\u001b[39m=\u001b[39m\u001b[39mNone\u001b[39;00m,\n\u001b[1;32m   5364\u001b[0m ) \u001b[39m-\u001b[39m\u001b[39m>\u001b[39m DataFrame:\n\u001b[0;32m-> 5365\u001b[0m     \u001b[39mreturn\u001b[39;00m \u001b[39msuper\u001b[39;49m()\u001b[39m.\u001b[39;49mreindex(\n\u001b[1;32m   5366\u001b[0m         labels\u001b[39m=\u001b[39;49mlabels,\n\u001b[1;32m   5367\u001b[0m         index\u001b[39m=\u001b[39;49mindex,\n\u001b[1;32m   5368\u001b[0m         columns\u001b[39m=\u001b[39;49mcolumns,\n\u001b[1;32m   5369\u001b[0m         axis\u001b[39m=\u001b[39;49maxis,\n\u001b[1;32m   5370\u001b[0m         method\u001b[39m=\u001b[39;49mmethod,\n\u001b[1;32m   5371\u001b[0m         copy\u001b[39m=\u001b[39;49mcopy,\n\u001b[1;32m   5372\u001b[0m         level\u001b[39m=\u001b[39;49mlevel,\n\u001b[1;32m   5373\u001b[0m         fill_value\u001b[39m=\u001b[39;49mfill_value,\n\u001b[1;32m   5374\u001b[0m         limit\u001b[39m=\u001b[39;49mlimit,\n\u001b[1;32m   5375\u001b[0m         tolerance\u001b[39m=\u001b[39;49mtolerance,\n\u001b[1;32m   5376\u001b[0m     )\n",
      "File \u001b[0;32m~/miniforge3/envs/heart_multiome-env/lib/python3.10/site-packages/pandas/core/generic.py:5607\u001b[0m, in \u001b[0;36mNDFrame.reindex\u001b[0;34m(self, labels, index, columns, axis, method, copy, level, fill_value, limit, tolerance)\u001b[0m\n\u001b[1;32m   5604\u001b[0m     \u001b[39mreturn\u001b[39;00m \u001b[39mself\u001b[39m\u001b[39m.\u001b[39m_reindex_multi(axes, copy, fill_value)\n\u001b[1;32m   5606\u001b[0m \u001b[39m# perform the reindex on the axes\u001b[39;00m\n\u001b[0;32m-> 5607\u001b[0m \u001b[39mreturn\u001b[39;00m \u001b[39mself\u001b[39;49m\u001b[39m.\u001b[39;49m_reindex_axes(\n\u001b[1;32m   5608\u001b[0m     axes, level, limit, tolerance, method, fill_value, copy\n\u001b[1;32m   5609\u001b[0m )\u001b[39m.\u001b[39m__finalize__(\u001b[39mself\u001b[39m, method\u001b[39m=\u001b[39m\u001b[39m\"\u001b[39m\u001b[39mreindex\u001b[39m\u001b[39m\"\u001b[39m)\n",
      "File \u001b[0;32m~/miniforge3/envs/heart_multiome-env/lib/python3.10/site-packages/pandas/core/generic.py:5630\u001b[0m, in \u001b[0;36mNDFrame._reindex_axes\u001b[0;34m(self, axes, level, limit, tolerance, method, fill_value, copy)\u001b[0m\n\u001b[1;32m   5627\u001b[0m     \u001b[39mcontinue\u001b[39;00m\n\u001b[1;32m   5629\u001b[0m ax \u001b[39m=\u001b[39m \u001b[39mself\u001b[39m\u001b[39m.\u001b[39m_get_axis(a)\n\u001b[0;32m-> 5630\u001b[0m new_index, indexer \u001b[39m=\u001b[39m ax\u001b[39m.\u001b[39;49mreindex(\n\u001b[1;32m   5631\u001b[0m     labels, level\u001b[39m=\u001b[39;49mlevel, limit\u001b[39m=\u001b[39;49mlimit, tolerance\u001b[39m=\u001b[39;49mtolerance, method\u001b[39m=\u001b[39;49mmethod\n\u001b[1;32m   5632\u001b[0m )\n\u001b[1;32m   5634\u001b[0m axis \u001b[39m=\u001b[39m \u001b[39mself\u001b[39m\u001b[39m.\u001b[39m_get_axis_number(a)\n\u001b[1;32m   5635\u001b[0m obj \u001b[39m=\u001b[39m obj\u001b[39m.\u001b[39m_reindex_with_indexers(\n\u001b[1;32m   5636\u001b[0m     {axis: [new_index, indexer]},\n\u001b[1;32m   5637\u001b[0m     fill_value\u001b[39m=\u001b[39mfill_value,\n\u001b[1;32m   5638\u001b[0m     copy\u001b[39m=\u001b[39mcopy,\n\u001b[1;32m   5639\u001b[0m     allow_dups\u001b[39m=\u001b[39m\u001b[39mFalse\u001b[39;00m,\n\u001b[1;32m   5640\u001b[0m )\n",
      "File \u001b[0;32m~/miniforge3/envs/heart_multiome-env/lib/python3.10/site-packages/pandas/core/indexes/base.py:4429\u001b[0m, in \u001b[0;36mIndex.reindex\u001b[0;34m(self, target, method, level, limit, tolerance)\u001b[0m\n\u001b[1;32m   4426\u001b[0m     \u001b[39mraise\u001b[39;00m \u001b[39mValueError\u001b[39;00m(\u001b[39m\"\u001b[39m\u001b[39mcannot handle a non-unique multi-index!\u001b[39m\u001b[39m\"\u001b[39m)\n\u001b[1;32m   4427\u001b[0m \u001b[39melif\u001b[39;00m \u001b[39mnot\u001b[39;00m \u001b[39mself\u001b[39m\u001b[39m.\u001b[39mis_unique:\n\u001b[1;32m   4428\u001b[0m     \u001b[39m# GH#42568\u001b[39;00m\n\u001b[0;32m-> 4429\u001b[0m     \u001b[39mraise\u001b[39;00m \u001b[39mValueError\u001b[39;00m(\u001b[39m\"\u001b[39m\u001b[39mcannot reindex on an axis with duplicate labels\u001b[39m\u001b[39m\"\u001b[39m)\n\u001b[1;32m   4430\u001b[0m \u001b[39melse\u001b[39;00m:\n\u001b[1;32m   4431\u001b[0m     indexer, _ \u001b[39m=\u001b[39m \u001b[39mself\u001b[39m\u001b[39m.\u001b[39mget_indexer_non_unique(target)\n",
      "\u001b[0;31mValueError\u001b[0m: cannot reindex on an axis with duplicate labels"
     ]
    }
   ],
   "source": [
    "concatenated_gene_expr = gene_expr_adatas[0].concatenate(gene_expr_adatas[1:], join='inner')\n",
    "concatenated_atac_seq = atac_seq_adatas[0].concatenate(atac_seq_adatas[1:], join='outer')"
   ]
  },
  {
   "cell_type": "code",
   "execution_count": null,
   "metadata": {},
   "outputs": [],
   "source": [
    "# Step 4: Add 'modality' Column\n",
    "concatenated_gene_expr.obs['modality'] = 'Gene Expression'\n",
    "concatenated_atac_seq.obs['modality'] = 'Peaks'"
   ]
  },
  {
   "cell_type": "code",
   "execution_count": null,
   "metadata": {},
   "outputs": [],
   "source": [
    "final_adata = concatenated_gene_expr.concatenate(concatenated_atac_seq, join='outer')\n",
    "print(final_adata.shape)\n"
   ]
  },
  {
   "cell_type": "code",
   "execution_count": null,
   "metadata": {},
   "outputs": [],
   "source": [
    "sample_metadata['sample']"
   ]
  },
  {
   "cell_type": "code",
   "execution_count": null,
   "metadata": {},
   "outputs": [],
   "source": [
    "adata1 = scvi.data.read_10x_multiome('../data/' + 'SCC0203_1_Becker_multiome_D11_A2_outs' + '/outs/filtered_feature_bc_matrix/')\n",
    "adata1.var_names_make_unique()\n",
    "adata1"
   ]
  },
  {
   "cell_type": "code",
   "execution_count": null,
   "metadata": {},
   "outputs": [],
   "source": [
    "adata1.var"
   ]
  },
  {
   "cell_type": "code",
   "execution_count": null,
   "metadata": {},
   "outputs": [],
   "source": [
    "adata1.var['modality'].value_counts()"
   ]
  },
  {
   "cell_type": "code",
   "execution_count": null,
   "metadata": {},
   "outputs": [],
   "source": [
    "filenames = sample_metadata.index\n",
    "adatas = [scvi.data.read_10x_multiome('../data/' + str(filename) + '/outs/raw_feature_bc_matrix/') for filename in filenames]\n",
    "for i in range(len(adatas)):\n",
    "    adatas[i].obs['sample'] = sample_metadata['sample'][i]\n",
    "    adatas[i].var_names_make_unique()\n",
    "    for col in sample_metadata.columns:\n",
    "        adatas[i].obs[col] = sample_metadata[col][i]\n",
    "adata = adatas[0].concatenate(adatas[1:], batch_categories = sample_metadata.index, join = 'outer')\n",
    "adata.shape"
   ]
  },
  {
   "cell_type": "code",
   "execution_count": null,
   "metadata": {},
   "outputs": [],
   "source": [
    "adata.var"
   ]
  },
  {
   "cell_type": "code",
   "execution_count": null,
   "metadata": {},
   "outputs": [],
   "source": [
    "adata.var['modality'].value_counts()"
   ]
  },
  {
   "cell_type": "code",
   "execution_count": null,
   "metadata": {},
   "outputs": [],
   "source": [
    "adata.obs['sample'] = adata.obs['sample'].astype('category')\n",
    "adata.obs['sample'].cat.categories"
   ]
  },
  {
   "cell_type": "code",
   "execution_count": null,
   "metadata": {},
   "outputs": [],
   "source": [
    "adata.obs['genotype'] = adata.obs['genotype'].astype('category')\n",
    "adata.obs['genotype'].cat.categories"
   ]
  },
  {
   "cell_type": "code",
   "execution_count": null,
   "metadata": {},
   "outputs": [],
   "source": [
    "X_is_raw(adata)"
   ]
  },
  {
   "cell_type": "code",
   "execution_count": null,
   "metadata": {},
   "outputs": [],
   "source": [
    "adata.var.modality.value_counts()"
   ]
  },
  {
   "cell_type": "code",
   "execution_count": null,
   "metadata": {},
   "outputs": [],
   "source": [
    "n = 4004\n",
    "adata_rna = adata[:n, adata.var.modality == \"Gene Expression\"].copy()\n",
    "adata_paired = adata[n : 2 * n].copy()\n",
    "adata_atac = adata[2 * n :, adata.var.modality == \"Peaks\"].copy()"
   ]
  },
  {
   "cell_type": "markdown",
   "metadata": {},
   "source": [
    "### Save merged object"
   ]
  },
  {
   "cell_type": "code",
   "execution_count": null,
   "metadata": {},
   "outputs": [],
   "source": [
    "adata.write('../data/Kdm6aKO_multitome_ctl231207.raw.h5ad')"
   ]
  },
  {
   "cell_type": "code",
   "execution_count": null,
   "metadata": {},
   "outputs": [],
   "source": []
  }
 ],
 "metadata": {
  "kernelspec": {
   "display_name": "Python 3.8.14 ('scvi-tools')",
   "language": "python",
   "name": "python3"
  },
  "language_info": {
   "codemirror_mode": {
    "name": "ipython",
    "version": 3
   },
   "file_extension": ".py",
   "mimetype": "text/x-python",
   "name": "python",
   "nbconvert_exporter": "python",
   "pygments_lexer": "ipython3",
   "version": "3.10.13"
  },
  "orig_nbformat": 4,
  "vscode": {
   "interpreter": {
    "hash": "be6e4b2475555bb52a1f9704f3384c4fd38c8454adf16dc700aeb2c29c9568d8"
   }
  }
 },
 "nbformat": 4,
 "nbformat_minor": 2
}
