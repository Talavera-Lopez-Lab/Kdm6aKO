{
 "cells": [
  {
   "attachments": {},
   "cell_type": "markdown",
   "metadata": {},
   "source": [
    "### Notebook for the analysis of ATAC-Seq data from the `KMD6A` group using `SCENIC+`\n",
    "\n",
    "- **Developed by:** Carlos Talavera-López Ph.D\n",
    "- **Würzburg Institute for Systems Immunology - Faculty of Medicine - Julius-Maximilian-Universität Würzburg**\n",
    "- v240116"
   ]
  },
  {
   "attachments": {},
   "cell_type": "markdown",
   "metadata": {},
   "source": [
    "### Import required modules"
   ]
  },
  {
   "cell_type": "code",
   "execution_count": 1,
   "metadata": {},
   "outputs": [
    {
     "name": "stderr",
     "output_type": "stream",
     "text": [
      "/home/ruth/mambaforge/envs/scenic+/lib/python3.10/site-packages/loompy/bus_file.py:68: NumbaDeprecationWarning: \u001b[1mThe 'nopython' keyword argument was not supplied to the 'numba.jit' decorator. The implicit default value for this argument is currently False, but it will be changed to True in Numba 0.59.0. See https://numba.readthedocs.io/en/stable/reference/deprecation.html#deprecation-of-object-mode-fall-back-behaviour-when-using-jit for details.\u001b[0m\n",
      "/home/ruth/mambaforge/envs/scenic+/lib/python3.10/site-packages/loompy/bus_file.py:85: NumbaDeprecationWarning: \u001b[1mThe 'nopython' keyword argument was not supplied to the 'numba.jit' decorator. The implicit default value for this argument is currently False, but it will be changed to True in Numba 0.59.0. See https://numba.readthedocs.io/en/stable/reference/deprecation.html#deprecation-of-object-mode-fall-back-behaviour-when-using-jit for details.\u001b[0m\n",
      "/home/ruth/mambaforge/envs/scenic+/lib/python3.10/site-packages/loompy/bus_file.py:102: NumbaDeprecationWarning: \u001b[1mThe 'nopython' keyword argument was not supplied to the 'numba.jit' decorator. The implicit default value for this argument is currently False, but it will be changed to True in Numba 0.59.0. See https://numba.readthedocs.io/en/stable/reference/deprecation.html#deprecation-of-object-mode-fall-back-behaviour-when-using-jit for details.\u001b[0m\n"
     ]
    }
   ],
   "source": [
    "import os\n",
    "import sys\n",
    "import dill\n",
    "import anndata\n",
    "import warnings\n",
    "import pycisTopic\n",
    "import numpy as np\n",
    "import scanpy as sc\n",
    "import pandas as pd\n",
    "import plotnine as p\n",
    "import pyranges as pr\n",
    "import seaborn as sns\n",
    "import pybiomart as pbm\n",
    "from pywaffle import Waffle\n",
    "import matplotlib.pyplot as plt\n",
    "\n",
    "from pycisTopic.qc import *\n",
    "from scenicplus.RSS import *\n",
    "from pycisTopic.clust_vis import *\n",
    "from pycisTopic.lda_models import *\n",
    "from pycisTopic.diff_features import *\n",
    "from pycisTopic.cistopic_class import *\n",
    "from pycisTopic.topic_binarization import *\n",
    "from pycisTopic.iterative_peak_calling import *\n",
    "from scenicplus.plotting.correlation_plot import *\n",
    "from scenicplus.plotting.dotplot import heatmap_dotplot\n",
    "from pycistarget.utils import region_names_to_coordinates\n",
    "from scenicplus.eregulon_enrichment import score_eRegulons\n",
    "from scenicplus.wrappers.run_scenicplus import run_scenicplus\n",
    "from scenicplus.dimensionality_reduction import plot_eRegulon\n",
    "from scenicplus.wrappers.run_pycistarget import run_pycistarget\n",
    "from scenicplus.scenicplus_class import create_SCENICPLUS_object\n",
    "from scenicplus.dimensionality_reduction import plot_AUC_given_ax\n",
    "from pycisTopic.diff_features import find_highly_variable_features\n",
    "from scenicplus.dimensionality_reduction import plot_metadata_given_ax\n",
    "from scenicplus.cistromes import TF_cistrome_correlation, generate_pseudobulks\n",
    "from scenicplus.preprocessing.filtering import apply_std_filtering_to_eRegulons\n",
    "from scenicplus.dimensionality_reduction import run_eRegulons_tsne, run_eRegulons_umap\n",
    "from scenicplus.networks import create_nx_tables, create_nx_graph, plot_networkx, export_to_cytoscape"
   ]
  },
  {
   "attachments": {},
   "cell_type": "markdown",
   "metadata": {},
   "source": [
    "### Set up working environment"
   ]
  },
  {
   "cell_type": "code",
   "execution_count": 2,
   "metadata": {},
   "outputs": [
    {
     "name": "stdout",
     "output_type": "stream",
     "text": [
      "-----\n",
      "anndata     0.10.4\n",
      "scanpy      1.9.6\n",
      "-----\n",
      "PIL                         10.2.0\n",
      "adjustText                  1.0.4\n",
      "appdirs                     1.4.4\n",
      "asttokens                   NA\n",
      "attr                        23.2.0\n",
      "attrs                       23.2.0\n",
      "bidict                      0.22.1\n",
      "bioservices                 1.11.2\n",
      "boltons                     NA\n",
      "bs4                         4.12.2\n",
      "cattr                       NA\n",
      "cattrs                      NA\n",
      "certifi                     2023.11.17\n",
      "cffi                        1.16.0\n",
      "charset_normalizer          3.3.2\n",
      "cloudpickle                 3.0.0\n",
      "colorama                    0.4.6\n",
      "colorlog                    NA\n",
      "comm                        0.2.1\n",
      "ctxcore                     0.2.0\n",
      "cycler                      0.12.1\n",
      "cython_runtime              NA\n",
      "cytoolz                     0.12.2\n",
      "dask                        2024.1.0\n",
      "dateutil                    2.8.2\n",
      "debugpy                     1.8.0\n",
      "decorator                   5.1.1\n",
      "defusedxml                  0.7.1\n",
      "dill                        0.3.7\n",
      "docutils                    0.20.1\n",
      "easydev                     0.12.1\n",
      "exceptiongroup              1.2.0\n",
      "executing                   2.0.1\n",
      "filelock                    3.13.1\n",
      "fontTools                   4.47.2\n",
      "frozendict                  2.4.0\n",
      "future                      0.18.3\n",
      "gensim                      4.3.2\n",
      "globre                      NA\n",
      "google                      NA\n",
      "gseapy                      0.10.8\n",
      "h5py                        3.10.0\n",
      "harmonypy                   NA\n",
      "idna                        3.6\n",
      "igraph                      0.10.8\n",
      "ipykernel                   6.28.0\n",
      "ipywidgets                  8.1.1\n",
      "jedi                        0.19.1\n",
      "jinja2                      3.1.3\n",
      "joblib                      1.3.2\n",
      "jsonschema                  4.20.0\n",
      "jsonschema_specifications   NA\n",
      "kiwisolver                  1.4.5\n",
      "lda                         3.0.0\n",
      "leidenalg                   0.10.1\n",
      "llvmlite                    0.41.1\n",
      "loompy                      3.0.7\n",
      "loomxpy                     __version__ = '0.4.1'\n",
      "lxml                        5.1.0\n",
      "lz4                         4.3.3\n",
      "markupsafe                  2.1.3\n",
      "matplotlib                  3.8.2\n",
      "matplotlib_inline           0.1.6\n",
      "mizani                      0.9.3\n",
      "mpl_toolkits                NA\n",
      "msgpack                     1.0.7\n",
      "natsort                     8.4.0\n",
      "ncls                        0.0.68\n",
      "networkx                    3.2.1\n",
      "numba                       0.58.1\n",
      "numexpr                     2.8.8\n",
      "numpy                       1.26.3\n",
      "numpy_groupies              0.10.2\n",
      "packaging                   23.2\n",
      "pandas                      1.5.0\n",
      "parso                       0.8.3\n",
      "patsy                       0.5.6\n",
      "pexpect                     4.9.0\n",
      "pkg_resources               NA\n",
      "platformdirs                3.11.0\n",
      "plotly                      5.18.0\n",
      "plotnine                    0.12.4\n",
      "prompt_toolkit              3.0.43\n",
      "psutil                      5.9.7\n",
      "ptyprocess                  0.7.0\n",
      "pure_eval                   0.2.2\n",
      "pyarrow                     14.0.2\n",
      "pybiomart                   0.2.0\n",
      "pycisTopic                  1.0.3.dev21+ge9b0e1a\n",
      "pycistarget                 1.0.3.dev1+g3fde1ce\n",
      "pycparser                   2.21\n",
      "pydev_ipython               NA\n",
      "pydevconsole                NA\n",
      "pydevd                      2.9.5\n",
      "pydevd_file_utils           NA\n",
      "pydevd_plugins              NA\n",
      "pydevd_tracing              NA\n",
      "pygments                    2.17.2\n",
      "pylab                       NA\n",
      "pynndescent                 0.5.11\n",
      "pyparsing                   3.1.1\n",
      "pyranges                    0.0.127\n",
      "pyscenic                    0.12.1+6.g31d51a1\n",
      "pytz                        2023.3.post1\n",
      "pywaffle                    NA\n",
      "ray                         2.9.0\n",
      "referencing                 NA\n",
      "requests                    2.31.0\n",
      "requests_cache              1.1.1\n",
      "rpds                        NA\n",
      "scenicplus                  1.0.1.dev6+ge5ba6fc\n",
      "scipy                       1.11.4\n",
      "seaborn                     0.13.1\n",
      "session_info                1.0.0\n",
      "setproctitle                1.2.2\n",
      "six                         1.16.0\n",
      "sklearn                     1.3.2\n",
      "smart_open                  6.4.0\n",
      "sorted_nearest              0.0.39\n",
      "soupsieve                   2.5\n",
      "sphinxcontrib               NA\n",
      "stack_data                  0.6.3\n",
      "statsmodels                 0.14.1\n",
      "tblib                       3.0.0\n",
      "texttable                   1.7.0\n",
      "threadpoolctl               3.2.0\n",
      "tlz                         0.12.2\n",
      "tmtoolkit                   0.12.0\n",
      "toolz                       0.12.0\n",
      "tornado                     6.4\n",
      "tqdm                        4.66.1\n",
      "traitlets                   5.14.1\n",
      "typing_extensions           NA\n",
      "umap                        0.5.5\n",
      "url_normalize               1.4.3\n",
      "urllib3                     2.1.0\n",
      "wcwidth                     0.2.13\n",
      "yaml                        6.0.1\n",
      "zipp                        NA\n",
      "zmq                         25.1.2\n",
      "zoneinfo                    NA\n",
      "zope                        NA\n",
      "-----\n",
      "IPython             8.20.0\n",
      "jupyter_client      8.6.0\n",
      "jupyter_core        5.7.1\n",
      "-----\n",
      "Python 3.10.13 | packaged by conda-forge | (main, Dec 23 2023, 15:36:39) [GCC 12.3.0]\n",
      "Linux-6.6.9-100.fc38.x86_64-x86_64-with-glibc2.37\n",
      "-----\n",
      "Session information updated at 2024-01-16 14:55\n"
     ]
    }
   ],
   "source": [
    "%matplotlib inline\n",
    "sc.settings.verbosity = 3\n",
    "sc.logging.print_versions()\n",
    "sc.settings.set_figure_params(dpi = 180, color_map = 'magma_r', dpi_save = 300, vector_friendly = True, format = 'svg')"
   ]
  },
  {
   "cell_type": "code",
   "execution_count": 3,
   "metadata": {},
   "outputs": [],
   "source": [
    "_stderr = sys.stderr\n",
    "null = open(os.devnull,'wb')\n",
    "warnings.simplefilter(action = 'ignore')\n",
    "%config InlineBackend.figure_format = 'retina'\n",
    "%config InlineBackend.print_figure_kwargs = {'facecolor' : \"w\"}"
   ]
  },
  {
   "cell_type": "code",
   "execution_count": 4,
   "metadata": {},
   "outputs": [],
   "source": [
    "work_dir = '../data/'"
   ]
  },
  {
   "attachments": {},
   "cell_type": "markdown",
   "metadata": {},
   "source": [
    "### Read in data"
   ]
  },
  {
   "cell_type": "code",
   "execution_count": 5,
   "metadata": {},
   "outputs": [],
   "source": [
    "fragments_dict = {'KDM6A_wt_40': os.path.join(work_dir, 'fragments/KDM6A_wt_40_fragments.tsv.gz'), \n",
    "                  'KDM6A_wt_11': os.path.join(work_dir, 'fragments/KDM6A_wt_11_fragments.tsv.gz'),\n",
    "                  'KDM6A_KO_34': os.path.join(work_dir, 'fragments/KDM6A_KO_34_fragments.tsv.gz'),\n",
    "                  'KDM6A_KO_31': os.path.join(work_dir, 'fragments/KDM6A_KO_31_fragments.tsv.gz'),\n",
    "                  'GSKJ4_sham_51': os.path.join(work_dir, 'fragments/GSKJ4_sham_51_fragments.tsv.gz'),\n",
    "                  'GSKJ4_sham_57': os.path.join(work_dir, 'fragments/GSKJ4_sham_57_fragments.tsv.gz'),\n",
    "                  'GSKJ4_treat_47': os.path.join(work_dir, 'fragments/GSKJ4_treat_47_fragments.tsv.gz'),\n",
    "                  'GSKJ4_treat_52': os.path.join(work_dir, 'fragments/GSKJ4_treat_52_fragments.tsv.gz')}"
   ]
  },
  {
   "cell_type": "markdown",
   "metadata": {},
   "source": [
    "### Generate pseudobulk ATAC-seq profiles, call peaks and generate a consensus peak set"
   ]
  },
  {
   "cell_type": "code",
   "execution_count": null,
   "metadata": {},
   "outputs": [],
   "source": []
  },
  {
   "cell_type": "code",
   "execution_count": null,
   "metadata": {},
   "outputs": [],
   "source": [
    "heart_scANVI.obs['seed_labels'] = heart_scANVI.obs['C_scANVI'].copy()\n",
    "del(heart_scANVI.obs['C_scANVI'])\n",
    "heart_scANVI"
   ]
  },
  {
   "cell_type": "markdown",
   "metadata": {},
   "source": [
    "### Visualise cell type distribution per condition"
   ]
  },
  {
   "cell_type": "code",
   "execution_count": null,
   "metadata": {},
   "outputs": [],
   "source": [
    "heart_scANVI.obs['seed_labels'].value_counts()"
   ]
  },
  {
   "cell_type": "code",
   "execution_count": null,
   "metadata": {},
   "outputs": [],
   "source": [
    "pd.crosstab(heart_scANVI.obs['seed_labels'], heart_scANVI.obs['genotype'])"
   ]
  },
  {
   "attachments": {},
   "cell_type": "markdown",
   "metadata": {},
   "source": [
    "### Read in other unannotated dataset and split into groups"
   ]
  },
  {
   "cell_type": "code",
   "execution_count": null,
   "metadata": {},
   "outputs": [],
   "source": [
    "heart_scANVI.obs['genotype'].value_counts()"
   ]
  },
  {
   "cell_type": "code",
   "execution_count": null,
   "metadata": {},
   "outputs": [],
   "source": [
    "#reference = heart_scANVI[heart_scANVI.obs['genotype'].isin(['Mdx', 'WT'])]\n",
    "reference = heart_scANVI[heart_scANVI.obs['genotype'].isin(['WT'])]\n",
    "reference"
   ]
  },
  {
   "cell_type": "code",
   "execution_count": null,
   "metadata": {},
   "outputs": [],
   "source": [
    "#query = heart_scANVI[~heart_scANVI.obs['genotype'].isin(['Mdx', 'WT'])]\n",
    "query = heart_scANVI[~heart_scANVI.obs['genotype'].isin(['WT'])]\n",
    "query.obs['seed_labels'] = 'Unknown'\n",
    "query"
   ]
  },
  {
   "cell_type": "code",
   "execution_count": null,
   "metadata": {},
   "outputs": [],
   "source": [
    "adata = reference.concatenate(query, batch_key = 'batch', batch_categories = ['reference', 'query'], join = 'inner')\n",
    "adata"
   ]
  },
  {
   "cell_type": "code",
   "execution_count": null,
   "metadata": {},
   "outputs": [],
   "source": [
    "sc.pl.scatter(adata, x = 'total_counts', y = 'pct_counts_mt', color = \"batch\", frameon = False)"
   ]
  },
  {
   "cell_type": "code",
   "execution_count": null,
   "metadata": {},
   "outputs": [],
   "source": [
    "adata.obs['genotype'].value_counts()"
   ]
  },
  {
   "cell_type": "code",
   "execution_count": null,
   "metadata": {},
   "outputs": [],
   "source": [
    "adata.obs['sample'].value_counts()"
   ]
  },
  {
   "attachments": {},
   "cell_type": "markdown",
   "metadata": {},
   "source": [
    "### Select HVGs"
   ]
  },
  {
   "cell_type": "code",
   "execution_count": null,
   "metadata": {},
   "outputs": [],
   "source": [
    "adata_raw = adata.copy()\n",
    "adata.layers['counts'] = adata.X.copy()\n",
    "\n",
    "sc.pp.highly_variable_genes(\n",
    "    adata,\n",
    "    flavor = \"seurat_v3\",\n",
    "    n_top_genes = 7000,\n",
    "    layer = \"counts\",\n",
    "    batch_key = \"sample\",\n",
    "    subset = True\n",
    ")\n",
    "adata"
   ]
  },
  {
   "attachments": {},
   "cell_type": "markdown",
   "metadata": {},
   "source": [
    "### Transfer of annotation with scANVI"
   ]
  },
  {
   "cell_type": "code",
   "execution_count": null,
   "metadata": {},
   "outputs": [],
   "source": [
    "scvi.model.SCVI.setup_anndata(adata,\n",
    "                              batch_key = \"sample\", \n",
    "                            categorical_covariate_keys = [\"sample\"], \n",
    "                            labels_key = \"seed_labels\", \n",
    "                            layer = 'counts')"
   ]
  },
  {
   "cell_type": "code",
   "execution_count": null,
   "metadata": {},
   "outputs": [],
   "source": [
    "scvi_model = scvi.model.SCVI(adata, \n",
    "                             n_latent = 50, \n",
    "                             n_layers = 3, \n",
    "                             dispersion = 'gene-batch', \n",
    "                             gene_likelihood = 'nb')"
   ]
  },
  {
   "cell_type": "code",
   "execution_count": null,
   "metadata": {},
   "outputs": [],
   "source": [
    "scvi_model.train(30, \n",
    "                 check_val_every_n_epoch = 1, \n",
    "                 enable_progress_bar = True, \n",
    "                 use_gpu = 1)"
   ]
  },
  {
   "cell_type": "code",
   "execution_count": null,
   "metadata": {},
   "outputs": [],
   "source": [
    "adata.obsm[\"X_scVI\"] = scvi_model.get_latent_representation(adata)"
   ]
  },
  {
   "cell_type": "markdown",
   "metadata": {},
   "source": [
    "### Evaluate model performance using the [_Svensson_](https://www.nxn.se/valent/2023/8/10/training-scvi-posterior-predictive-distributions-over-epochs) method"
   ]
  },
  {
   "cell_type": "code",
   "execution_count": null,
   "metadata": {},
   "outputs": [],
   "source": [
    "history_df = (\n",
    "    scvi_model.history['elbo_train'].astype(float)\n",
    "    .join(scvi_model.history['elbo_validation'].astype(float))\n",
    "    .reset_index()\n",
    "    .melt(id_vars = ['epoch'])\n",
    ")\n",
    "\n",
    "p.options.figure_size = 12, 6\n",
    "\n",
    "p_ = (\n",
    "    p.ggplot(p.aes(x = 'epoch', y = 'value', color = 'variable'), history_df.query('epoch > 0'))\n",
    "    + p.geom_line()\n",
    "    + p.geom_point()\n",
    "    + p.scale_color_manual({'elbo_train': 'black', 'elbo_validation': 'red'})\n",
    "    + p.theme_minimal()\n",
    ")\n",
    "\n",
    "p_.save('fig1.png', dpi = 300)\n",
    "\n",
    "print(p_)"
   ]
  },
  {
   "attachments": {},
   "cell_type": "markdown",
   "metadata": {},
   "source": [
    "### Label transfer with `scANVI` "
   ]
  },
  {
   "cell_type": "code",
   "execution_count": null,
   "metadata": {},
   "outputs": [],
   "source": [
    "scanvi_model = scvi.model.SCANVI.from_scvi_model(scvi_model, 'Unknown')"
   ]
  },
  {
   "cell_type": "code",
   "execution_count": null,
   "metadata": {},
   "outputs": [],
   "source": [
    "scanvi_model.train(20, \n",
    "                   check_val_every_n_epoch = 1, \n",
    "                   enable_progress_bar = True, \n",
    "                   use_gpu = 1)"
   ]
  },
  {
   "cell_type": "code",
   "execution_count": null,
   "metadata": {},
   "outputs": [],
   "source": [
    "adata.obs[\"C_scANVI\"] = scanvi_model.predict(adata)"
   ]
  },
  {
   "attachments": {},
   "cell_type": "markdown",
   "metadata": {},
   "source": [
    "- Extract latent representation"
   ]
  },
  {
   "cell_type": "code",
   "execution_count": null,
   "metadata": {},
   "outputs": [],
   "source": [
    "adata.obsm[\"X_scANVI\"] = scanvi_model.get_latent_representation(adata)"
   ]
  },
  {
   "cell_type": "markdown",
   "metadata": {},
   "source": [
    "### Explore model performance using the [_Svensson_](https://www.nxn.se/valent/2023/8/10/training-scvi-posterior-predictive-distributions-over-epochs) method"
   ]
  },
  {
   "cell_type": "code",
   "execution_count": null,
   "metadata": {},
   "outputs": [],
   "source": [
    "history_df = (\n",
    "    scanvi_model.history['elbo_train'].astype(float)\n",
    "    .join(scanvi_model.history['elbo_validation'].astype(float))\n",
    "    .reset_index()\n",
    "    .melt(id_vars = ['epoch'])\n",
    ")\n",
    "\n",
    "p.options.figure_size = 12, 6\n",
    "\n",
    "p_ = (\n",
    "    p.ggplot(p.aes(x = 'epoch', y = 'value', color = 'variable'), history_df.query('epoch > 0'))\n",
    "    + p.geom_line()\n",
    "    + p.geom_point()\n",
    "    + p.scale_color_manual({'elbo_train': 'black', 'elbo_validation': 'red'})\n",
    "    + p.theme_minimal()\n",
    ")\n",
    "\n",
    "p_.save('fig1.png', dpi = 300)\n",
    "\n",
    "print(p_)"
   ]
  },
  {
   "attachments": {},
   "cell_type": "markdown",
   "metadata": {},
   "source": [
    "- Visualise corrected dataset"
   ]
  },
  {
   "cell_type": "code",
   "execution_count": null,
   "metadata": {},
   "outputs": [],
   "source": [
    "sc.pp.neighbors(adata, use_rep = \"X_scANVI\", n_neighbors = 50, metric = 'minkowski')\n",
    "sc.tl.umap(adata, min_dist = 0.3, spread = 4, random_state = 1712)\n",
    "sc.pl.umap(adata, frameon = False, color = ['sample', 'genotype', 'C_scANVI', 'seed_labels'], size = 0.6, legend_fontsize = 5, ncols = 4)"
   ]
  },
  {
   "cell_type": "code",
   "execution_count": null,
   "metadata": {},
   "outputs": [],
   "source": [
    "sc.pl.umap(adata, frameon = False, color = ['n_genes', 'doublet_scores', 'batch', 'n_genes_by_counts', 'total_counts', 'total_counts_mt', 'pct_counts_mt', 'total_counts_ribo', 'pct_counts_ribo', 'n_counts'], size = 0.6, legend_fontsize = 5, ncols = 4, cmap = 'magma')"
   ]
  },
  {
   "cell_type": "markdown",
   "metadata": {},
   "source": [
    "### Modify object to plot canonical marker genes"
   ]
  },
  {
   "cell_type": "code",
   "execution_count": null,
   "metadata": {},
   "outputs": [],
   "source": [
    "adata_toplot = anndata.AnnData(X = np.sqrt(sc.pp.normalize_total(adata_raw, inplace = False)[\"X\"]), var = adata_raw.var, obs = adata.obs, obsm = adata.obsm)\n",
    "adata_toplot"
   ]
  },
  {
   "cell_type": "code",
   "execution_count": null,
   "metadata": {},
   "outputs": [],
   "source": [
    "sc.pl.umap(adata_toplot, frameon = False, color = ['C_scANVI', 'Ttn', 'Nppa', 'Dcn', 'Vwf', 'Myh11', 'Rgs4', 'Kcnj8', 'C1qa', 'Cd3e', 'Trem2', 'Adipoq', 'Nrxn1', 'Msln'], size = 0.6, legend_fontsize = 5, ncols = 4, cmap = 'RdPu')"
   ]
  },
  {
   "cell_type": "markdown",
   "metadata": {},
   "source": [
    "### Visualise proportions"
   ]
  },
  {
   "cell_type": "code",
   "execution_count": null,
   "metadata": {},
   "outputs": [],
   "source": [
    "sc.pl.umap(adata, frameon = False, color = ['sample', 'genotype', 'C_scANVI', 'seed_labels'], size = 0.6, legend_fontsize = 5, ncols = 4)"
   ]
  },
  {
   "cell_type": "code",
   "execution_count": null,
   "metadata": {},
   "outputs": [],
   "source": [
    "bauhaus_colors = ['#FF0000', '#FFFF00', '#000000', '#4D5D53', '#0000FF', '#808080']\n",
    "sc.pl.umap(adata, frameon = False, color = ['sample'], size = 0.6, legend_fontsize = 5, ncols = 4, palette = bauhaus_colors)"
   ]
  },
  {
   "cell_type": "code",
   "execution_count": null,
   "metadata": {},
   "outputs": [],
   "source": [
    "sc.pl.umap(adata, frameon = False, color = ['C_scANVI'], size = 0.6, legend_fontsize = 5, ncols = 4, palette = bauhaus_colors)"
   ]
  },
  {
   "cell_type": "code",
   "execution_count": null,
   "metadata": {},
   "outputs": [],
   "source": [
    "df = adata_toplot.obs.groupby(['genotype', 'C_scANVI']).size().reset_index(name = 'counts')\n",
    "\n",
    "grouped = df.groupby('genotype')['counts'].apply(lambda x: x / x.sum() * 100)\n",
    "grouped = grouped.reset_index()\n",
    "\n",
    "df['proportions'] = grouped['counts']\n",
    "df['waffle_counts'] = (df['proportions'] * 10).astype(int)"
   ]
  },
  {
   "cell_type": "code",
   "execution_count": null,
   "metadata": {},
   "outputs": [],
   "source": [
    "tab20_palette = plt.cm.get_cmap('tab20', len(df['C_scANVI'].unique()))\n",
    "\n",
    "\n",
    "for group in df['genotype'].unique():\n",
    "    temp_df = df[df['genotype'] == group]\n",
    "    \n",
    "    data = dict(zip(temp_df['C_scANVI'], temp_df['waffle_counts']))\n",
    "    colors = [tab20_palette(i) for i in range(len(temp_df['C_scANVI']))]\n",
    "    fig = plt.figure(\n",
    "        FigureClass = Waffle, \n",
    "        rows = 5, \n",
    "        values = data, \n",
    "        title = {'label': f'Genotype {group}', 'loc': 'left', 'fontsize': 14},\n",
    "        labels = [f\"{k} ({v}%)\" for k, v in zip(temp_df['C_scANVI'], temp_df['proportions'].round(2))],\n",
    "        #legend = {'loc': 'lower left', 'bbox_to_anchor': (0, -0.4), 'ncol': len(data), 'framealpha': 0},\n",
    "        legend = {'loc': 'lower left', 'bbox_to_anchor': (0, -0.4), 'ncol': len(data), 'framealpha': 0, 'fontsize': 14},\n",
    "        figsize = (40, 4),\n",
    "        colors = colors\n",
    "    )\n",
    "    plt.show()"
   ]
  },
  {
   "attachments": {},
   "cell_type": "markdown",
   "metadata": {},
   "source": [
    "### Export annotated sample object "
   ]
  },
  {
   "cell_type": "code",
   "execution_count": null,
   "metadata": {},
   "outputs": [],
   "source": [
    "adata.obs.index = pd.Index(['-'.join(idx.split('-')[:3]) for idx in adata.obs.index])\n",
    "adata.obs.index"
   ]
  },
  {
   "cell_type": "code",
   "execution_count": null,
   "metadata": {},
   "outputs": [],
   "source": [
    "adata_raw.obs.index = pd.Index(['-'.join(idx.split('-')[:3]) for idx in adata_raw.obs.index])\n",
    "adata_raw.obs.index"
   ]
  },
  {
   "cell_type": "code",
   "execution_count": null,
   "metadata": {},
   "outputs": [],
   "source": [
    "adata.obs_names"
   ]
  },
  {
   "cell_type": "code",
   "execution_count": null,
   "metadata": {},
   "outputs": [],
   "source": [
    "adata.obs['C_scANVI'].cat.categories"
   ]
  },
  {
   "cell_type": "code",
   "execution_count": null,
   "metadata": {},
   "outputs": [],
   "source": [
    "adata.obs['C_scANVI'].value_counts()"
   ]
  },
  {
   "attachments": {},
   "cell_type": "markdown",
   "metadata": {},
   "source": [
    "### Export annotated object with raw counts"
   ]
  },
  {
   "cell_type": "code",
   "execution_count": null,
   "metadata": {},
   "outputs": [],
   "source": [
    "adata"
   ]
  },
  {
   "cell_type": "code",
   "execution_count": null,
   "metadata": {},
   "outputs": [],
   "source": [
    "adata_raw"
   ]
  },
  {
   "cell_type": "code",
   "execution_count": null,
   "metadata": {},
   "outputs": [],
   "source": [
    "adata_export = anndata.AnnData(X = adata_raw.X, obs = adata.obs, var = adata_raw.var)\n",
    "adata_export.obsm['X_scVI'] = adata.obsm['X_scVI'].copy()\n",
    "adata_export.obsm['X_umap'] = adata.obsm['X_umap'].copy()\n",
    "adata_export.obsm['X_scANVI'] = adata.obsm['X_scANVI'].copy()\n",
    "adata_export"
   ]
  },
  {
   "cell_type": "raw",
   "metadata": {},
   "source": [
    "adata_export.write('../data/heart_mm_nuclei-23-0092_scANVI-CellStates_ctl231127.raw.h5ad')"
   ]
  },
  {
   "cell_type": "code",
   "execution_count": null,
   "metadata": {},
   "outputs": [],
   "source": []
  }
 ],
 "metadata": {
  "kernelspec": {
   "display_name": "Python 3",
   "language": "python",
   "name": "python3"
  },
  "language_info": {
   "codemirror_mode": {
    "name": "ipython",
    "version": 3
   },
   "file_extension": ".py",
   "mimetype": "text/x-python",
   "name": "python",
   "nbconvert_exporter": "python",
   "pygments_lexer": "ipython3",
   "version": "3.10.13"
  },
  "orig_nbformat": 4,
  "vscode": {
   "interpreter": {
    "hash": "aee8b7b246df8f9039afb4144a1f6fd8d2ca17a180786b69acc140d282b71a49"
   }
  }
 },
 "nbformat": 4,
 "nbformat_minor": 2
}
