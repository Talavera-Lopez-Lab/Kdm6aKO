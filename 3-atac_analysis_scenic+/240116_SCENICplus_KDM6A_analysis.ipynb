{
 "cells": [
  {
   "attachments": {},
   "cell_type": "markdown",
   "metadata": {},
   "source": [
    "### Notebook for the analysis of ATAC-Seq data from the `KMD6A` group using `SCENIC+`\n",
    "\n",
    "- **Developed by:** Carlos Talavera-López Ph.D\n",
    "- **Würzburg Institute for Systems Immunology - Faculty of Medicine - Julius-Maximilian-Universität Würzburg**\n",
    "- v240116"
   ]
  },
  {
   "attachments": {},
   "cell_type": "markdown",
   "metadata": {},
   "source": [
    "### Import required modules"
   ]
  },
  {
   "cell_type": "code",
   "execution_count": 1,
   "metadata": {},
   "outputs": [
    {
     "name": "stderr",
     "output_type": "stream",
     "text": [
      "/home/ruth/mambaforge/envs/scenic+/lib/python3.10/site-packages/loompy/bus_file.py:68: NumbaDeprecationWarning: \u001b[1mThe 'nopython' keyword argument was not supplied to the 'numba.jit' decorator. The implicit default value for this argument is currently False, but it will be changed to True in Numba 0.59.0. See https://numba.readthedocs.io/en/stable/reference/deprecation.html#deprecation-of-object-mode-fall-back-behaviour-when-using-jit for details.\u001b[0m\n",
      "/home/ruth/mambaforge/envs/scenic+/lib/python3.10/site-packages/loompy/bus_file.py:85: NumbaDeprecationWarning: \u001b[1mThe 'nopython' keyword argument was not supplied to the 'numba.jit' decorator. The implicit default value for this argument is currently False, but it will be changed to True in Numba 0.59.0. See https://numba.readthedocs.io/en/stable/reference/deprecation.html#deprecation-of-object-mode-fall-back-behaviour-when-using-jit for details.\u001b[0m\n",
      "/home/ruth/mambaforge/envs/scenic+/lib/python3.10/site-packages/loompy/bus_file.py:102: NumbaDeprecationWarning: \u001b[1mThe 'nopython' keyword argument was not supplied to the 'numba.jit' decorator. The implicit default value for this argument is currently False, but it will be changed to True in Numba 0.59.0. See https://numba.readthedocs.io/en/stable/reference/deprecation.html#deprecation-of-object-mode-fall-back-behaviour-when-using-jit for details.\u001b[0m\n"
     ]
    }
   ],
   "source": [
    "import os\n",
    "import sys\n",
    "import dill\n",
    "import pickle\n",
    "import anndata\n",
    "import warnings\n",
    "import pycisTopic\n",
    "import numpy as np\n",
    "import scanpy as sc\n",
    "import pandas as pd\n",
    "import plotnine as p\n",
    "import pyranges as pr\n",
    "import seaborn as sns\n",
    "import pybiomart as pbm\n",
    "from pywaffle import Waffle\n",
    "import matplotlib.pyplot as plt\n",
    "\n",
    "from pycisTopic.qc import *\n",
    "from scenicplus.RSS import *\n",
    "from pycisTopic.clust_vis import *\n",
    "from pycisTopic.lda_models import *\n",
    "from pycisTopic.diff_features import *\n",
    "from pycisTopic.cistopic_class import *\n",
    "from pycisTopic.topic_binarization import *\n",
    "from pycisTopic.iterative_peak_calling import *\n",
    "from scenicplus.plotting.correlation_plot import *\n",
    "from scenicplus.plotting.dotplot import heatmap_dotplot\n",
    "from pycistarget.utils import region_names_to_coordinates\n",
    "from scenicplus.eregulon_enrichment import score_eRegulons\n",
    "from pycisTopic.pseudobulk_peak_calling import peak_calling\n",
    "from scenicplus.wrappers.run_scenicplus import run_scenicplus\n",
    "from scenicplus.dimensionality_reduction import plot_eRegulon\n",
    "from scenicplus.wrappers.run_pycistarget import run_pycistarget\n",
    "from scenicplus.scenicplus_class import create_SCENICPLUS_object\n",
    "from scenicplus.dimensionality_reduction import plot_AUC_given_ax\n",
    "from pycisTopic.diff_features import find_highly_variable_features\n",
    "from scenicplus.dimensionality_reduction import plot_metadata_given_ax\n",
    "from scenicplus.cistromes import TF_cistrome_correlation, generate_pseudobulks\n",
    "from scenicplus.preprocessing.filtering import apply_std_filtering_to_eRegulons\n",
    "from scenicplus.dimensionality_reduction import run_eRegulons_tsne, run_eRegulons_umap\n",
    "from scenicplus.networks import create_nx_tables, create_nx_graph, plot_networkx, export_to_cytoscape"
   ]
  },
  {
   "attachments": {},
   "cell_type": "markdown",
   "metadata": {},
   "source": [
    "### Set up working environment"
   ]
  },
  {
   "cell_type": "code",
   "execution_count": 2,
   "metadata": {},
   "outputs": [
    {
     "name": "stdout",
     "output_type": "stream",
     "text": [
      "-----\n",
      "anndata     0.10.4\n",
      "scanpy      1.9.6\n",
      "-----\n",
      "PIL                         10.2.0\n",
      "adjustText                  1.0.4\n",
      "appdirs                     1.4.4\n",
      "asttokens                   NA\n",
      "attr                        23.2.0\n",
      "attrs                       23.2.0\n",
      "bidict                      0.22.1\n",
      "bioservices                 1.11.2\n",
      "boltons                     NA\n",
      "bs4                         4.12.2\n",
      "cattr                       NA\n",
      "cattrs                      NA\n",
      "certifi                     2023.11.17\n",
      "cffi                        1.16.0\n",
      "charset_normalizer          3.3.2\n",
      "cloudpickle                 3.0.0\n",
      "colorama                    0.4.6\n",
      "colorlog                    NA\n",
      "comm                        0.2.1\n",
      "ctxcore                     0.2.0\n",
      "cycler                      0.12.1\n",
      "cython_runtime              NA\n",
      "cytoolz                     0.12.2\n",
      "dask                        2024.1.0\n",
      "dateutil                    2.8.2\n",
      "debugpy                     1.8.0\n",
      "decorator                   5.1.1\n",
      "defusedxml                  0.7.1\n",
      "dill                        0.3.7\n",
      "docutils                    0.20.1\n",
      "easydev                     0.12.1\n",
      "exceptiongroup              1.2.0\n",
      "executing                   2.0.1\n",
      "filelock                    3.13.1\n",
      "fontTools                   4.47.2\n",
      "frozendict                  2.4.0\n",
      "future                      0.18.3\n",
      "gensim                      4.3.2\n",
      "globre                      NA\n",
      "google                      NA\n",
      "gseapy                      0.10.8\n",
      "h5py                        3.10.0\n",
      "harmonypy                   NA\n",
      "idna                        3.6\n",
      "igraph                      0.10.8\n",
      "ipykernel                   6.28.0\n",
      "ipywidgets                  8.1.1\n",
      "jedi                        0.19.1\n",
      "jinja2                      3.1.3\n",
      "joblib                      1.3.2\n",
      "jsonschema                  4.20.0\n",
      "jsonschema_specifications   NA\n",
      "kiwisolver                  1.4.5\n",
      "lda                         3.0.0\n",
      "leidenalg                   0.10.1\n",
      "llvmlite                    0.41.1\n",
      "loompy                      3.0.7\n",
      "loomxpy                     __version__ = '0.4.1'\n",
      "lxml                        5.1.0\n",
      "lz4                         4.3.3\n",
      "markupsafe                  2.1.3\n",
      "matplotlib                  3.8.2\n",
      "matplotlib_inline           0.1.6\n",
      "mizani                      0.9.3\n",
      "mpl_toolkits                NA\n",
      "msgpack                     1.0.7\n",
      "natsort                     8.4.0\n",
      "ncls                        0.0.68\n",
      "networkx                    3.2.1\n",
      "numba                       0.58.1\n",
      "numexpr                     2.8.8\n",
      "numpy                       1.26.3\n",
      "numpy_groupies              0.10.2\n",
      "packaging                   23.2\n",
      "pandas                      1.5.0\n",
      "parso                       0.8.3\n",
      "patsy                       0.5.6\n",
      "pexpect                     4.9.0\n",
      "pkg_resources               NA\n",
      "platformdirs                3.11.0\n",
      "plotly                      5.18.0\n",
      "plotnine                    0.12.4\n",
      "prompt_toolkit              3.0.43\n",
      "psutil                      5.9.7\n",
      "ptyprocess                  0.7.0\n",
      "pure_eval                   0.2.2\n",
      "pyBigWig                    0.3.22\n",
      "pyarrow                     14.0.2\n",
      "pybiomart                   0.2.0\n",
      "pycisTopic                  1.0.3.dev23+g20e345e\n",
      "pycistarget                 1.0.3.dev1+g3fde1ce\n",
      "pycparser                   2.21\n",
      "pydev_ipython               NA\n",
      "pydevconsole                NA\n",
      "pydevd                      2.9.5\n",
      "pydevd_file_utils           NA\n",
      "pydevd_plugins              NA\n",
      "pydevd_tracing              NA\n",
      "pygments                    2.17.2\n",
      "pylab                       NA\n",
      "pynndescent                 0.5.11\n",
      "pyparsing                   3.1.1\n",
      "pyranges                    0.0.127\n",
      "pyrle                       0.0.39\n",
      "pysam                       0.22.0\n",
      "pyscenic                    0.12.1+6.g31d51a1\n",
      "pytz                        2023.3.post1\n",
      "pywaffle                    NA\n",
      "ray                         2.9.0\n",
      "referencing                 NA\n",
      "requests                    2.31.0\n",
      "requests_cache              1.1.1\n",
      "rpds                        NA\n",
      "scenicplus                  1.0.1.dev6+ge5ba6fc\n",
      "scipy                       1.11.4\n",
      "seaborn                     0.13.1\n",
      "session_info                1.0.0\n",
      "setproctitle                1.2.2\n",
      "six                         1.16.0\n",
      "sklearn                     1.3.2\n",
      "smart_open                  6.4.0\n",
      "sorted_nearest              0.0.39\n",
      "soupsieve                   2.5\n",
      "sphinxcontrib               NA\n",
      "stack_data                  0.6.3\n",
      "statsmodels                 0.14.1\n",
      "tabulate                    0.9.0\n",
      "tblib                       3.0.0\n",
      "texttable                   1.7.0\n",
      "threadpoolctl               3.2.0\n",
      "tlz                         0.12.2\n",
      "tmtoolkit                   0.12.0\n",
      "toolz                       0.12.0\n",
      "tornado                     6.4\n",
      "tqdm                        4.66.1\n",
      "traitlets                   5.14.1\n",
      "typing_extensions           NA\n",
      "umap                        0.5.5\n",
      "url_normalize               1.4.3\n",
      "urllib3                     2.1.0\n",
      "wcwidth                     0.2.13\n",
      "yaml                        6.0.1\n",
      "zipp                        NA\n",
      "zmq                         25.1.2\n",
      "zoneinfo                    NA\n",
      "zope                        NA\n",
      "-----\n",
      "IPython             8.20.0\n",
      "jupyter_client      8.6.0\n",
      "jupyter_core        5.7.1\n",
      "-----\n",
      "Python 3.10.13 | packaged by conda-forge | (main, Dec 23 2023, 15:36:39) [GCC 12.3.0]\n",
      "Linux-6.6.9-100.fc38.x86_64-x86_64-with-glibc2.37\n",
      "-----\n",
      "Session information updated at 2024-01-17 19:24\n"
     ]
    }
   ],
   "source": [
    "%matplotlib inline\n",
    "sc.settings.verbosity = 3\n",
    "sc.logging.print_versions()\n",
    "sc.settings.set_figure_params(dpi = 180, color_map = 'magma_r', dpi_save = 300, vector_friendly = True, format = 'svg')"
   ]
  },
  {
   "cell_type": "code",
   "execution_count": 3,
   "metadata": {},
   "outputs": [],
   "source": [
    "_stderr = sys.stderr\n",
    "null = open(os.devnull,'wb')\n",
    "warnings.simplefilter(action = 'ignore')\n",
    "%config InlineBackend.figure_format = 'retina'\n",
    "%config InlineBackend.print_figure_kwargs = {'facecolor' : \"w\"}"
   ]
  },
  {
   "cell_type": "code",
   "execution_count": 4,
   "metadata": {},
   "outputs": [],
   "source": [
    "macs_path = 'macs2'\n",
    "work_dir = '../data/'\n",
    "save_dir = '/mnt/LaCIE/carlos/atac_analysis/becker23'\n",
    "tmp_dir = '/mnt/LaCIE/carlos/INBOX/'"
   ]
  },
  {
   "attachments": {},
   "cell_type": "markdown",
   "metadata": {},
   "source": [
    "### Read in data"
   ]
  },
  {
   "cell_type": "code",
   "execution_count": 5,
   "metadata": {},
   "outputs": [],
   "source": [
    "fragments_dict = {'KDM6A_wt_40': os.path.join(work_dir, 'fragments/KDM6A_wt_40_fragments.tsv.gz'), \n",
    "                  'KDM6A_wt_11': os.path.join(work_dir, 'fragments/KDM6A_wt_11_fragments.tsv.gz'),\n",
    "                  'KDM6A_KO_34': os.path.join(work_dir, 'fragments/KDM6A_KO_34_fragments.tsv.gz'),\n",
    "                  'KDM6A_KO_31': os.path.join(work_dir, 'fragments/KDM6A_KO_31_fragments.tsv.gz'),\n",
    "                  'GSKJ4_sham_51': os.path.join(work_dir, 'fragments/GSKJ4_sham_51_fragments.tsv.gz'),\n",
    "                  'GSKJ4_sham_57': os.path.join(work_dir, 'fragments/GSKJ4_sham_57_fragments.tsv.gz'),\n",
    "                  'GSKJ4_treat_47': os.path.join(work_dir, 'fragments/GSKJ4_treat_47_fragments.tsv.gz'),\n",
    "                  'GSKJ4_treat_52': os.path.join(work_dir, 'fragments/GSKJ4_treat_52_fragments.tsv.gz')}"
   ]
  },
  {
   "cell_type": "markdown",
   "metadata": {},
   "source": [
    "### Generate pseudobulk ATAC-seq profiles, call peaks and generate a consensus peak set"
   ]
  },
  {
   "cell_type": "code",
   "execution_count": 6,
   "metadata": {},
   "outputs": [
    {
     "data": {
      "text/plain": [
       "AnnData object with n_obs × n_vars = 46136 × 32285\n",
       "    obs: 'cell_source', 'cell_type', 'donor', 'n_counts', 'n_genes', 'percent_mito', 'percent_ribo', 'region', 'sample', 'scrublet_score', 'cell_states', 'seed_labels', 'genotype', 'group', 'file', 'batch', 'doublet_scores', 'n_genes_by_counts', 'total_counts', 'total_counts_mt', 'pct_counts_mt', 'total_counts_ribo', 'pct_counts_ribo', 'percent_mt2', 'percent_chrY', 'XIST-counts', 'S_score', 'G2M_score', '_scvi_batch', '_scvi_labels', 'C_scANVI'\n",
       "    var: 'gene_ids', 'feature_types', 'genome', 'modality', 'mt', 'ribo', 'n_cells_by_counts', 'mean_counts', 'pct_dropout_by_counts', 'total_counts'\n",
       "    obsm: 'X_scANVI', 'X_scVI', 'X_umap'"
      ]
     },
     "execution_count": 6,
     "metadata": {},
     "output_type": "execute_result"
    }
   ],
   "source": [
    "heart_gex = sc.read_h5ad('../data/Kdm6aKO_ALL_GEX-CB_scANVI-CellTypes_ctl240117.raw.h5ad') \n",
    "heart_gex"
   ]
  },
  {
   "cell_type": "code",
   "execution_count": 7,
   "metadata": {},
   "outputs": [],
   "source": [
    "cell_data = heart_gex.obs\n",
    "cell_data['celltype'] = cell_data['C_scANVI'].astype(str)"
   ]
  },
  {
   "cell_type": "markdown",
   "metadata": {},
   "source": [
    "### Get chromosome sizes for GRCm38"
   ]
  },
  {
   "cell_type": "code",
   "execution_count": 8,
   "metadata": {},
   "outputs": [
    {
     "data": {
      "text/html": [
       "<div>\n",
       "<style scoped>\n",
       "    .dataframe tbody tr th:only-of-type {\n",
       "        vertical-align: middle;\n",
       "    }\n",
       "\n",
       "    .dataframe tbody tr th {\n",
       "        vertical-align: top;\n",
       "    }\n",
       "\n",
       "    .dataframe thead th {\n",
       "        text-align: right;\n",
       "    }\n",
       "</style>\n",
       "<table border=\"1\" class=\"dataframe\">\n",
       "  <thead>\n",
       "    <tr style=\"text-align: right;\">\n",
       "      <th></th>\n",
       "      <th>Chromosome</th>\n",
       "      <th>Start</th>\n",
       "      <th>End</th>\n",
       "    </tr>\n",
       "  </thead>\n",
       "  <tbody>\n",
       "    <tr>\n",
       "      <th>0</th>\n",
       "      <td>GL456210.1</td>\n",
       "      <td>0</td>\n",
       "      <td>169725</td>\n",
       "    </tr>\n",
       "    <tr>\n",
       "      <th>1</th>\n",
       "      <td>GL456211.1</td>\n",
       "      <td>0</td>\n",
       "      <td>241735</td>\n",
       "    </tr>\n",
       "    <tr>\n",
       "      <th>2</th>\n",
       "      <td>GL456212.1</td>\n",
       "      <td>0</td>\n",
       "      <td>153618</td>\n",
       "    </tr>\n",
       "    <tr>\n",
       "      <th>3</th>\n",
       "      <td>GL456219.1</td>\n",
       "      <td>0</td>\n",
       "      <td>175968</td>\n",
       "    </tr>\n",
       "    <tr>\n",
       "      <th>4</th>\n",
       "      <td>GL456221.1</td>\n",
       "      <td>0</td>\n",
       "      <td>206961</td>\n",
       "    </tr>\n",
       "    <tr>\n",
       "      <th>...</th>\n",
       "      <td>...</td>\n",
       "      <td>...</td>\n",
       "      <td>...</td>\n",
       "    </tr>\n",
       "    <tr>\n",
       "      <th>56</th>\n",
       "      <td>chr18</td>\n",
       "      <td>0</td>\n",
       "      <td>90720763</td>\n",
       "    </tr>\n",
       "    <tr>\n",
       "      <th>57</th>\n",
       "      <td>chr19</td>\n",
       "      <td>0</td>\n",
       "      <td>61420004</td>\n",
       "    </tr>\n",
       "    <tr>\n",
       "      <th>58</th>\n",
       "      <td>chrM</td>\n",
       "      <td>0</td>\n",
       "      <td>16299</td>\n",
       "    </tr>\n",
       "    <tr>\n",
       "      <th>59</th>\n",
       "      <td>chrX</td>\n",
       "      <td>0</td>\n",
       "      <td>169476592</td>\n",
       "    </tr>\n",
       "    <tr>\n",
       "      <th>60</th>\n",
       "      <td>chrY</td>\n",
       "      <td>0</td>\n",
       "      <td>91455967</td>\n",
       "    </tr>\n",
       "  </tbody>\n",
       "</table>\n",
       "<p>61 rows × 3 columns</p>\n",
       "</div>"
      ],
      "text/plain": [
       "+--------------+-----------+-----------+\n",
       "| Chromosome   | Start     | End       |\n",
       "| (category)   | (int64)   | (int64)   |\n",
       "|--------------+-----------+-----------|\n",
       "| GL456210.1   | 0         | 169725    |\n",
       "| GL456211.1   | 0         | 241735    |\n",
       "| GL456212.1   | 0         | 153618    |\n",
       "| GL456219.1   | 0         | 175968    |\n",
       "| ...          | ...       | ...       |\n",
       "| chr19        | 0         | 61420004  |\n",
       "| chrM         | 0         | 16299     |\n",
       "| chrX         | 0         | 169476592 |\n",
       "| chrY         | 0         | 91455967  |\n",
       "+--------------+-----------+-----------+\n",
       "Unstranded PyRanges object has 61 rows and 3 columns from 61 chromosomes.\n",
       "For printing, the PyRanges was sorted on Chromosome."
      ]
     },
     "execution_count": 8,
     "metadata": {},
     "output_type": "execute_result"
    }
   ],
   "source": [
    "target_url='http://hgdownload.cse.ucsc.edu/goldenPath/mm39/bigZips/mm39.chrom.sizes'\n",
    "chromsizes=pd.read_csv(target_url, sep = '\\t', header = None)\n",
    "chromsizes.columns=['Chromosome', 'End']\n",
    "chromsizes['Start']=[0]*chromsizes.shape[0]\n",
    "chromsizes=chromsizes.loc[:,['Chromosome', 'Start', 'End']]\n",
    "# Exceptionally in this case, to agree with CellRangerARC annotations\n",
    "chromsizes['Chromosome'] = [chromsizes['Chromosome'][x].replace('v', '.') for x in range(len(chromsizes['Chromosome']))]\n",
    "chromsizes['Chromosome'] = [chromsizes['Chromosome'][x].split('_')[1] if len(chromsizes['Chromosome'][x].split('_')) > 1 else chromsizes['Chromosome'][x] for x in range(len(chromsizes['Chromosome']))]\n",
    "chromsizes=pr.PyRanges(chromsizes)\n",
    "chromsizes"
   ]
  },
  {
   "cell_type": "code",
   "execution_count": 12,
   "metadata": {},
   "outputs": [
    {
     "name": "stdout",
     "output_type": "stream",
     "text": [
      "Reading fragments for GSKJ4_sham_57.\n",
      "from: ../data/fragments/GSKJ4_sham_57_fragments.tsv.gz\n",
      "Reading fragments for GSKJ4_treat_52.\n",
      "from: ../data/fragments/GSKJ4_treat_52_fragments.tsv.gz\n",
      "Reading fragments for KDM6A_wt_40.\n",
      "from: ../data/fragments/KDM6A_wt_40_fragments.tsv.gz\n",
      "Reading fragments for KDM6A_KO_31.\n",
      "from: ../data/fragments/KDM6A_KO_31_fragments.tsv.gz\n",
      "Reading fragments for GSKJ4_sham_51.\n",
      "from: ../data/fragments/GSKJ4_sham_51_fragments.tsv.gz\n",
      "Reading fragments for KDM6A_KO_34.\n",
      "from: ../data/fragments/KDM6A_KO_34_fragments.tsv.gz\n",
      "Reading fragments for GSKJ4_treat_47.\n",
      "from: ../data/fragments/GSKJ4_treat_47_fragments.tsv.gz\n",
      "Reading fragments for KDM6A_wt_11.\n",
      "from: ../data/fragments/KDM6A_wt_11_fragments.tsv.gz\n",
      "2024-01-17 19:32:03,053 cisTopic     INFO     Saving bed and BigWig files.\n",
      "2024-01-17 19:32:03,054 cisTopic     INFO     Saving EC1_cap.\n",
      "\tBigWig: /mnt/LaCIE/carlos/atac_analysis/becker23/consensus_peak_calling/pseudobulk_bw_files/EC1_cap.bw\n",
      "\tBED: /mnt/LaCIE/carlos/atac_analysis/becker23/consensus_peak_calling/pseudobulk_bed_files/EC1_cap.bed.gz\n",
      "2024-01-17 19:32:17,020 cisTopic     INFO     Generating bigwig for EC1_cap\n",
      "2024-01-17 19:32:59,150 cisTopic     INFO     Saving bigwig for EC1_cap\n",
      "2024-01-17 19:34:31,596 cisTopic     INFO     Saving bed for EC1_cap\n",
      "2024-01-17 19:39:50,422 cisTopic     INFO     Saving EC3_cap.\n",
      "\tBigWig: /mnt/LaCIE/carlos/atac_analysis/becker23/consensus_peak_calling/pseudobulk_bw_files/EC3_cap.bw\n",
      "\tBED: /mnt/LaCIE/carlos/atac_analysis/becker23/consensus_peak_calling/pseudobulk_bed_files/EC3_cap.bed.gz\n",
      "2024-01-17 19:39:54,652 cisTopic     INFO     Generating bigwig for EC3_cap\n",
      "2024-01-17 19:41:01,170 cisTopic     INFO     Saving bigwig for EC3_cap\n",
      "2024-01-17 19:41:30,117 cisTopic     INFO     Saving bed for EC3_cap\n",
      "2024-01-17 19:43:20,597 cisTopic     INFO     Saving vCM1.\n",
      "\tBigWig: /mnt/LaCIE/carlos/atac_analysis/becker23/consensus_peak_calling/pseudobulk_bw_files/vCM1.bw\n",
      "\tBED: /mnt/LaCIE/carlos/atac_analysis/becker23/consensus_peak_calling/pseudobulk_bed_files/vCM1.bed.gz\n",
      "2024-01-17 19:43:58,209 cisTopic     INFO     Generating bigwig for vCM1\n",
      "2024-01-17 19:45:36,999 cisTopic     INFO     Saving bigwig for vCM1\n",
      "2024-01-17 19:48:39,540 cisTopic     INFO     Saving bed for vCM1\n",
      "2024-01-17 20:01:30,178 cisTopic     INFO     Saving NK_CD16hi.\n",
      "\tBigWig: /mnt/LaCIE/carlos/atac_analysis/becker23/consensus_peak_calling/pseudobulk_bw_files/NK_CD16hi.bw\n",
      "\tBED: /mnt/LaCIE/carlos/atac_analysis/becker23/consensus_peak_calling/pseudobulk_bed_files/NK_CD16hi.bed.gz\n",
      "2024-01-17 20:01:32,984 cisTopic     INFO     Generating bigwig for NK_CD16hi\n",
      "2024-01-17 20:02:32,220 cisTopic     INFO     Saving bigwig for NK_CD16hi\n",
      "2024-01-17 20:02:47,267 cisTopic     INFO     Saving bed for NK_CD16hi\n",
      "2024-01-17 20:03:36,565 cisTopic     INFO     Saving EC6_ven.\n",
      "\tBigWig: /mnt/LaCIE/carlos/atac_analysis/becker23/consensus_peak_calling/pseudobulk_bw_files/EC6_ven.bw\n",
      "\tBED: /mnt/LaCIE/carlos/atac_analysis/becker23/consensus_peak_calling/pseudobulk_bed_files/EC6_ven.bed.gz\n",
      "2024-01-17 20:03:43,020 cisTopic     INFO     Generating bigwig for EC6_ven\n",
      "2024-01-17 20:03:59,094 cisTopic     INFO     Saving bigwig for EC6_ven\n",
      "2024-01-17 20:04:36,901 cisTopic     INFO     Saving bed for EC6_ven\n"
     ]
    }
   ],
   "source": [
    "from pycisTopic.pseudobulk_peak_calling import export_pseudobulk\n",
    "bw_paths, bed_paths = export_pseudobulk(input_data = cell_data,\n",
    "                 variable = 'celltype',                                                                     \n",
    "                 sample_id_col = 'sample',\n",
    "                 chromsizes = chromsizes,\n",
    "                 bed_path = save_dir + '/consensus_peak_calling/pseudobulk_bed_files/',  \n",
    "                 bigwig_path = save_dir + '/consensus_peak_calling/pseudobulk_bw_files/',\n",
    "                 path_to_fragments = fragments_dict,                                                        \n",
    "                 n_cpu = 32,                                                                                \n",
    "                 normalize_bigwig = True,\n",
    "                 remove_duplicates = True,\n",
    "                 split_pattern = '-')"
   ]
  },
  {
   "cell_type": "code",
   "execution_count": null,
   "metadata": {},
   "outputs": [],
   "source": [
    "pickle.dump(bed_paths,\n",
    "            open(os.path.join(save_dir, '/consensus_peak_calling/pseudobulk_bed_files/bed_paths.pkl'), 'wb'))\n",
    "pickle.dump(bw_paths,\n",
    "           open(os.path.join(save_dir, '/consensus_peak_calling/pseudobulk_bed_files/bw_paths.pkl'), 'wb'))"
   ]
  },
  {
   "attachments": {},
   "cell_type": "markdown",
   "metadata": {},
   "source": [
    "### Call peaks per pseudobulk profiles"
   ]
  },
  {
   "cell_type": "code",
   "execution_count": null,
   "metadata": {},
   "outputs": [],
   "source": [
    "bed_paths = pickle.load(open(os.path.join(save_dir, '/consensus_peak_calling/pseudobulk_bed_files/bed_paths.pkl'), 'rb'))\n",
    "bw_paths =  pickle.load(open(os.path.join(save_dir, '/consensus_peak_calling/pseudobulk_bed_files/bw_paths.pkl'), 'rb'))"
   ]
  },
  {
   "cell_type": "code",
   "execution_count": null,
   "metadata": {},
   "outputs": [],
   "source": [
    "narrow_peaks_dict = peak_calling(macs_path,\n",
    "                                 bed_paths,\n",
    "                                 os.path.join(save_dir, '/consensus_peak_calling/MACS/'),\n",
    "                                 genome_size = 'mm',\n",
    "                                 n_cpu = 32,\n",
    "                                 input_format = 'BEDPE',\n",
    "                                 shift = 73,\n",
    "                                 ext_size = 146,\n",
    "                                 keep_dup = 'all',\n",
    "                                 q_value = 0.05,\n",
    "                                 _temp_dir = os.path.join(tmp_dir, 'ray_spill'))"
   ]
  },
  {
   "cell_type": "code",
   "execution_count": null,
   "metadata": {},
   "outputs": [],
   "source": [
    "pickle.dump(narrow_peaks_dict,\n",
    "            open(os.path.join(save_dir, '/consensus_peak_calling/MACS/narrow_peaks_dict.pkl'), 'wb'))"
   ]
  },
  {
   "cell_type": "markdown",
   "metadata": {},
   "source": [
    "### Merge peaks into consensus peak set, for more info see `pyCistopic` read the docs."
   ]
  },
  {
   "cell_type": "code",
   "execution_count": null,
   "metadata": {},
   "outputs": [],
   "source": [
    "peak_half_width = 250\n",
    "path_to_blacklist = '/home/ruth/tools/pycisTopic/blacklist/mm10-blacklist.v2.bed'\n",
    "consensus_peaks = get_consensus_peaks(narrow_peaks_dict, \n",
    "                                      peak_half_width, \n",
    "                                      chromsizes = chromsizes, \n",
    "                                      path_to_blacklist = path_to_blacklist)"
   ]
  },
  {
   "cell_type": "code",
   "execution_count": null,
   "metadata": {},
   "outputs": [],
   "source": [
    "consensus_peaks.to_bed(\n",
    "    path = os.path.join(save_dir, '/consensus_peak_calling/consensus_regions.bed'),\n",
    "    keep = True,\n",
    "    compression = 'infer',\n",
    "    chain = False)"
   ]
  },
  {
   "cell_type": "markdown",
   "metadata": {},
   "source": [
    "### Peaks quality control "
   ]
  },
  {
   "cell_type": "code",
   "execution_count": null,
   "metadata": {},
   "outputs": [],
   "source": [
    "dataset = pbm.Dataset(name='mmusculus_gene_ensembl',  host='http://www.ensembl.org')\n",
    "annot = dataset.query(attributes=['chromosome_name', 'transcription_start_site', 'strand', 'external_gene_name', 'transcript_biotype'])\n",
    "annot['Chromosome/scaffold name'] = annot['Chromosome/scaffold name'].to_numpy(dtype = str)\n",
    "filter = annot['Chromosome/scaffold name'].str.contains('CHR|GL|JH|MT')\n",
    "annot = annot[~filter]\n",
    "annot['Chromosome/scaffold name'] = annot['Chromosome/scaffold name'].str.replace(r'(\\b\\S)', r'chr\\1')\n",
    "annot.columns=['Chromosome', 'Start', 'Strand', 'Gene', 'Transcript_type']\n",
    "annot = annot[annot.Transcript_type == 'protein_coding']"
   ]
  },
  {
   "cell_type": "code",
   "execution_count": null,
   "metadata": {},
   "outputs": [],
   "source": [
    "path_to_regions = {'KDM6A_wt_40': os.path.join(save_dir, '/consensus_peak_calling/consensus_regions.bed'), \n",
    "                  'Kå≈DM6A_wt_11': os.path.join(save_dir, '/consensus_peak_calling/consensus_regions.bed'),\n",
    "                  'KDM6A_KO_34': os.path.join(save_dir, '/consensus_peak_calling/consensus_regions.bed'),\n",
    "                  'KDM6A_KO_31': os.path.join(save_dir, '/consensus_peak_calling/consensus_regions.bed'),\n",
    "                  'GSKJ4_sham_51': os.path.join(save_dir, '/consensus_peak_calling/consensus_regions.bed'),\n",
    "                  'GSKJ4_sham_57': os.path.join(save_dir, '/consensus_peak_calling/consensus_regions.bed'),\n",
    "                  'GSKJ4_treat_47': os.path.join(save_dir, '/consensus_peak_calling/consensus_regions.bed'),\n",
    "                  'GSKJ4_treat_52': os.path.join(save_dir, '/consensus_peak_calling/consensus_regions.bed')}"
   ]
  },
  {
   "cell_type": "code",
   "execution_count": null,
   "metadata": {},
   "outputs": [],
   "source": [
    "metadata_bc, profile_data_dict = compute_qc_stats(\n",
    "                fragments_dict = fragments_dict,\n",
    "                tss_annotation = annot,\n",
    "                stats=['barcode_rank_plot', 'duplicate_rate', 'insert_size_distribution', 'profile_tss', 'frip'],\n",
    "                label_list = None,\n",
    "                path_to_regions = path_to_regions,\n",
    "                n_cpu = 1,\n",
    "                valid_bc = None,\n",
    "                n_frag = 100,\n",
    "                n_bc = None,\n",
    "                tss_flank_window = 1000,\n",
    "                tss_window = 50,\n",
    "                tss_minimum_signal_window = 100,\n",
    "                tss_rolling_window = 10,\n",
    "                remove_duplicates = True,\n",
    "                _temp_dir = os.path.join(tmp_dir + 'ray_spill'))"
   ]
  },
  {
   "cell_type": "code",
   "execution_count": null,
   "metadata": {},
   "outputs": [],
   "source": [
    "#path_to_regions = {adata.obs['sample']:os.path.join(work_dir, '/mnt/LaCIE/carlos/nobackup/raw_data/single_cell/external/collaborations/becker_2023/atac/consensus_peak_calling/consensus_regions.bed')}\n",
    "\n",
    "metadata_bc, profile_data_dict = compute_qc_stats(\n",
    "                fragments_dict = fragments_dict,\n",
    "                tss_annotation = annot,\n",
    "                stats=['barcode_rank_plot', 'duplicate_rate', 'insert_size_distribution', 'profile_tss', 'frip'],\n",
    "                label_list = None,\n",
    "                path_to_regions = path_to_regions,\n",
    "                n_cpu = 8,\n",
    "                valid_bc = None,\n",
    "                n_frag = 100,\n",
    "                n_bc = None,\n",
    "                tss_flank_window = 1000,\n",
    "                tss_window = 50,\n",
    "                tss_minimum_signal_window = 100,\n",
    "                tss_rolling_window = 10,\n",
    "                remove_duplicates = True,\n",
    "                _temp_dir = os.path.join(tmp_dir + 'ray_spill'))\n"
   ]
  },
  {
   "cell_type": "code",
   "execution_count": null,
   "metadata": {},
   "outputs": [],
   "source": [
    "if not os.path.exists(os.path.join(save_dir, '/consensus_peak_calling/quality_control')):\n",
    "    os.makedirs(os.path.join(save_dir, '/consensus_peak_calling/quality_control'))\n",
    "\n",
    "pickle.dump(metadata_bc,\n",
    "            open(os.path.join(save_dir, '/consensus_peak_calling/quality_control/metadata_bc.pkl'), 'wb'))\n",
    "\n",
    "pickle.dump(profile_data_dict,\n",
    "            open(os.path.join(save_dir, '/consensus_peak_calling/quality_control/profile_data_dict.pkl'), 'wb'))"
   ]
  },
  {
   "cell_type": "raw",
   "metadata": {},
   "source": [
    "                         #[min,  #max]\n",
    "QC_filters = {\n",
    "    'Log_unique_nr_frag': [3.3 , None],\n",
    "    'FRIP':               [0.45, None],\n",
    "    'TSS_enrichment':     [5   , None],\n",
    "    'Dupl_rate':          [None, None]\n",
    "\n",
    "}"
   ]
  },
  {
   "cell_type": "code",
   "execution_count": null,
   "metadata": {},
   "outputs": [],
   "source": [
    "                         #[min,  #max]\n",
    "QC_filters = {\n",
    "    'Log_unique_nr_frag': [1 , None],\n",
    "    'FRIP':               [0.1, None],\n",
    "    'TSS_enrichment':     [1   , None],\n",
    "    'Dupl_rate':          [None, None]\n",
    "\n",
    "}"
   ]
  },
  {
   "cell_type": "code",
   "execution_count": null,
   "metadata": {},
   "outputs": [],
   "source": [
    "FRIP_NR_FRAG_fig, FRIP_NR_FRAG_filter=plot_barcode_metrics(metadata_bc['GSKJ4_treat_52'],\n",
    "                                       var_x='Log_unique_nr_frag',\n",
    "                                       var_y='FRIP',\n",
    "                                       min_x=QC_filters['Log_unique_nr_frag'][0],\n",
    "                                       max_x=QC_filters['Log_unique_nr_frag'][1],\n",
    "                                       min_y=QC_filters['FRIP'][0],\n",
    "                                       max_y=QC_filters['FRIP'][1],\n",
    "                                       return_cells=True,\n",
    "                                       return_fig=True,\n",
    "                                       plot=False)\n",
    "\n",
    "TSS_NR_FRAG_fig, TSS_NR_FRAG_filter=plot_barcode_metrics(metadata_bc['GSKJ4_treat_52'],\n",
    "                                      var_x='Log_unique_nr_frag',\n",
    "                                      var_y='TSS_enrichment',\n",
    "                                      min_x=QC_filters['Log_unique_nr_frag'][0],\n",
    "                                      max_x=QC_filters['Log_unique_nr_frag'][1],\n",
    "                                      min_y=QC_filters['TSS_enrichment'][0],\n",
    "                                      max_y=QC_filters['TSS_enrichment'][1],\n",
    "                                      return_cells=True,\n",
    "                                      return_fig=True,\n",
    "                                      plot=False)\n",
    "\n",
    "DR_NR_FRAG_fig=plot_barcode_metrics(metadata_bc['GSKJ4_treat_52'],\n",
    "                                      var_x='Log_unique_nr_frag',\n",
    "                                      var_y='Dupl_rate',\n",
    "                                      min_x=QC_filters['Log_unique_nr_frag'][0],\n",
    "                                      max_x=QC_filters['Log_unique_nr_frag'][1],\n",
    "                                      min_y=QC_filters['Dupl_rate'][0],\n",
    "                                      max_y=QC_filters['Dupl_rate'][1],\n",
    "                                      return_cells=False,\n",
    "                                      return_fig=True,\n",
    "                                      plot=False,\n",
    "                                      plot_as_hexbin = True)\n"
   ]
  },
  {
   "cell_type": "code",
   "execution_count": null,
   "metadata": {},
   "outputs": [],
   "source": [
    "fig=plt.figure(figsize=(10,10))\n",
    "plt.subplot(1, 3, 1)\n",
    "img = fig2img(FRIP_NR_FRAG_fig)\n",
    "plt.imshow(img)\n",
    "plt.axis('off')\n",
    "plt.subplot(1, 3, 2)\n",
    "img = fig2img(TSS_NR_FRAG_fig)\n",
    "plt.imshow(img)\n",
    "plt.axis('off')\n",
    "plt.subplot(1, 3, 3)\n",
    "img = fig2img(DR_NR_FRAG_fig)\n",
    "plt.imshow(img)\n",
    "plt.axis('off')\n",
    "plt.show()"
   ]
  },
  {
   "cell_type": "markdown",
   "metadata": {},
   "source": [
    "### Export filtered barcodes"
   ]
  },
  {
   "cell_type": "code",
   "execution_count": null,
   "metadata": {},
   "outputs": [],
   "source": [
    "bc_passing_filters = {'GSKJ4_treat_52':[]}\n",
    "bc_passing_filters['GSKJ4_treat_52'] = list((set(FRIP_NR_FRAG_filter) & set(TSS_NR_FRAG_filter)))\n",
    "pickle.dump(bc_passing_filters,\n",
    "            open(os.path.join(save_dir, '/consensus_peak_calling/quality_control/GSKJ4_treat_52_bc_passing_filters.pkl'), 'wb'))\n",
    "print(f\"{len(bc_passing_filters['GSKJ4_treat_52'])} barcodes passed QC stats\")"
   ]
  },
  {
   "attachments": {},
   "cell_type": "markdown",
   "metadata": {},
   "source": [
    "### Creating a cisTopic object and topic modeling"
   ]
  },
  {
   "cell_type": "code",
   "execution_count": null,
   "metadata": {},
   "outputs": [],
   "source": [
    "scRNA_bc = heart_gex.obs_names"
   ]
  },
  {
   "cell_type": "code",
   "execution_count": null,
   "metadata": {},
   "outputs": [],
   "source": [
    "bc_passing_filters = {'KDM6A_wt_40': pickle.load(open(os.path.join(save_dir, '/consensus_peak_calling/quality_control/KDM6A_wt_40_bc_passing_filters.pkl'), 'rb')), \n",
    "                  'KDM6A_wt_11': pickle.load(open(os.path.join(save_dir, '/consensus_peak_calling/quality_control/KDM6A_wt_11_bc_passing_filters.pkl'), 'rb')),\n",
    "                  'KDM6A_KO_34': pickle.load(open(os.path.join(save_dir, '/consensus_peak_calling/quality_control/KDM6A_KO_34_bc_passing_filters.pkl'), 'rb')),\n",
    "                  'KDM6A_KO_31': pickle.load(open(os.path.join(save_dir, '/consensus_peak_calling/quality_control/KDM6A_KO_31_bc_passing_filters.pkl'), 'rb')),\n",
    "                  'GSKJ4_sham_51': pickle.load(open(os.path.join(save_dir, '/consensus_peak_calling/quality_control/GSKJ4_sham_51_bc_passing_filters.pkl'), 'rb')),\n",
    "                  'GSKJ4_sham_57': pickle.load(open(os.path.join(save_dir, '/consensus_peak_calling/quality_control/GSKJ4_sham_57_bc_passing_filters.pkl'), 'rb')),\n",
    "                  'GSKJ4_treat_47': pickle.load(open(os.path.join(save_dir, '/consensus_peak_calling/quality_control/GSKJ4_treat_47_bc_passing_filters.pkl'), 'rb')),\n",
    "                  'GSKJ4_treat_52': pickle.load(open(os.path.join(save_dir, '/consensus_peak_calling/quality_control/GSKJ4_treat_52_bc_passing_filters.pkl'), 'rb'))}"
   ]
  },
  {
   "cell_type": "code",
   "execution_count": null,
   "metadata": {},
   "outputs": [],
   "source": [
    "bc_passing_filters['KDM6A_wt_11']"
   ]
  },
  {
   "cell_type": "code",
   "execution_count": null,
   "metadata": {},
   "outputs": [],
   "source": [
    "print(f\"{len(list(set(bc_passing_filters['KDM6A_wt_11']) & set(scRNA_bc)))} cell barcodes pass both scATAC-seq and scRNA-seq based filtering\")"
   ]
  },
  {
   "cell_type": "code",
   "execution_count": null,
   "metadata": {},
   "outputs": [],
   "source": [
    "key = 'KDM6A_wt_11'\n",
    "cistopic_obj = create_cistopic_object_from_fragments(\n",
    "                            path_to_fragments = fragments_dict[key],\n",
    "                            path_to_regions = path_to_regions[key],\n",
    "                            path_to_blacklist = path_to_blacklist,\n",
    "                            metrics = metadata_bc[key],\n",
    "#                            valid_bc=list(set(bc_passing_filters[key]) & set(scRNA_bc)),\n",
    "                            n_cpu = 24,\n",
    "                            project = key,\n",
    "                            split_pattern = '-')\n",
    "cistopic_obj.add_cell_data(cell_data, split_pattern = '-')\n",
    "print(cistopic_obj)\n",
    "\n",
    "pickle.dump(cistopic_obj,\n",
    "            open(os.path.join(save_dir, '/KDM6A_wt_11_cistobj.pkl'), 'wb'))"
   ]
  },
  {
   "cell_type": "code",
   "execution_count": null,
   "metadata": {},
   "outputs": [],
   "source": [
    "key = 'KDM6A_KO_34'\n",
    "cistopic_obj = create_cistopic_object_from_fragments(\n",
    "                            path_to_fragments = fragments_dict[key],\n",
    "                            path_to_regions = path_to_regions[key],\n",
    "                            path_to_blacklist = path_to_blacklist,\n",
    "                            metrics = metadata_bc[key],\n",
    "#                            valid_bc=list(set(bc_passing_filters[key]) & set(scRNA_bc)),\n",
    "                            n_cpu = 24,\n",
    "                            project = key,\n",
    "                            split_pattern = '-')\n",
    "cistopic_obj.add_cell_data(cell_data, split_pattern = '-')\n",
    "print(cistopic_obj)\n",
    "\n",
    "pickle.dump(cistopic_obj,\n",
    "            open(os.path.join(save_dir, '/KDM6A_KO_34_cistobj.pkl'), 'wb'))"
   ]
  },
  {
   "cell_type": "code",
   "execution_count": null,
   "metadata": {},
   "outputs": [],
   "source": [
    "key = 'KDM6A_wt_40'\n",
    "cistopic_obj = create_cistopic_object_from_fragments(\n",
    "                            path_to_fragments = fragments_dict[key],\n",
    "                            path_to_regions = path_to_regions[key],\n",
    "                            path_to_blacklist = path_to_blacklist,\n",
    "                            metrics = metadata_bc[key],\n",
    "#                            valid_bc=list(set(bc_passing_filters[key]) & set(scRNA_bc)),\n",
    "                            n_cpu = 24,\n",
    "                            project = key,\n",
    "                            split_pattern = '-')\n",
    "cistopic_obj.add_cell_data(cell_data, split_pattern = '-')\n",
    "print(cistopic_obj)\n",
    "\n",
    "pickle.dump(cistopic_obj,\n",
    "            open(os.path.join(save_dir, '/KDM6A_wt_40_cistobj.pkl'), 'wb'))"
   ]
  },
  {
   "cell_type": "code",
   "execution_count": null,
   "metadata": {},
   "outputs": [],
   "source": [
    "key = 'KDM6A_KO_31'\n",
    "cistopic_obj = create_cistopic_object_from_fragments(\n",
    "                            path_to_fragments = fragments_dict[key],\n",
    "                            path_to_regions = path_to_regions[key],\n",
    "                            path_to_blacklist = path_to_blacklist,\n",
    "                            metrics = metadata_bc[key],\n",
    "#                            valid_bc=list(set(bc_passing_filters[key]) & set(scRNA_bc)),\n",
    "                            n_cpu = 24,\n",
    "                            project = key,\n",
    "                            split_pattern = '-')\n",
    "cistopic_obj.add_cell_data(cell_data, split_pattern = '-')\n",
    "print(cistopic_obj)\n",
    "\n",
    "pickle.dump(cistopic_obj,\n",
    "            open(os.path.join(save_dir, '/KDM6A_KO_31_cistobj.pkl'), 'wb'))"
   ]
  },
  {
   "cell_type": "code",
   "execution_count": null,
   "metadata": {},
   "outputs": [],
   "source": [
    "key = 'GSKJ4_sham_51'\n",
    "cistopic_obj = create_cistopic_object_from_fragments(\n",
    "                            path_to_fragments = fragments_dict[key],\n",
    "                            path_to_regions = path_to_regions[key],\n",
    "                            path_to_blacklist = path_to_blacklist,\n",
    "                            metrics = metadata_bc[key],\n",
    "#                            valid_bc=list(set(bc_passing_filters[key]) & set(scRNA_bc)),\n",
    "                            n_cpu = 24,\n",
    "                            project = key,\n",
    "                            split_pattern = '-')\n",
    "cistopic_obj.add_cell_data(cell_data, split_pattern = '-')\n",
    "print(cistopic_obj)\n",
    "\n",
    "pickle.dump(cistopic_obj,\n",
    "            open(os.path.join(save_dir, '/GSKJ4_sham_51_cistobj.pkl'), 'wb'))"
   ]
  },
  {
   "cell_type": "code",
   "execution_count": null,
   "metadata": {},
   "outputs": [],
   "source": [
    "key = 'GSKJ4_sham_57'\n",
    "cistopic_obj = create_cistopic_object_from_fragments(\n",
    "                            path_to_fragments = fragments_dict[key],\n",
    "                            path_to_regions = path_to_regions[key],\n",
    "                            path_to_blacklist = path_to_blacklist,\n",
    "                            metrics = metadata_bc[key],\n",
    "#                            valid_bc=list(set(bc_passing_filters[key]) & set(scRNA_bc)),\n",
    "                            n_cpu = 24,\n",
    "                            project = key,\n",
    "                            split_pattern = '-')\n",
    "cistopic_obj.add_cell_data(cell_data, split_pattern = '-')\n",
    "print(cistopic_obj)\n",
    "\n",
    "pickle.dump(cistopic_obj,\n",
    "            open(os.path.join(save_dir, '/GSKJ4_sham_57_cistobj.pkl'), 'wb'))"
   ]
  },
  {
   "cell_type": "code",
   "execution_count": null,
   "metadata": {},
   "outputs": [],
   "source": [
    "key = 'GSKJ4_treat_47'\n",
    "cistopic_obj = create_cistopic_object_from_fragments(\n",
    "                            path_to_fragments = fragments_dict[key],\n",
    "                            path_to_regions = path_to_regions[key],\n",
    "                            path_to_blacklist = path_to_blacklist,\n",
    "                            metrics = metadata_bc[key],\n",
    "#                            valid_bc=list(set(bc_passing_filters[key]) & set(scRNA_bc)),\n",
    "                            n_cpu = 24,\n",
    "                            project = key,\n",
    "                            split_pattern = '-')\n",
    "cistopic_obj.add_cell_data(cell_data, split_pattern = '-')\n",
    "print(cistopic_obj)\n",
    "\n",
    "pickle.dump(cistopic_obj,\n",
    "            open(os.path.join(save_dir, '/GSKJ4_treat_47_cistobj.pkl'), 'wb'))"
   ]
  },
  {
   "cell_type": "code",
   "execution_count": null,
   "metadata": {},
   "outputs": [],
   "source": [
    "key = 'GSKJ4_treat_52'\n",
    "cistopic_obj = create_cistopic_object_from_fragments(\n",
    "                            path_to_fragments = fragments_dict[key],\n",
    "                            path_to_regions = path_to_regions[key],\n",
    "                            path_to_blacklist = path_to_blacklist,\n",
    "                            metrics = metadata_bc[key],\n",
    "#                            valid_bc=list(set(bc_passing_filters[key]) & set(scRNA_bc)),\n",
    "                            n_cpu = 24,\n",
    "                            project = key,\n",
    "                            split_pattern = '-')\n",
    "cistopic_obj.add_cell_data(cell_data, split_pattern = '-')\n",
    "print(cistopic_obj)\n",
    "\n",
    "pickle.dump(cistopic_obj,\n",
    "            open(os.path.join(save_dir, '/GSKJ4_treat_52_cistobj.pkl'), 'wb'))"
   ]
  }
 ],
 "metadata": {
  "kernelspec": {
   "display_name": "Python 3",
   "language": "python",
   "name": "python3"
  },
  "language_info": {
   "codemirror_mode": {
    "name": "ipython",
    "version": 3
   },
   "file_extension": ".py",
   "mimetype": "text/x-python",
   "name": "python",
   "nbconvert_exporter": "python",
   "pygments_lexer": "ipython3",
   "version": "3.10.13"
  },
  "orig_nbformat": 4,
  "vscode": {
   "interpreter": {
    "hash": "aee8b7b246df8f9039afb4144a1f6fd8d2ca17a180786b69acc140d282b71a49"
   }
  }
 },
 "nbformat": 4,
 "nbformat_minor": 2
}
