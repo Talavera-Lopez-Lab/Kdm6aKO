{
 "cells": [
  {
   "attachments": {},
   "cell_type": "markdown",
   "metadata": {},
   "source": [
    "### Run basic `scanpy` QC and doublet detection with `scrublet` for merged, post-`cellbender` `Kdm6aKO` dataset\n",
    "\n",
    "- **Developed by**: Carlos Talavera-López PhD\n",
    "- **Würzburg Institute for Systems Immunology & Julius-Maximilian-Universität Würzburg**\n",
    "- v240103"
   ]
  },
  {
   "attachments": {},
   "cell_type": "markdown",
   "metadata": {},
   "source": [
    "### Load required modules"
   ]
  },
  {
   "cell_type": "code",
   "execution_count": 1,
   "metadata": {},
   "outputs": [],
   "source": [
    "import anndata\n",
    "import logging\n",
    "import numpy as np\n",
    "import pandas as pd\n",
    "import scanpy as sc\n",
    "import seaborn as sb\n",
    "import scrublet as scr\n",
    "import matplotlib.pyplot as plt\n",
    "from matplotlib import colors\n",
    "from matplotlib import rcParams"
   ]
  },
  {
   "cell_type": "code",
   "execution_count": 2,
   "metadata": {
    "tags": []
   },
   "outputs": [
    {
     "name": "stdout",
     "output_type": "stream",
     "text": [
      "-----\n",
      "anndata     0.10.5.post1\n",
      "scanpy      1.9.8\n",
      "-----\n",
      "PIL                 10.2.0\n",
      "asttokens           NA\n",
      "cffi                1.16.0\n",
      "colorama            0.4.6\n",
      "comm                0.2.1\n",
      "cycler              0.12.1\n",
      "cython_runtime      NA\n",
      "dateutil            2.9.0\n",
      "debugpy             1.8.1\n",
      "decorator           5.1.1\n",
      "exceptiongroup      1.2.0\n",
      "executing           2.0.1\n",
      "google              NA\n",
      "h5py                3.10.0\n",
      "ipykernel           6.29.3\n",
      "jedi                0.19.1\n",
      "joblib              1.3.2\n",
      "kiwisolver          1.4.5\n",
      "llvmlite            0.42.0\n",
      "matplotlib          3.8.3\n",
      "mpl_toolkits        NA\n",
      "natsort             8.4.0\n",
      "numba               0.59.0\n",
      "numpy               1.26.4\n",
      "packaging           23.2\n",
      "pandas              2.2.1\n",
      "parso               0.8.3\n",
      "patsy               0.5.6\n",
      "pickleshare         0.7.5\n",
      "platformdirs        4.2.0\n",
      "prompt_toolkit      3.0.42\n",
      "psutil              5.9.8\n",
      "pure_eval           0.2.2\n",
      "pydev_ipython       NA\n",
      "pydevconsole        NA\n",
      "pydevd              2.9.5\n",
      "pydevd_file_utils   NA\n",
      "pydevd_plugins      NA\n",
      "pydevd_tracing      NA\n",
      "pygments            2.17.2\n",
      "pyparsing           3.1.2\n",
      "pytz                2024.1\n",
      "scipy               1.12.0\n",
      "scrublet            NA\n",
      "seaborn             0.13.2\n",
      "session_info        1.0.0\n",
      "six                 1.16.0\n",
      "sklearn             1.4.1.post1\n",
      "stack_data          0.6.2\n",
      "statsmodels         0.14.1\n",
      "threadpoolctl       3.3.0\n",
      "torch               2.2.1\n",
      "torchgen            NA\n",
      "tornado             6.4\n",
      "tqdm                4.66.2\n",
      "traitlets           5.14.1\n",
      "typing_extensions   NA\n",
      "wcwidth             0.2.13\n",
      "yaml                6.0.1\n",
      "zmq                 25.1.2\n",
      "zoneinfo            NA\n",
      "-----\n",
      "IPython             8.22.2\n",
      "jupyter_client      8.6.0\n",
      "jupyter_core        5.7.1\n",
      "-----\n",
      "Python 3.10.13 | packaged by conda-forge | (main, Dec 23 2023, 15:36:39) [GCC 12.3.0]\n",
      "Linux-6.6.14-100.fc38.x86_64-x86_64-with-glibc2.37\n",
      "-----\n",
      "Session information updated at 2024-03-07 15:47\n"
     ]
    }
   ],
   "source": [
    "sc.settings.verbosity = 3\n",
    "sc.logging.print_versions()\n",
    "sc.settings.set_figure_params(dpi = 160, color_map = 'RdPu', dpi_save = 180, vector_friendly = True, format = 'svg')"
   ]
  },
  {
   "cell_type": "code",
   "execution_count": 3,
   "metadata": {},
   "outputs": [],
   "source": [
    "path = '../data/'"
   ]
  },
  {
   "attachments": {},
   "cell_type": "markdown",
   "metadata": {},
   "source": [
    "### Read individual `anndata` objects and predict doublets per sample"
   ]
  },
  {
   "cell_type": "code",
   "execution_count": 4,
   "metadata": {},
   "outputs": [
    {
     "data": {
      "text/plain": [
       "AnnData object with n_obs × n_vars = 5782594 × 32285\n",
       "    obs: 'sample', 'genotype', 'group', 'file', 'batch'\n",
       "    var: 'gene_ids', 'feature_types', 'genome', 'modality'"
      ]
     },
     "execution_count": 4,
     "metadata": {},
     "output_type": "execute_result"
    }
   ],
   "source": [
    "adata = sc.read_h5ad(path + 'Kdm6aKO_ALL_GEX-CB_ctl240116.raw.h5ad')\n",
    "adata"
   ]
  },
  {
   "cell_type": "code",
   "execution_count": 5,
   "metadata": {},
   "outputs": [
    {
     "name": "stdout",
     "output_type": "stream",
     "text": [
      "filtered out 5692057 cells that have less than 200 genes expressed\n",
      "90537 32285\n"
     ]
    }
   ],
   "source": [
    "sc.pp.filter_cells(adata, min_genes = 200)\n",
    "print(adata.n_obs, adata.n_vars)"
   ]
  },
  {
   "cell_type": "code",
   "execution_count": 6,
   "metadata": {},
   "outputs": [
    {
     "name": "stdout",
     "output_type": "stream",
     "text": [
      "Preprocessing...\n",
      "Simulating doublets...\n",
      "Embedding transcriptomes using PCA...\n",
      "Calculating doublet scores...\n",
      "Automatically set threshold at doublet score = 0.10\n",
      "Detected doublet rate = 33.1%\n",
      "Estimated detectable doublet fraction = 80.0%\n",
      "Overall doublet rate:\n",
      "\tExpected   = 10.0%\n",
      "\tEstimated  = 41.3%\n",
      "Elapsed time: 10.9 seconds\n",
      "Preprocessing...\n",
      "Simulating doublets...\n",
      "Embedding transcriptomes using PCA...\n",
      "Calculating doublet scores...\n",
      "Automatically set threshold at doublet score = 0.24\n",
      "Detected doublet rate = 7.8%\n",
      "Estimated detectable doublet fraction = 48.2%\n",
      "Overall doublet rate:\n",
      "\tExpected   = 10.0%\n",
      "\tEstimated  = 16.2%\n",
      "Elapsed time: 4.5 seconds\n",
      "Preprocessing...\n",
      "Simulating doublets...\n",
      "Embedding transcriptomes using PCA...\n",
      "Calculating doublet scores...\n",
      "Automatically set threshold at doublet score = 0.23\n",
      "Detected doublet rate = 8.1%\n",
      "Estimated detectable doublet fraction = 55.3%\n",
      "Overall doublet rate:\n",
      "\tExpected   = 10.0%\n",
      "\tEstimated  = 14.6%\n",
      "Elapsed time: 5.4 seconds\n",
      "Preprocessing...\n",
      "Simulating doublets...\n",
      "Embedding transcriptomes using PCA...\n",
      "Calculating doublet scores...\n",
      "Automatically set threshold at doublet score = 0.19\n",
      "Detected doublet rate = 13.3%\n",
      "Estimated detectable doublet fraction = 59.2%\n",
      "Overall doublet rate:\n",
      "\tExpected   = 10.0%\n",
      "\tEstimated  = 22.5%\n",
      "Elapsed time: 10.2 seconds\n",
      "Preprocessing...\n",
      "Simulating doublets...\n",
      "Embedding transcriptomes using PCA...\n",
      "Calculating doublet scores...\n",
      "Automatically set threshold at doublet score = 0.26\n",
      "Detected doublet rate = 14.7%\n",
      "Estimated detectable doublet fraction = 45.5%\n",
      "Overall doublet rate:\n",
      "\tExpected   = 10.0%\n",
      "\tEstimated  = 32.2%\n",
      "Elapsed time: 36.6 seconds\n",
      "Preprocessing...\n",
      "Simulating doublets...\n",
      "Embedding transcriptomes using PCA...\n",
      "Calculating doublet scores...\n",
      "Automatically set threshold at doublet score = 0.75\n",
      "Detected doublet rate = 0.0%\n",
      "Estimated detectable doublet fraction = 1.9%\n",
      "Overall doublet rate:\n",
      "\tExpected   = 10.0%\n",
      "\tEstimated  = 0.7%\n",
      "Elapsed time: 5.3 seconds\n",
      "Preprocessing...\n",
      "Simulating doublets...\n",
      "Embedding transcriptomes using PCA...\n",
      "Calculating doublet scores...\n",
      "Automatically set threshold at doublet score = 0.75\n",
      "Detected doublet rate = 0.0%\n",
      "Estimated detectable doublet fraction = 0.6%\n",
      "Overall doublet rate:\n",
      "\tExpected   = 10.0%\n",
      "\tEstimated  = 2.5%\n",
      "Elapsed time: 4.5 seconds\n",
      "Preprocessing...\n",
      "Simulating doublets...\n",
      "Embedding transcriptomes using PCA...\n",
      "Calculating doublet scores...\n",
      "Automatically set threshold at doublet score = 0.73\n",
      "Detected doublet rate = 0.0%\n",
      "Estimated detectable doublet fraction = 1.4%\n",
      "Overall doublet rate:\n",
      "\tExpected   = 10.0%\n",
      "\tEstimated  = 1.2%\n",
      "Elapsed time: 3.4 seconds\n"
     ]
    }
   ],
   "source": [
    "sample_names = adata.obs['sample'].unique()\n",
    "\n",
    "for sample_name in sample_names:\n",
    "    mask = adata.obs['sample'] == sample_name\n",
    "    sample_adata = adata[mask].copy()\n",
    "\n",
    "    scrub = scr.Scrublet(sample_adata.X, expected_doublet_rate = 0.1)\n",
    "\n",
    "    sample_adata.obs['doublet_scores'], sample_adata.obs['predicted_doublets'] = scrub.scrub_doublets()\n",
    "\n",
    "    adata.obs.loc[mask, 'doublet_scores'] = sample_adata.obs['doublet_scores']\n",
    "    adata.obs.loc[mask, 'predicted_doublets'] = sample_adata.obs['predicted_doublets']\n",
    "\n",
    "    #scrub.plot_histogram()\n",
    "\n",
    "    #plt.show()"
   ]
  },
  {
   "cell_type": "code",
   "execution_count": 7,
   "metadata": {},
   "outputs": [
    {
     "data": {
      "text/plain": [
       "AnnData object with n_obs × n_vars = 90537 × 32285\n",
       "    obs: 'sample', 'genotype', 'group', 'file', 'batch', 'n_genes', 'doublet_scores', 'predicted_doublets'\n",
       "    var: 'gene_ids', 'feature_types', 'genome', 'modality'"
      ]
     },
     "execution_count": 7,
     "metadata": {},
     "output_type": "execute_result"
    }
   ],
   "source": [
    "adata"
   ]
  },
  {
   "cell_type": "code",
   "execution_count": 8,
   "metadata": {},
   "outputs": [
    {
     "data": {
      "text/plain": [
       "AnnData object with n_obs × n_vars = 90537 × 32285\n",
       "    obs: 'sample', 'genotype', 'group', 'file', 'batch', 'n_genes', 'doublet_scores', 'predicted_doublets'\n",
       "    var: 'gene_ids', 'feature_types', 'genome', 'modality'"
      ]
     },
     "execution_count": 8,
     "metadata": {},
     "output_type": "execute_result"
    }
   ],
   "source": [
    "sample_object = adata.copy()\n",
    "sample_object"
   ]
  },
  {
   "cell_type": "code",
   "execution_count": 9,
   "metadata": {},
   "outputs": [
    {
     "data": {
      "text/plain": [
       "(90537, 32285)"
      ]
     },
     "execution_count": 9,
     "metadata": {},
     "output_type": "execute_result"
    }
   ],
   "source": [
    "sample_object.shape"
   ]
  },
  {
   "attachments": {},
   "cell_type": "markdown",
   "metadata": {},
   "source": [
    "### Compute QC stats"
   ]
  },
  {
   "cell_type": "code",
   "execution_count": 10,
   "metadata": {},
   "outputs": [
    {
     "data": {
      "text/plain": [
       "(90537, 32285)"
      ]
     },
     "execution_count": 10,
     "metadata": {},
     "output_type": "execute_result"
    }
   ],
   "source": [
    "sample_object.shape"
   ]
  },
  {
   "cell_type": "code",
   "execution_count": 11,
   "metadata": {},
   "outputs": [
    {
     "data": {
      "text/html": [
       "<div>\n",
       "<style scoped>\n",
       "    .dataframe tbody tr th:only-of-type {\n",
       "        vertical-align: middle;\n",
       "    }\n",
       "\n",
       "    .dataframe tbody tr th {\n",
       "        vertical-align: top;\n",
       "    }\n",
       "\n",
       "    .dataframe thead th {\n",
       "        text-align: right;\n",
       "    }\n",
       "</style>\n",
       "<table border=\"1\" class=\"dataframe\">\n",
       "  <thead>\n",
       "    <tr style=\"text-align: right;\">\n",
       "      <th></th>\n",
       "      <th>gene_ids</th>\n",
       "      <th>feature_types</th>\n",
       "      <th>genome</th>\n",
       "      <th>modality</th>\n",
       "      <th>mt</th>\n",
       "      <th>ribo</th>\n",
       "    </tr>\n",
       "  </thead>\n",
       "  <tbody>\n",
       "    <tr>\n",
       "      <th>Xkr4</th>\n",
       "      <td>ENSMUSG00000051951</td>\n",
       "      <td>Gene Expression</td>\n",
       "      <td>mm10</td>\n",
       "      <td>GEX</td>\n",
       "      <td>False</td>\n",
       "      <td>False</td>\n",
       "    </tr>\n",
       "    <tr>\n",
       "      <th>Gm1992</th>\n",
       "      <td>ENSMUSG00000089699</td>\n",
       "      <td>Gene Expression</td>\n",
       "      <td>mm10</td>\n",
       "      <td>GEX</td>\n",
       "      <td>False</td>\n",
       "      <td>False</td>\n",
       "    </tr>\n",
       "    <tr>\n",
       "      <th>Gm19938</th>\n",
       "      <td>ENSMUSG00000102331</td>\n",
       "      <td>Gene Expression</td>\n",
       "      <td>mm10</td>\n",
       "      <td>GEX</td>\n",
       "      <td>False</td>\n",
       "      <td>False</td>\n",
       "    </tr>\n",
       "    <tr>\n",
       "      <th>Gm37381</th>\n",
       "      <td>ENSMUSG00000102343</td>\n",
       "      <td>Gene Expression</td>\n",
       "      <td>mm10</td>\n",
       "      <td>GEX</td>\n",
       "      <td>False</td>\n",
       "      <td>False</td>\n",
       "    </tr>\n",
       "    <tr>\n",
       "      <th>Rp1</th>\n",
       "      <td>ENSMUSG00000025900</td>\n",
       "      <td>Gene Expression</td>\n",
       "      <td>mm10</td>\n",
       "      <td>GEX</td>\n",
       "      <td>False</td>\n",
       "      <td>False</td>\n",
       "    </tr>\n",
       "    <tr>\n",
       "      <th>...</th>\n",
       "      <td>...</td>\n",
       "      <td>...</td>\n",
       "      <td>...</td>\n",
       "      <td>...</td>\n",
       "      <td>...</td>\n",
       "      <td>...</td>\n",
       "    </tr>\n",
       "    <tr>\n",
       "      <th>AC124606.1</th>\n",
       "      <td>ENSMUSG00000095523</td>\n",
       "      <td>Gene Expression</td>\n",
       "      <td>mm10</td>\n",
       "      <td>GEX</td>\n",
       "      <td>False</td>\n",
       "      <td>False</td>\n",
       "    </tr>\n",
       "    <tr>\n",
       "      <th>AC133095.2</th>\n",
       "      <td>ENSMUSG00000095475</td>\n",
       "      <td>Gene Expression</td>\n",
       "      <td>mm10</td>\n",
       "      <td>GEX</td>\n",
       "      <td>False</td>\n",
       "      <td>False</td>\n",
       "    </tr>\n",
       "    <tr>\n",
       "      <th>AC133095.1</th>\n",
       "      <td>ENSMUSG00000094855</td>\n",
       "      <td>Gene Expression</td>\n",
       "      <td>mm10</td>\n",
       "      <td>GEX</td>\n",
       "      <td>False</td>\n",
       "      <td>False</td>\n",
       "    </tr>\n",
       "    <tr>\n",
       "      <th>AC234645.1</th>\n",
       "      <td>ENSMUSG00000095019</td>\n",
       "      <td>Gene Expression</td>\n",
       "      <td>mm10</td>\n",
       "      <td>GEX</td>\n",
       "      <td>False</td>\n",
       "      <td>False</td>\n",
       "    </tr>\n",
       "    <tr>\n",
       "      <th>AC149090.1</th>\n",
       "      <td>ENSMUSG00000095041</td>\n",
       "      <td>Gene Expression</td>\n",
       "      <td>mm10</td>\n",
       "      <td>GEX</td>\n",
       "      <td>False</td>\n",
       "      <td>False</td>\n",
       "    </tr>\n",
       "  </tbody>\n",
       "</table>\n",
       "<p>32285 rows × 6 columns</p>\n",
       "</div>"
      ],
      "text/plain": [
       "                      gene_ids    feature_types genome modality     mt   ribo\n",
       "Xkr4        ENSMUSG00000051951  Gene Expression   mm10      GEX  False  False\n",
       "Gm1992      ENSMUSG00000089699  Gene Expression   mm10      GEX  False  False\n",
       "Gm19938     ENSMUSG00000102331  Gene Expression   mm10      GEX  False  False\n",
       "Gm37381     ENSMUSG00000102343  Gene Expression   mm10      GEX  False  False\n",
       "Rp1         ENSMUSG00000025900  Gene Expression   mm10      GEX  False  False\n",
       "...                        ...              ...    ...      ...    ...    ...\n",
       "AC124606.1  ENSMUSG00000095523  Gene Expression   mm10      GEX  False  False\n",
       "AC133095.2  ENSMUSG00000095475  Gene Expression   mm10      GEX  False  False\n",
       "AC133095.1  ENSMUSG00000094855  Gene Expression   mm10      GEX  False  False\n",
       "AC234645.1  ENSMUSG00000095019  Gene Expression   mm10      GEX  False  False\n",
       "AC149090.1  ENSMUSG00000095041  Gene Expression   mm10      GEX  False  False\n",
       "\n",
       "[32285 rows x 6 columns]"
      ]
     },
     "execution_count": 11,
     "metadata": {},
     "output_type": "execute_result"
    }
   ],
   "source": [
    "sample_object.var['mt'] = sample_object.var_names.str.startswith('mt-') \n",
    "sample_object.var['ribo'] = sample_object.var_names.str.startswith((\"Rps\",\"Rpl\"))\n",
    "sample_object.var"
   ]
  },
  {
   "cell_type": "code",
   "execution_count": 12,
   "metadata": {},
   "outputs": [],
   "source": [
    "sc.pp.calculate_qc_metrics(sample_object, qc_vars = ['mt','ribo'], percent_top = None, log1p = False, inplace = True)"
   ]
  },
  {
   "cell_type": "code",
   "execution_count": 13,
   "metadata": {},
   "outputs": [],
   "source": [
    "mito_genes = sample_object.var_names.str.startswith('mt-')\n",
    "sample_object.obs['percent_mt2'] = np.sum(\n",
    "    sample_object[:, mito_genes].X, axis = 1) / np.sum(sample_object.X, axis = 1)\n",
    "sample_object.obs['n_counts'] = sample_object.X.sum(axis = 1)"
   ]
  },
  {
   "cell_type": "code",
   "execution_count": 14,
   "metadata": {},
   "outputs": [
    {
     "data": {
      "text/plain": [
       "AnnData object with n_obs × n_vars = 90537 × 32285\n",
       "    obs: 'sample', 'genotype', 'group', 'file', 'batch', 'n_genes', 'doublet_scores', 'predicted_doublets', 'n_genes_by_counts', 'total_counts', 'total_counts_mt', 'pct_counts_mt', 'total_counts_ribo', 'pct_counts_ribo', 'percent_mt2', 'n_counts'\n",
       "    var: 'gene_ids', 'feature_types', 'genome', 'modality', 'mt', 'ribo', 'n_cells_by_counts', 'mean_counts', 'pct_dropout_by_counts', 'total_counts'"
      ]
     },
     "execution_count": 14,
     "metadata": {},
     "output_type": "execute_result"
    }
   ],
   "source": [
    "sample_object"
   ]
  },
  {
   "attachments": {},
   "cell_type": "markdown",
   "metadata": {},
   "source": [
    "### Visualise QC covariates"
   ]
  },
  {
   "cell_type": "code",
   "execution_count": 15,
   "metadata": {},
   "outputs": [
    {
     "data": {
      "text/plain": [
       "Index(['Xkr4', 'Gm1992', 'Gm19938', 'Gm37381', 'Rp1', 'Sox17', 'Gm37587',\n",
       "       'Gm37323', 'Mrpl15', 'Lypla1',\n",
       "       ...\n",
       "       'Gm16367', 'AC163611.1', 'AC163611.2', 'AC140365.1', 'AC124606.2',\n",
       "       'AC124606.1', 'AC133095.2', 'AC133095.1', 'AC234645.1', 'AC149090.1'],\n",
       "      dtype='object', length=32285)"
      ]
     },
     "execution_count": 15,
     "metadata": {},
     "output_type": "execute_result"
    }
   ],
   "source": [
    "sample_object.var_names"
   ]
  },
  {
   "cell_type": "code",
   "execution_count": 16,
   "metadata": {},
   "outputs": [
    {
     "name": "stderr",
     "output_type": "stream",
     "text": [
      "/home/ceger/miniforge3/envs/heart_multiome-env/lib/python3.10/site-packages/scanpy/plotting/_anndata.py:839: FutureWarning: \n",
      "\n",
      "Passing `palette` without assigning `hue` is deprecated and will be removed in v0.14.0. Assign the `x` variable to `hue` and set `legend=False` for the same effect.\n",
      "\n",
      "  ax = sns.violinplot(\n",
      "/home/ceger/miniforge3/envs/heart_multiome-env/lib/python3.10/site-packages/scanpy/plotting/_anndata.py:839: FutureWarning: \n",
      "\n",
      "The `scale` parameter has been renamed and will be removed in v0.15.0. Pass `density_norm='width'` for the same effect.\n",
      "  ax = sns.violinplot(\n",
      "/home/ceger/miniforge3/envs/heart_multiome-env/lib/python3.10/site-packages/scanpy/plotting/_anndata.py:839: FutureWarning: \n",
      "\n",
      "Passing `palette` without assigning `hue` is deprecated and will be removed in v0.14.0. Assign the `x` variable to `hue` and set `legend=False` for the same effect.\n",
      "\n",
      "  ax = sns.violinplot(\n",
      "/home/ceger/miniforge3/envs/heart_multiome-env/lib/python3.10/site-packages/scanpy/plotting/_anndata.py:839: FutureWarning: \n",
      "\n",
      "The `scale` parameter has been renamed and will be removed in v0.15.0. Pass `density_norm='width'` for the same effect.\n",
      "  ax = sns.violinplot(\n",
      "/home/ceger/miniforge3/envs/heart_multiome-env/lib/python3.10/site-packages/scanpy/plotting/_anndata.py:839: FutureWarning: \n",
      "\n",
      "Passing `palette` without assigning `hue` is deprecated and will be removed in v0.14.0. Assign the `x` variable to `hue` and set `legend=False` for the same effect.\n",
      "\n",
      "  ax = sns.violinplot(\n",
      "/home/ceger/miniforge3/envs/heart_multiome-env/lib/python3.10/site-packages/scanpy/plotting/_anndata.py:839: FutureWarning: \n",
      "\n",
      "The `scale` parameter has been renamed and will be removed in v0.15.0. Pass `density_norm='width'` for the same effect.\n",
      "  ax = sns.violinplot(\n",
      "/home/ceger/miniforge3/envs/heart_multiome-env/lib/python3.10/site-packages/scanpy/plotting/_anndata.py:839: FutureWarning: \n",
      "\n",
      "Passing `palette` without assigning `hue` is deprecated and will be removed in v0.14.0. Assign the `x` variable to `hue` and set `legend=False` for the same effect.\n",
      "\n",
      "  ax = sns.violinplot(\n",
      "/home/ceger/miniforge3/envs/heart_multiome-env/lib/python3.10/site-packages/scanpy/plotting/_anndata.py:839: FutureWarning: \n",
      "\n",
      "The `scale` parameter has been renamed and will be removed in v0.15.0. Pass `density_norm='width'` for the same effect.\n",
      "  ax = sns.violinplot(\n"
     ]
    }
   ],
   "source": [
    "sc.pl.violin(sample_object, ['n_genes_by_counts', 'total_counts', 'pct_counts_mt','pct_counts_ribo'],\n",
    "             jitter = 0.1, groupby = 'sample', rotation = 45)"
   ]
  },
  {
   "cell_type": "code",
   "execution_count": 17,
   "metadata": {},
   "outputs": [],
   "source": [
    "sc.pl.scatter(sample_object, x = 'total_counts', y = 'pct_counts_mt', color = \"sample\")"
   ]
  },
  {
   "attachments": {},
   "cell_type": "markdown",
   "metadata": {},
   "source": [
    "### Add sample sex covariate"
   ]
  },
  {
   "cell_type": "code",
   "execution_count": 18,
   "metadata": {},
   "outputs": [],
   "source": [
    "annot = sc.queries.biomart_annotations(\n",
    "        \"mmusculus\",\n",
    "        [\"ensembl_gene_id\", \"external_gene_name\", \"start_position\", \"end_position\", \"chromosome_name\"],\n",
    "    ).set_index(\"external_gene_name\")"
   ]
  },
  {
   "cell_type": "code",
   "execution_count": 19,
   "metadata": {},
   "outputs": [
    {
     "data": {
      "text/html": [
       "<div>\n",
       "<style scoped>\n",
       "    .dataframe tbody tr th:only-of-type {\n",
       "        vertical-align: middle;\n",
       "    }\n",
       "\n",
       "    .dataframe tbody tr th {\n",
       "        vertical-align: top;\n",
       "    }\n",
       "\n",
       "    .dataframe thead th {\n",
       "        text-align: right;\n",
       "    }\n",
       "</style>\n",
       "<table border=\"1\" class=\"dataframe\">\n",
       "  <thead>\n",
       "    <tr style=\"text-align: right;\">\n",
       "      <th></th>\n",
       "      <th>ensembl_gene_id</th>\n",
       "      <th>start_position</th>\n",
       "      <th>end_position</th>\n",
       "      <th>chromosome_name</th>\n",
       "    </tr>\n",
       "    <tr>\n",
       "      <th>external_gene_name</th>\n",
       "      <th></th>\n",
       "      <th></th>\n",
       "      <th></th>\n",
       "      <th></th>\n",
       "    </tr>\n",
       "  </thead>\n",
       "  <tbody>\n",
       "    <tr>\n",
       "      <th>mt-Tf</th>\n",
       "      <td>ENSMUSG00000064336</td>\n",
       "      <td>1</td>\n",
       "      <td>68</td>\n",
       "      <td>MT</td>\n",
       "    </tr>\n",
       "    <tr>\n",
       "      <th>mt-Rnr1</th>\n",
       "      <td>ENSMUSG00000064337</td>\n",
       "      <td>70</td>\n",
       "      <td>1024</td>\n",
       "      <td>MT</td>\n",
       "    </tr>\n",
       "    <tr>\n",
       "      <th>mt-Tv</th>\n",
       "      <td>ENSMUSG00000064338</td>\n",
       "      <td>1025</td>\n",
       "      <td>1093</td>\n",
       "      <td>MT</td>\n",
       "    </tr>\n",
       "    <tr>\n",
       "      <th>mt-Rnr2</th>\n",
       "      <td>ENSMUSG00000064339</td>\n",
       "      <td>1094</td>\n",
       "      <td>2675</td>\n",
       "      <td>MT</td>\n",
       "    </tr>\n",
       "    <tr>\n",
       "      <th>mt-Tl1</th>\n",
       "      <td>ENSMUSG00000064340</td>\n",
       "      <td>2676</td>\n",
       "      <td>2750</td>\n",
       "      <td>MT</td>\n",
       "    </tr>\n",
       "  </tbody>\n",
       "</table>\n",
       "</div>"
      ],
      "text/plain": [
       "                       ensembl_gene_id  start_position  end_position  \\\n",
       "external_gene_name                                                     \n",
       "mt-Tf               ENSMUSG00000064336               1            68   \n",
       "mt-Rnr1             ENSMUSG00000064337              70          1024   \n",
       "mt-Tv               ENSMUSG00000064338            1025          1093   \n",
       "mt-Rnr2             ENSMUSG00000064339            1094          2675   \n",
       "mt-Tl1              ENSMUSG00000064340            2676          2750   \n",
       "\n",
       "                   chromosome_name  \n",
       "external_gene_name                  \n",
       "mt-Tf                           MT  \n",
       "mt-Rnr1                         MT  \n",
       "mt-Tv                           MT  \n",
       "mt-Rnr2                         MT  \n",
       "mt-Tl1                          MT  "
      ]
     },
     "execution_count": 19,
     "metadata": {},
     "output_type": "execute_result"
    }
   ],
   "source": [
    "annot.head()"
   ]
  },
  {
   "cell_type": "code",
   "execution_count": 20,
   "metadata": {},
   "outputs": [
    {
     "data": {
      "text/plain": [
       "Index(['Gm29089', 'Zfy1', 'Uba1y', 'Gm28588', 'Gm28587', 'Kdm5d', 'Eif2s3y',\n",
       "       'Gm29650', 'Uty', 'Ddx3y',\n",
       "       ...\n",
       "       'Gm28672', 'Gm28670', 'Gm28673', 'Gm28674', 'Gm21996', 'Gm28930',\n",
       "       'Gm29504', 'Gm20837', 'Gm28300', 'Gm28301'],\n",
       "      dtype='object', length=719)"
      ]
     },
     "execution_count": 20,
     "metadata": {},
     "output_type": "execute_result"
    }
   ],
   "source": [
    "chrY_genes = sample_object.var_names.intersection(annot.index[annot.chromosome_name == \"Y\"])\n",
    "chrY_genes"
   ]
  },
  {
   "cell_type": "code",
   "execution_count": 21,
   "metadata": {},
   "outputs": [],
   "source": [
    "sample_object.obs['percent_chrY'] = np.sum(\n",
    "    sample_object[:, chrY_genes].X, axis = 1) / np.sum(sample_object.X, axis = 1) * 100"
   ]
  },
  {
   "cell_type": "code",
   "execution_count": 22,
   "metadata": {},
   "outputs": [],
   "source": [
    "xist_counts = sample_object.X[:, sample_object.var_names.str.match('Xist')].toarray()\n",
    "xist_counts_series = pd.Series(xist_counts.squeeze(), index = sample_object.obs_names, name = \"XIST-counts\")\n",
    "sample_object.obs[\"XIST-counts\"] = xist_counts_series\n",
    "\n",
    "sc.pl.scatter(sample_object, x = 'XIST-counts', y = 'percent_chrY', color = \"sample\")"
   ]
  },
  {
   "cell_type": "code",
   "execution_count": 23,
   "metadata": {},
   "outputs": [
    {
     "name": "stderr",
     "output_type": "stream",
     "text": [
      "/home/ceger/miniforge3/envs/heart_multiome-env/lib/python3.10/site-packages/scanpy/plotting/_anndata.py:839: FutureWarning: \n",
      "\n",
      "Passing `palette` without assigning `hue` is deprecated and will be removed in v0.14.0. Assign the `x` variable to `hue` and set `legend=False` for the same effect.\n",
      "\n",
      "  ax = sns.violinplot(\n",
      "/home/ceger/miniforge3/envs/heart_multiome-env/lib/python3.10/site-packages/scanpy/plotting/_anndata.py:839: FutureWarning: \n",
      "\n",
      "The `scale` parameter has been renamed and will be removed in v0.15.0. Pass `density_norm='width'` for the same effect.\n",
      "  ax = sns.violinplot(\n",
      "/home/ceger/miniforge3/envs/heart_multiome-env/lib/python3.10/site-packages/scanpy/plotting/_anndata.py:839: FutureWarning: \n",
      "\n",
      "Passing `palette` without assigning `hue` is deprecated and will be removed in v0.14.0. Assign the `x` variable to `hue` and set `legend=False` for the same effect.\n",
      "\n",
      "  ax = sns.violinplot(\n",
      "/home/ceger/miniforge3/envs/heart_multiome-env/lib/python3.10/site-packages/scanpy/plotting/_anndata.py:839: FutureWarning: \n",
      "\n",
      "The `scale` parameter has been renamed and will be removed in v0.15.0. Pass `density_norm='width'` for the same effect.\n",
      "  ax = sns.violinplot(\n"
     ]
    }
   ],
   "source": [
    "sc.pl.violin(sample_object, [\"XIST-counts\", \"percent_chrY\"], jitter = 0.4, groupby = 'sample', rotation = 45)"
   ]
  },
  {
   "attachments": {},
   "cell_type": "markdown",
   "metadata": {},
   "source": [
    "### Calculate cell cycle scores"
   ]
  },
  {
   "cell_type": "code",
   "execution_count": 24,
   "metadata": {},
   "outputs": [],
   "source": [
    "!if [ ! -f ../data/regev_lab_cell_cycle_genes.txt ]; then curl -o ../data/regev_lab_cell_cycle_genes.txt https://raw.githubusercontent.com/theislab/scanpy_usage/master/180209_cell_cycle/data/regev_lab_cell_cycle_genes.txt; fi"
   ]
  },
  {
   "cell_type": "code",
   "execution_count": 25,
   "metadata": {},
   "outputs": [
    {
     "name": "stdout",
     "output_type": "stream",
     "text": [
      "97\n",
      "94\n"
     ]
    }
   ],
   "source": [
    "cell_cycle_genes = [x.strip() for x in open('../data/regev_lab_cell_cycle_genes.txt')]\n",
    "cell_cycle_genes = [gene.capitalize() for gene in cell_cycle_genes]\n",
    "print(len(cell_cycle_genes))\n",
    "\n",
    "# Split into 2 lists\n",
    "s_genes = cell_cycle_genes[:43]\n",
    "g2m_genes = cell_cycle_genes[43:]\n",
    "\n",
    "cell_cycle_genes = [x for x in cell_cycle_genes if x in sample_object.var_names]\n",
    "print(len(cell_cycle_genes))"
   ]
  },
  {
   "attachments": {},
   "cell_type": "markdown",
   "metadata": {},
   "source": [
    "- Create basic `anndata` for score calculation"
   ]
  },
  {
   "cell_type": "code",
   "execution_count": 26,
   "metadata": {},
   "outputs": [
    {
     "name": "stdout",
     "output_type": "stream",
     "text": [
      "normalizing counts per cell The following highly-expressed genes are not considered during normalization factor computation:\n",
      "['Fhl2', 'Plcl1', 'Erbb4', 'Igfbp5', 'Tnnt2', 'Camk1d', 'Gsn', 'Xirp2', 'Ttn', 'Gm10800', 'Cst3', 'Mecom', 'Pdlim5', 'Gm12381', 'Ccl21a', 'Ptprd', 'Nppa', 'Pcdh7', 'Spp1', 'Atp2a2', 'Eln', 'Kcnd2', 'Igkc', 'Cacna1c', 'Mgp', 'Gab2', 'Hbb-bt', 'Hbb-bs', 'Csmd1', 'Dlc1', 'Sorbs2', 'Tpm1', 'Ngp', 'Lars2', 'Grm1', 'Nkain2', 'Ctnna3', 'Dcn', 'Hba-a1', 'Hba-a2', 'Myocd', 'Rgs6', 'Meg3', 'Rian', 'Ighg2c', 'Ighg2b', 'Ighm', 'Ryr2', 'Pde4d', 'Arl15', 'Dnah12', 'Myh6', 'Pcdh9', 'Dach1', 'Gpc6', 'Rbfox1', 'Zbtb20', 'Cmss1', 'Gm26917', 'Gm42418', 'AY036118', 'Slc8a1', 'Fhod3', 'Cd74', 'Malat1', 'Scgb1a1', 'Prkg1', 'Sorbs1', 'Fgf13', 'Dmd', 'Xist', 'Pcdh11x', 'mt-Nd1', 'mt-Nd2', 'mt-Co1', 'mt-Co2', 'mt-Atp6', 'mt-Co3', 'mt-Nd3', 'mt-Nd4', 'mt-Cytb']\n",
      "    finished (0:00:00)\n"
     ]
    }
   ],
   "source": [
    "adata_log = anndata.AnnData(X = sample_object.X,  var = sample_object.var, obs = sample_object.obs)\n",
    "sc.pp.normalize_total(adata_log, target_sum = 1e6, exclude_highly_expressed = True)\n",
    "sc.pp.log1p(adata_log)"
   ]
  },
  {
   "cell_type": "code",
   "execution_count": 27,
   "metadata": {},
   "outputs": [
    {
     "name": "stdout",
     "output_type": "stream",
     "text": [
      "calculating cell cycle phase\n",
      "computing score 'S_score'\n",
      "WARNING: genes are not in var_names and ignored: ['Mlf1ip']\n",
      "    finished: added\n",
      "    'S_score', score of gene set (adata.obs).\n",
      "    473 total control genes are used. (0:00:00)\n",
      "computing score 'G2M_score'\n",
      "WARNING: genes are not in var_names and ignored: ['Fam64a', 'Hn1']\n",
      "    finished: added\n",
      "    'G2M_score', score of gene set (adata.obs).\n",
      "    513 total control genes are used. (0:00:00)\n",
      "-->     'phase', cell cycle phase (adata.obs)\n"
     ]
    },
    {
     "name": "stderr",
     "output_type": "stream",
     "text": [
      "/home/ceger/miniforge3/envs/heart_multiome-env/lib/python3.10/site-packages/scanpy/plotting/_anndata.py:839: FutureWarning: \n",
      "\n",
      "Passing `palette` without assigning `hue` is deprecated and will be removed in v0.14.0. Assign the `x` variable to `hue` and set `legend=False` for the same effect.\n",
      "\n",
      "  ax = sns.violinplot(\n",
      "/home/ceger/miniforge3/envs/heart_multiome-env/lib/python3.10/site-packages/scanpy/plotting/_anndata.py:839: FutureWarning: \n",
      "\n",
      "The `scale` parameter has been renamed and will be removed in v0.15.0. Pass `density_norm='width'` for the same effect.\n",
      "  ax = sns.violinplot(\n",
      "/home/ceger/miniforge3/envs/heart_multiome-env/lib/python3.10/site-packages/scanpy/plotting/_anndata.py:839: FutureWarning: \n",
      "\n",
      "Passing `palette` without assigning `hue` is deprecated and will be removed in v0.14.0. Assign the `x` variable to `hue` and set `legend=False` for the same effect.\n",
      "\n",
      "  ax = sns.violinplot(\n",
      "/home/ceger/miniforge3/envs/heart_multiome-env/lib/python3.10/site-packages/scanpy/plotting/_anndata.py:839: FutureWarning: \n",
      "\n",
      "The `scale` parameter has been renamed and will be removed in v0.15.0. Pass `density_norm='width'` for the same effect.\n",
      "  ax = sns.violinplot(\n"
     ]
    }
   ],
   "source": [
    "sc.tl.score_genes_cell_cycle(adata_log, s_genes = s_genes, g2m_genes = g2m_genes)\n",
    "sc.pl.violin(adata_log, ['S_score', 'G2M_score'],\n",
    "             jitter = 0.4, groupby = 'sample', rotation = 45)"
   ]
  },
  {
   "cell_type": "code",
   "execution_count": 28,
   "metadata": {},
   "outputs": [
    {
     "data": {
      "text/plain": [
       "AnnData object with n_obs × n_vars = 90537 × 32285\n",
       "    obs: 'sample', 'genotype', 'group', 'file', 'batch', 'n_genes', 'doublet_scores', 'predicted_doublets', 'n_genes_by_counts', 'total_counts', 'total_counts_mt', 'pct_counts_mt', 'total_counts_ribo', 'pct_counts_ribo', 'percent_mt2', 'n_counts', 'percent_chrY', 'XIST-counts', 'S_score', 'G2M_score'\n",
       "    var: 'gene_ids', 'feature_types', 'genome', 'modality', 'mt', 'ribo', 'n_cells_by_counts', 'mean_counts', 'pct_dropout_by_counts', 'total_counts'\n",
       "    uns: 'sample_colors'"
      ]
     },
     "execution_count": 28,
     "metadata": {},
     "output_type": "execute_result"
    }
   ],
   "source": [
    "sample_object.obs['S_score'] = adata_log.obs['S_score']\n",
    "sample_object.obs['G2M_score'] = adata_log.obs['G2M_score']\n",
    "sample_object"
   ]
  },
  {
   "cell_type": "code",
   "execution_count": 29,
   "metadata": {},
   "outputs": [
    {
     "name": "stderr",
     "output_type": "stream",
     "text": [
      "/home/ceger/miniforge3/envs/heart_multiome-env/lib/python3.10/site-packages/scanpy/plotting/_anndata.py:839: FutureWarning: \n",
      "\n",
      "Passing `palette` without assigning `hue` is deprecated and will be removed in v0.14.0. Assign the `x` variable to `hue` and set `legend=False` for the same effect.\n",
      "\n",
      "  ax = sns.violinplot(\n",
      "/home/ceger/miniforge3/envs/heart_multiome-env/lib/python3.10/site-packages/scanpy/plotting/_anndata.py:839: FutureWarning: \n",
      "\n",
      "The `scale` parameter has been renamed and will be removed in v0.15.0. Pass `density_norm='width'` for the same effect.\n",
      "  ax = sns.violinplot(\n",
      "/home/ceger/miniforge3/envs/heart_multiome-env/lib/python3.10/site-packages/scanpy/plotting/_anndata.py:839: FutureWarning: \n",
      "\n",
      "Passing `palette` without assigning `hue` is deprecated and will be removed in v0.14.0. Assign the `x` variable to `hue` and set `legend=False` for the same effect.\n",
      "\n",
      "  ax = sns.violinplot(\n",
      "/home/ceger/miniforge3/envs/heart_multiome-env/lib/python3.10/site-packages/scanpy/plotting/_anndata.py:839: FutureWarning: \n",
      "\n",
      "The `scale` parameter has been renamed and will be removed in v0.15.0. Pass `density_norm='width'` for the same effect.\n",
      "  ax = sns.violinplot(\n",
      "/home/ceger/miniforge3/envs/heart_multiome-env/lib/python3.10/site-packages/scanpy/plotting/_anndata.py:839: FutureWarning: \n",
      "\n",
      "Passing `palette` without assigning `hue` is deprecated and will be removed in v0.14.0. Assign the `x` variable to `hue` and set `legend=False` for the same effect.\n",
      "\n",
      "  ax = sns.violinplot(\n",
      "/home/ceger/miniforge3/envs/heart_multiome-env/lib/python3.10/site-packages/scanpy/plotting/_anndata.py:839: FutureWarning: \n",
      "\n",
      "The `scale` parameter has been renamed and will be removed in v0.15.0. Pass `density_norm='width'` for the same effect.\n",
      "  ax = sns.violinplot(\n",
      "/home/ceger/miniforge3/envs/heart_multiome-env/lib/python3.10/site-packages/scanpy/plotting/_anndata.py:839: FutureWarning: \n",
      "\n",
      "Passing `palette` without assigning `hue` is deprecated and will be removed in v0.14.0. Assign the `x` variable to `hue` and set `legend=False` for the same effect.\n",
      "\n",
      "  ax = sns.violinplot(\n",
      "/home/ceger/miniforge3/envs/heart_multiome-env/lib/python3.10/site-packages/scanpy/plotting/_anndata.py:839: FutureWarning: \n",
      "\n",
      "The `scale` parameter has been renamed and will be removed in v0.15.0. Pass `density_norm='width'` for the same effect.\n",
      "  ax = sns.violinplot(\n",
      "/home/ceger/miniforge3/envs/heart_multiome-env/lib/python3.10/site-packages/scanpy/plotting/_anndata.py:839: FutureWarning: \n",
      "\n",
      "Passing `palette` without assigning `hue` is deprecated and will be removed in v0.14.0. Assign the `x` variable to `hue` and set `legend=False` for the same effect.\n",
      "\n",
      "  ax = sns.violinplot(\n",
      "/home/ceger/miniforge3/envs/heart_multiome-env/lib/python3.10/site-packages/scanpy/plotting/_anndata.py:839: FutureWarning: \n",
      "\n",
      "The `scale` parameter has been renamed and will be removed in v0.15.0. Pass `density_norm='width'` for the same effect.\n",
      "  ax = sns.violinplot(\n"
     ]
    }
   ],
   "source": [
    "sc.pl.violin(sample_object, ['n_genes_by_counts', 'total_counts', 'pct_counts_mt','pct_counts_ribo', 'doublet_scores'],\n",
    "             jitter = 0.2, groupby = 'sample', rotation = 45)"
   ]
  },
  {
   "cell_type": "code",
   "execution_count": 30,
   "metadata": {},
   "outputs": [
    {
     "name": "stderr",
     "output_type": "stream",
     "text": [
      "/home/ceger/miniforge3/envs/heart_multiome-env/lib/python3.10/site-packages/scanpy/plotting/_anndata.py:839: FutureWarning: \n",
      "\n",
      "Passing `palette` without assigning `hue` is deprecated and will be removed in v0.14.0. Assign the `x` variable to `hue` and set `legend=False` for the same effect.\n",
      "\n",
      "  ax = sns.violinplot(\n",
      "/home/ceger/miniforge3/envs/heart_multiome-env/lib/python3.10/site-packages/scanpy/plotting/_anndata.py:839: FutureWarning: \n",
      "\n",
      "The `scale` parameter has been renamed and will be removed in v0.15.0. Pass `density_norm='width'` for the same effect.\n",
      "  ax = sns.violinplot(\n",
      "/home/ceger/miniforge3/envs/heart_multiome-env/lib/python3.10/site-packages/scanpy/plotting/_anndata.py:839: FutureWarning: \n",
      "\n",
      "Passing `palette` without assigning `hue` is deprecated and will be removed in v0.14.0. Assign the `x` variable to `hue` and set `legend=False` for the same effect.\n",
      "\n",
      "  ax = sns.violinplot(\n",
      "/home/ceger/miniforge3/envs/heart_multiome-env/lib/python3.10/site-packages/scanpy/plotting/_anndata.py:839: FutureWarning: \n",
      "\n",
      "The `scale` parameter has been renamed and will be removed in v0.15.0. Pass `density_norm='width'` for the same effect.\n",
      "  ax = sns.violinplot(\n",
      "/home/ceger/miniforge3/envs/heart_multiome-env/lib/python3.10/site-packages/scanpy/plotting/_anndata.py:839: FutureWarning: \n",
      "\n",
      "Passing `palette` without assigning `hue` is deprecated and will be removed in v0.14.0. Assign the `x` variable to `hue` and set `legend=False` for the same effect.\n",
      "\n",
      "  ax = sns.violinplot(\n",
      "/home/ceger/miniforge3/envs/heart_multiome-env/lib/python3.10/site-packages/scanpy/plotting/_anndata.py:839: FutureWarning: \n",
      "\n",
      "The `scale` parameter has been renamed and will be removed in v0.15.0. Pass `density_norm='width'` for the same effect.\n",
      "  ax = sns.violinplot(\n",
      "/home/ceger/miniforge3/envs/heart_multiome-env/lib/python3.10/site-packages/scanpy/plotting/_anndata.py:839: FutureWarning: \n",
      "\n",
      "Passing `palette` without assigning `hue` is deprecated and will be removed in v0.14.0. Assign the `x` variable to `hue` and set `legend=False` for the same effect.\n",
      "\n",
      "  ax = sns.violinplot(\n",
      "/home/ceger/miniforge3/envs/heart_multiome-env/lib/python3.10/site-packages/scanpy/plotting/_anndata.py:839: FutureWarning: \n",
      "\n",
      "The `scale` parameter has been renamed and will be removed in v0.15.0. Pass `density_norm='width'` for the same effect.\n",
      "  ax = sns.violinplot(\n",
      "/home/ceger/miniforge3/envs/heart_multiome-env/lib/python3.10/site-packages/scanpy/plotting/_anndata.py:839: FutureWarning: \n",
      "\n",
      "Passing `palette` without assigning `hue` is deprecated and will be removed in v0.14.0. Assign the `x` variable to `hue` and set `legend=False` for the same effect.\n",
      "\n",
      "  ax = sns.violinplot(\n",
      "/home/ceger/miniforge3/envs/heart_multiome-env/lib/python3.10/site-packages/scanpy/plotting/_anndata.py:839: FutureWarning: \n",
      "\n",
      "The `scale` parameter has been renamed and will be removed in v0.15.0. Pass `density_norm='width'` for the same effect.\n",
      "  ax = sns.violinplot(\n",
      "/home/ceger/miniforge3/envs/heart_multiome-env/lib/python3.10/site-packages/scanpy/plotting/_anndata.py:839: FutureWarning: \n",
      "\n",
      "Passing `palette` without assigning `hue` is deprecated and will be removed in v0.14.0. Assign the `x` variable to `hue` and set `legend=False` for the same effect.\n",
      "\n",
      "  ax = sns.violinplot(\n",
      "/home/ceger/miniforge3/envs/heart_multiome-env/lib/python3.10/site-packages/scanpy/plotting/_anndata.py:839: FutureWarning: \n",
      "\n",
      "The `scale` parameter has been renamed and will be removed in v0.15.0. Pass `density_norm='width'` for the same effect.\n",
      "  ax = sns.violinplot(\n",
      "/home/ceger/miniforge3/envs/heart_multiome-env/lib/python3.10/site-packages/scanpy/plotting/_anndata.py:839: FutureWarning: \n",
      "\n",
      "Passing `palette` without assigning `hue` is deprecated and will be removed in v0.14.0. Assign the `x` variable to `hue` and set `legend=False` for the same effect.\n",
      "\n",
      "  ax = sns.violinplot(\n",
      "/home/ceger/miniforge3/envs/heart_multiome-env/lib/python3.10/site-packages/scanpy/plotting/_anndata.py:839: FutureWarning: \n",
      "\n",
      "The `scale` parameter has been renamed and will be removed in v0.15.0. Pass `density_norm='width'` for the same effect.\n",
      "  ax = sns.violinplot(\n"
     ]
    }
   ],
   "source": [
    "sc.pl.violin(sample_object, [ 'total_counts', 'n_genes_by_counts', 'pct_counts_mt', 'pct_counts_ribo', 'doublet_scores', 'G2M_score', 'S_score'],\n",
    "             jitter = 0.2, groupby = 'sample', rotation = 45)"
   ]
  },
  {
   "cell_type": "markdown",
   "metadata": {},
   "source": [
    "### Remove cells based on QC metrics"
   ]
  },
  {
   "cell_type": "code",
   "execution_count": 31,
   "metadata": {},
   "outputs": [
    {
     "data": {
      "text/plain": [
       "View of AnnData object with n_obs × n_vars = 46135 × 32285\n",
       "    obs: 'sample', 'genotype', 'group', 'file', 'batch', 'n_genes', 'doublet_scores', 'predicted_doublets', 'n_genes_by_counts', 'total_counts', 'total_counts_mt', 'pct_counts_mt', 'total_counts_ribo', 'pct_counts_ribo', 'percent_mt2', 'n_counts', 'percent_chrY', 'XIST-counts', 'S_score', 'G2M_score'\n",
       "    var: 'gene_ids', 'feature_types', 'genome', 'modality', 'mt', 'ribo', 'n_cells_by_counts', 'mean_counts', 'pct_dropout_by_counts', 'total_counts'\n",
       "    uns: 'sample_colors'"
      ]
     },
     "execution_count": 31,
     "metadata": {},
     "output_type": "execute_result"
    }
   ],
   "source": [
    "sample_object = sample_object[sample_object.obs['n_genes'] > 500]\n",
    "sample_object = sample_object[sample_object.obs['n_genes'] < 5000]\n",
    "\n",
    "sample_object = sample_object[sample_object.obs['total_counts'] > 500]\n",
    "sample_object = sample_object[sample_object.obs['total_counts'] < 30000]\n",
    "\n",
    "sample_object = sample_object[sample_object.obs['pct_counts_mt'] < 20]\n",
    "sample_object = sample_object[sample_object.obs['pct_counts_ribo'] < 10]\n",
    "\n",
    "sample_object = sample_object[sample_object.obs['doublet_scores'] < 0.6]\n",
    "\n",
    "sample_object"
   ]
  },
  {
   "cell_type": "code",
   "execution_count": 32,
   "metadata": {},
   "outputs": [
    {
     "name": "stderr",
     "output_type": "stream",
     "text": [
      "/home/ceger/miniforge3/envs/heart_multiome-env/lib/python3.10/site-packages/scanpy/plotting/_anndata.py:839: FutureWarning: \n",
      "\n",
      "Passing `palette` without assigning `hue` is deprecated and will be removed in v0.14.0. Assign the `x` variable to `hue` and set `legend=False` for the same effect.\n",
      "\n",
      "  ax = sns.violinplot(\n",
      "/home/ceger/miniforge3/envs/heart_multiome-env/lib/python3.10/site-packages/scanpy/plotting/_anndata.py:839: FutureWarning: \n",
      "\n",
      "The `scale` parameter has been renamed and will be removed in v0.15.0. Pass `density_norm='width'` for the same effect.\n",
      "  ax = sns.violinplot(\n",
      "/home/ceger/miniforge3/envs/heart_multiome-env/lib/python3.10/site-packages/scanpy/plotting/_anndata.py:839: FutureWarning: \n",
      "\n",
      "Passing `palette` without assigning `hue` is deprecated and will be removed in v0.14.0. Assign the `x` variable to `hue` and set `legend=False` for the same effect.\n",
      "\n",
      "  ax = sns.violinplot(\n",
      "/home/ceger/miniforge3/envs/heart_multiome-env/lib/python3.10/site-packages/scanpy/plotting/_anndata.py:839: FutureWarning: \n",
      "\n",
      "The `scale` parameter has been renamed and will be removed in v0.15.0. Pass `density_norm='width'` for the same effect.\n",
      "  ax = sns.violinplot(\n",
      "/home/ceger/miniforge3/envs/heart_multiome-env/lib/python3.10/site-packages/scanpy/plotting/_anndata.py:839: FutureWarning: \n",
      "\n",
      "Passing `palette` without assigning `hue` is deprecated and will be removed in v0.14.0. Assign the `x` variable to `hue` and set `legend=False` for the same effect.\n",
      "\n",
      "  ax = sns.violinplot(\n",
      "/home/ceger/miniforge3/envs/heart_multiome-env/lib/python3.10/site-packages/scanpy/plotting/_anndata.py:839: FutureWarning: \n",
      "\n",
      "The `scale` parameter has been renamed and will be removed in v0.15.0. Pass `density_norm='width'` for the same effect.\n",
      "  ax = sns.violinplot(\n",
      "/home/ceger/miniforge3/envs/heart_multiome-env/lib/python3.10/site-packages/scanpy/plotting/_anndata.py:839: FutureWarning: \n",
      "\n",
      "Passing `palette` without assigning `hue` is deprecated and will be removed in v0.14.0. Assign the `x` variable to `hue` and set `legend=False` for the same effect.\n",
      "\n",
      "  ax = sns.violinplot(\n",
      "/home/ceger/miniforge3/envs/heart_multiome-env/lib/python3.10/site-packages/scanpy/plotting/_anndata.py:839: FutureWarning: \n",
      "\n",
      "The `scale` parameter has been renamed and will be removed in v0.15.0. Pass `density_norm='width'` for the same effect.\n",
      "  ax = sns.violinplot(\n",
      "/home/ceger/miniforge3/envs/heart_multiome-env/lib/python3.10/site-packages/scanpy/plotting/_anndata.py:839: FutureWarning: \n",
      "\n",
      "Passing `palette` without assigning `hue` is deprecated and will be removed in v0.14.0. Assign the `x` variable to `hue` and set `legend=False` for the same effect.\n",
      "\n",
      "  ax = sns.violinplot(\n",
      "/home/ceger/miniforge3/envs/heart_multiome-env/lib/python3.10/site-packages/scanpy/plotting/_anndata.py:839: FutureWarning: \n",
      "\n",
      "The `scale` parameter has been renamed and will be removed in v0.15.0. Pass `density_norm='width'` for the same effect.\n",
      "  ax = sns.violinplot(\n",
      "/home/ceger/miniforge3/envs/heart_multiome-env/lib/python3.10/site-packages/scanpy/plotting/_anndata.py:839: FutureWarning: \n",
      "\n",
      "Passing `palette` without assigning `hue` is deprecated and will be removed in v0.14.0. Assign the `x` variable to `hue` and set `legend=False` for the same effect.\n",
      "\n",
      "  ax = sns.violinplot(\n",
      "/home/ceger/miniforge3/envs/heart_multiome-env/lib/python3.10/site-packages/scanpy/plotting/_anndata.py:839: FutureWarning: \n",
      "\n",
      "The `scale` parameter has been renamed and will be removed in v0.15.0. Pass `density_norm='width'` for the same effect.\n",
      "  ax = sns.violinplot(\n",
      "/home/ceger/miniforge3/envs/heart_multiome-env/lib/python3.10/site-packages/scanpy/plotting/_anndata.py:839: FutureWarning: \n",
      "\n",
      "Passing `palette` without assigning `hue` is deprecated and will be removed in v0.14.0. Assign the `x` variable to `hue` and set `legend=False` for the same effect.\n",
      "\n",
      "  ax = sns.violinplot(\n",
      "/home/ceger/miniforge3/envs/heart_multiome-env/lib/python3.10/site-packages/scanpy/plotting/_anndata.py:839: FutureWarning: \n",
      "\n",
      "The `scale` parameter has been renamed and will be removed in v0.15.0. Pass `density_norm='width'` for the same effect.\n",
      "  ax = sns.violinplot(\n"
     ]
    }
   ],
   "source": [
    "sc.pl.violin(sample_object, ['total_counts', 'n_genes_by_counts', 'pct_counts_mt', 'pct_counts_ribo', 'doublet_scores', 'G2M_score', 'S_score'],\n",
    "             jitter = 0.2, groupby = 'sample', rotation = 45)"
   ]
  },
  {
   "attachments": {},
   "cell_type": "markdown",
   "metadata": {},
   "source": [
    "### Prepare counts for individual slots"
   ]
  },
  {
   "cell_type": "code",
   "execution_count": 33,
   "metadata": {},
   "outputs": [
    {
     "name": "stdout",
     "output_type": "stream",
     "text": [
      "normalizing counts per cell\n",
      "    finished (0:00:00)\n"
     ]
    },
    {
     "data": {
      "text/plain": [
       "AnnData object with n_obs × n_vars = 46135 × 32285\n",
       "    obs: 'sample', 'genotype', 'group', 'file', 'batch', 'n_genes', 'doublet_scores', 'predicted_doublets', 'n_genes_by_counts', 'total_counts', 'total_counts_mt', 'pct_counts_mt', 'total_counts_ribo', 'pct_counts_ribo', 'percent_mt2', 'n_counts', 'percent_chrY', 'XIST-counts', 'S_score', 'G2M_score'\n",
       "    var: 'gene_ids', 'feature_types', 'genome', 'modality', 'mt', 'ribo', 'n_cells_by_counts', 'mean_counts', 'pct_dropout_by_counts', 'total_counts'\n",
       "    uns: 'sample_colors'\n",
       "    layers: 'counts', 'sqrt_norm'"
      ]
     },
     "execution_count": 33,
     "metadata": {},
     "output_type": "execute_result"
    }
   ],
   "source": [
    "sample_object.raw = sample_object.copy()\n",
    "sample_object.layers['counts'] = sample_object.X.copy()\n",
    "sample_object.layers[\"sqrt_norm\"] = np.sqrt(\n",
    "    sc.pp.normalize_total(sample_object, inplace = False)[\"X\"]\n",
    ")\n",
    "sample_object"
   ]
  },
  {
   "cell_type": "code",
   "execution_count": 34,
   "metadata": {},
   "outputs": [],
   "source": [
    "del(sample_object.obs['predicted_doublets'])"
   ]
  },
  {
   "attachments": {},
   "cell_type": "markdown",
   "metadata": {},
   "source": [
    "### Export object"
   ]
  },
  {
   "cell_type": "raw",
   "metadata": {},
   "source": [
    "sample_object.write(path + 'Kdm6aKO_ALL_GEX-CB_QCed_ctl240116.raw.h5ad')"
   ]
  },
  {
   "cell_type": "code",
   "execution_count": null,
   "metadata": {},
   "outputs": [],
   "source": [
    "sample_object.write_h5ad('../data/Kdm6aKO_ALL_GEX-CB_QCed_ctl240116.raw.h5ad')"
   ]
  }
 ],
 "metadata": {
  "kernelspec": {
   "display_name": "Python 3.9.12 ('base')",
   "language": "python",
   "name": "python3"
  },
  "language_info": {
   "codemirror_mode": {
    "name": "ipython",
    "version": 3
   },
   "file_extension": ".py",
   "mimetype": "text/x-python",
   "name": "python",
   "nbconvert_exporter": "python",
   "pygments_lexer": "ipython3",
   "version": "3.10.13"
  },
  "vscode": {
   "interpreter": {
    "hash": "5c8b703da1b99987fc014172642a3c3ae59e70f45ebb045a3494fa07ba6dca80"
   }
  }
 },
 "nbformat": 4,
 "nbformat_minor": 4
}
