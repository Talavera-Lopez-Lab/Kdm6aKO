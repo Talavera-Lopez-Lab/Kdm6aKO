{
 "cells": [
  {
   "cell_type": "code",
   "execution_count": 9,
   "metadata": {},
   "outputs": [],
   "source": [
    "import os\n",
    "import shutil"
   ]
  },
  {
   "cell_type": "code",
   "execution_count": 6,
   "metadata": {},
   "outputs": [],
   "source": [
    "samples = [\n",
    "    'GSKJ4_sham_51',\n",
    "    'GSKJ4_sham_57',\n",
    "    'GSKJ4_treat_47',\n",
    "    'GSKJ4_treat_52',\n",
    "    'KDM6A_KO_31',\n",
    "    'KDM6A_KO_34',\n",
    "    'KDM6A_wt_11',\n",
    "    'KDM6A_wt_40',\n",
    "]\n",
    "source_dir = '/mnt/LaCIE/ceger/INBOX/becker_kdm6a/cellranger/'\n",
    "target_dir = '../data/raw_data/cellranger/fragments/'"
   ]
  },
  {
   "cell_type": "code",
   "execution_count": 12,
   "metadata": {},
   "outputs": [],
   "source": [
    "for sample in samples:\n",
    "    path_source = os.path.join(source_dir, sample, 'atac_fragments.tsv.gz')\n",
    "    path_target = os.path.join(target_dir, sample + '_atac_fragments.tsv.gz')\n",
    "    if os.path.exists(path_source):\n",
    "        shutil.copyfile(path_source, path_target)"
   ]
  }
 ],
 "metadata": {
  "kernelspec": {
   "display_name": "heart_multiome-env",
   "language": "python",
   "name": "python3"
  },
  "language_info": {
   "codemirror_mode": {
    "name": "ipython",
    "version": 3
   },
   "file_extension": ".py",
   "mimetype": "text/x-python",
   "name": "python",
   "nbconvert_exporter": "python",
   "pygments_lexer": "ipython3",
   "version": "3.10.13"
  }
 },
 "nbformat": 4,
 "nbformat_minor": 2
}
